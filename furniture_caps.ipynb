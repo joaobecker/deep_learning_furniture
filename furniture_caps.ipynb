{
  "nbformat": 4,
  "nbformat_minor": 0,
  "metadata": {
    "colab": {
      "name": "furniture_caps.ipynb",
      "version": "0.3.2",
      "provenance": [],
      "toc_visible": true,
      "include_colab_link": true
    },
    "kernelspec": {
      "name": "python3",
      "display_name": "Python 3"
    },
    "accelerator": "GPU"
  },
  "cells": [
    {
      "cell_type": "markdown",
      "metadata": {
        "id": "view-in-github",
        "colab_type": "text"
      },
      "source": [
        "<a href=\"https://colab.research.google.com/github/joaobecker/deep_learning_furniture/blob/master/furniture_caps.ipynb\" target=\"_parent\"><img src=\"https://colab.research.google.com/assets/colab-badge.svg\" alt=\"Open In Colab\"/></a>"
      ]
    },
    {
      "metadata": {
        "id": "_-9gWnJMxBAU",
        "colab_type": "text"
      },
      "cell_type": "markdown",
      "source": [
        "# Furniture & Home Goods Recognition\n",
        "  As shoppers move online, it’d be a dream come true to have products in photos classified automatically. But, automatic product recognition is challenging because, for the same product, a picture can be taken in different lighting, angles, backgrounds, and levels of occlusion. Meanwhile different fine-grained categories may look very similar, for example, ball chair vs egg chair for furniture, or dutch oven vs french oven for cookware. Therefore, it is time-consuming and hard for a human to categorize manually each type of furniture. This project aims to end with this problem by developing an algorithm that will help online stores move towards automatic product recognition and accurately assign category labels for furniture and home goods images.\n",
        "\n",
        "\n",
        "### Data\n",
        "\n",
        "  The project will be using the data available on Kaggle competition -* iMaterialist Challenge (Furniture) at FGVC5*, and it will apply deep learning, convolutional neural networks, to learn from previous images and identify which category each furniture falls into. \n",
        "\n",
        "\n",
        "### Data Wrangling\n",
        "The data provided on Kaggle was on a json file, which means that it only provided the URLs for the images. Thus, first we had to transform the json file into a dataframe and then clean it to make the URLs available in a format that we can easily use to fetch the images from the web and download to our machine. \n",
        "\n",
        "\n",
        "### Exploratory Data Analysis\n",
        "  By performing exploratory data analysis we found that the data comprises of 128 different categories of furniture and home goods, and a total of 194828 images. \n",
        "  We found that the two categories with most images had close to 4000 images each, then the amount of images lowers down to 1000 to 2500 for most of the categories.\n",
        "  To be able to perform different models and experiment different strategies in our computer, we decided to use only 8 categories with the least images on the dataset. This resulted us having a total of 3699 images.\n",
        "  Finally, we load some of the images to visualize how the furniture and home goods in our dataset looks like.\n",
        "  \n",
        "\n",
        "### Deep Learning Models\n",
        "  The project leverages the power of transfer learning to use the weights and architecture of two models that has been previously trained in millions of images. These two models are VGG-16 and InceptionV3.\n",
        "\n",
        "#### VGG-16\n",
        "-\tThe project applied different transfer learning techniques on the VGG-16 model. We first use the pre-trained model as a feature extractor and then we fine-tuned the pre-trained model.\n",
        "  - The pre-trained model as feature extractor without regularization achieved an accuracy of 93.4% and validation accuracy of 85%. \n",
        "- The pre-trained model as feature extractor with regularization achieved an accuracy of 78.9% and validation accuracy of 83%.\n",
        "  - By fine-tuning the pre-trained model we achieved a result very similar to feature extraction without regularization, accuracy of 93.4% and validation accuracy of 83.6%\n",
        "\n",
        "#### InceptionV3\n",
        "-\tWe used this pre-trained model just as feature extractor. The model was able to achieve a slightly higher accuracy than VGG-16, 93.6% accuracy. However, the validation accuracy was significantly lower, 78.2%.\n",
        "\n",
        "\n",
        "### Results\n",
        "-\tBy leveraging transfer learning from VGG-16 model as feature extractor to our model and image augmentation, we achieved an impressive result of 93.6% accuracy and 85% validation accuracy, even though we only had a total of 3’699  images available in our dataset. Thus, being able to prove that you don’t need to have large dataset with hundreds of thousands of images to get good results.\n"
      ]
    },
    {
      "metadata": {
        "id": "ZNhsLnfWpMnn",
        "colab_type": "text"
      },
      "cell_type": "markdown",
      "source": [
        "Enabling imports from google drive"
      ]
    },
    {
      "metadata": {
        "id": "i-ULyYTSp31E",
        "colab_type": "code",
        "outputId": "8b88dc9f-9b00-4c92-d9f0-69fe3fb9cbaf",
        "colab": {
          "base_uri": "https://localhost:8080/",
          "height": 35
        }
      },
      "cell_type": "code",
      "source": [
        "from google.colab import drive\n",
        "drive.mount('/content/drive')"
      ],
      "execution_count": 82,
      "outputs": [
        {
          "output_type": "stream",
          "text": [
            "Drive already mounted at /content/drive; to attempt to forcibly remount, call drive.mount(\"/content/drive\", force_remount=True).\n"
          ],
          "name": "stdout"
        }
      ]
    },
    {
      "metadata": {
        "id": "92XiogaBqlKa",
        "colab_type": "text"
      },
      "cell_type": "markdown",
      "source": [
        "# Data Wrangling"
      ]
    },
    {
      "metadata": {
        "id": "STxULp0Xn5Yc",
        "colab_type": "code",
        "colab": {}
      },
      "cell_type": "code",
      "source": [
        "import json\n",
        "import matplotlib.pyplot as plt\n",
        "import numpy as np\n",
        "import os\n",
        "import pandas as pd\n",
        "\n",
        "from IPython.core.display import HTML  # for plotting images in a more simple format\n",
        "from pandas.io.json import json_normalize"
      ],
      "execution_count": 0,
      "outputs": []
    },
    {
      "metadata": {
        "id": "vqUIc45tooTt",
        "colab_type": "text"
      },
      "cell_type": "markdown",
      "source": [
        "Importing json file from Google Drive."
      ]
    },
    {
      "metadata": {
        "id": "uel-ol4CorhL",
        "colab_type": "code",
        "colab": {}
      },
      "cell_type": "code",
      "source": [
        "#load data\n",
        "data = json.load(open('drive/My Drive/furniture_categories/imaterialist-challenge-furniture-2018/train.json'))"
      ],
      "execution_count": 0,
      "outputs": []
    },
    {
      "metadata": {
        "id": "dEZP2skMrCnp",
        "colab_type": "text"
      },
      "cell_type": "markdown",
      "source": [
        "To visualize how the json file is formatted, we first call *json_normalize*.\n",
        "  - As we can see below, the main structure has two columns and a dictionary inside.\n",
        "  - So, we will divide both columns to understand the structure of the data."
      ]
    },
    {
      "metadata": {
        "id": "N3x6P74csNvU",
        "colab_type": "code",
        "outputId": "1a3a44b3-a3ef-4a96-fba7-805ba5222850",
        "colab": {
          "base_uri": "https://localhost:8080/",
          "height": 78
        }
      },
      "cell_type": "code",
      "source": [
        "json_normalize(data)"
      ],
      "execution_count": 4,
      "outputs": [
        {
          "output_type": "execute_result",
          "data": {
            "text/html": [
              "<div>\n",
              "<style scoped>\n",
              "    .dataframe tbody tr th:only-of-type {\n",
              "        vertical-align: middle;\n",
              "    }\n",
              "\n",
              "    .dataframe tbody tr th {\n",
              "        vertical-align: top;\n",
              "    }\n",
              "\n",
              "    .dataframe thead th {\n",
              "        text-align: right;\n",
              "    }\n",
              "</style>\n",
              "<table border=\"1\" class=\"dataframe\">\n",
              "  <thead>\n",
              "    <tr style=\"text-align: right;\">\n",
              "      <th></th>\n",
              "      <th>annotations</th>\n",
              "      <th>images</th>\n",
              "    </tr>\n",
              "  </thead>\n",
              "  <tbody>\n",
              "    <tr>\n",
              "      <th>0</th>\n",
              "      <td>[{'image_id': 1, 'label_id': 5}, {'image_id': ...</td>\n",
              "      <td>[{'url': ['https://img13.360buyimg.com/imgzone...</td>\n",
              "    </tr>\n",
              "  </tbody>\n",
              "</table>\n",
              "</div>"
            ],
            "text/plain": [
              "                                         annotations  \\\n",
              "0  [{'image_id': 1, 'label_id': 5}, {'image_id': ...   \n",
              "\n",
              "                                              images  \n",
              "0  [{'url': ['https://img13.360buyimg.com/imgzone...  "
            ]
          },
          "metadata": {
            "tags": []
          },
          "execution_count": 4
        }
      ]
    },
    {
      "metadata": {
        "id": "sPlX1c37rpU6",
        "colab_type": "text"
      },
      "cell_type": "markdown",
      "source": [
        "- Normalizing the annotation column\n",
        "  - As we can see, the annotation column gives us the label id for each image\n",
        "    - So, we will store this dataframe as labels"
      ]
    },
    {
      "metadata": {
        "id": "blAMM3k3sZ9Y",
        "colab_type": "code",
        "outputId": "4d6cf101-7ab9-4b6d-9340-904382a934fa",
        "colab": {
          "base_uri": "https://localhost:8080/",
          "height": 198
        }
      },
      "cell_type": "code",
      "source": [
        "labels = json_normalize(data['annotations'])\n",
        "labels.head()"
      ],
      "execution_count": 5,
      "outputs": [
        {
          "output_type": "execute_result",
          "data": {
            "text/html": [
              "<div>\n",
              "<style scoped>\n",
              "    .dataframe tbody tr th:only-of-type {\n",
              "        vertical-align: middle;\n",
              "    }\n",
              "\n",
              "    .dataframe tbody tr th {\n",
              "        vertical-align: top;\n",
              "    }\n",
              "\n",
              "    .dataframe thead th {\n",
              "        text-align: right;\n",
              "    }\n",
              "</style>\n",
              "<table border=\"1\" class=\"dataframe\">\n",
              "  <thead>\n",
              "    <tr style=\"text-align: right;\">\n",
              "      <th></th>\n",
              "      <th>image_id</th>\n",
              "      <th>label_id</th>\n",
              "    </tr>\n",
              "  </thead>\n",
              "  <tbody>\n",
              "    <tr>\n",
              "      <th>0</th>\n",
              "      <td>1</td>\n",
              "      <td>5</td>\n",
              "    </tr>\n",
              "    <tr>\n",
              "      <th>1</th>\n",
              "      <td>2</td>\n",
              "      <td>5</td>\n",
              "    </tr>\n",
              "    <tr>\n",
              "      <th>2</th>\n",
              "      <td>3</td>\n",
              "      <td>5</td>\n",
              "    </tr>\n",
              "    <tr>\n",
              "      <th>3</th>\n",
              "      <td>4</td>\n",
              "      <td>5</td>\n",
              "    </tr>\n",
              "    <tr>\n",
              "      <th>4</th>\n",
              "      <td>5</td>\n",
              "      <td>5</td>\n",
              "    </tr>\n",
              "  </tbody>\n",
              "</table>\n",
              "</div>"
            ],
            "text/plain": [
              "   image_id  label_id\n",
              "0         1         5\n",
              "1         2         5\n",
              "2         3         5\n",
              "3         4         5\n",
              "4         5         5"
            ]
          },
          "metadata": {
            "tags": []
          },
          "execution_count": 5
        }
      ]
    },
    {
      "metadata": {
        "id": "oMdr8J-FsA1r",
        "colab_type": "text"
      },
      "cell_type": "markdown",
      "source": [
        "- Normalizing the images column\n",
        "  - As we can see, the annotation column gives us the url id for each image\n",
        "    - So, we will store this dataframe as images"
      ]
    },
    {
      "metadata": {
        "id": "0C53ewxJuIED",
        "colab_type": "code",
        "outputId": "16a621e3-77c2-4039-beb0-4b946b78c31e",
        "colab": {
          "base_uri": "https://localhost:8080/",
          "height": 198
        }
      },
      "cell_type": "code",
      "source": [
        "images = json_normalize(data['images'])\n",
        "images.head()"
      ],
      "execution_count": 6,
      "outputs": [
        {
          "output_type": "execute_result",
          "data": {
            "text/html": [
              "<div>\n",
              "<style scoped>\n",
              "    .dataframe tbody tr th:only-of-type {\n",
              "        vertical-align: middle;\n",
              "    }\n",
              "\n",
              "    .dataframe tbody tr th {\n",
              "        vertical-align: top;\n",
              "    }\n",
              "\n",
              "    .dataframe thead th {\n",
              "        text-align: right;\n",
              "    }\n",
              "</style>\n",
              "<table border=\"1\" class=\"dataframe\">\n",
              "  <thead>\n",
              "    <tr style=\"text-align: right;\">\n",
              "      <th></th>\n",
              "      <th>image_id</th>\n",
              "      <th>url</th>\n",
              "    </tr>\n",
              "  </thead>\n",
              "  <tbody>\n",
              "    <tr>\n",
              "      <th>0</th>\n",
              "      <td>1</td>\n",
              "      <td>[https://img13.360buyimg.com/imgzone/jfs/t2857...</td>\n",
              "    </tr>\n",
              "    <tr>\n",
              "      <th>1</th>\n",
              "      <td>2</td>\n",
              "      <td>[http://www.tengdakeli.cn/350/timg01/uploaded/...</td>\n",
              "    </tr>\n",
              "    <tr>\n",
              "      <th>2</th>\n",
              "      <td>3</td>\n",
              "      <td>[https://img13.360buyimg.com/imgzone/jfs/t8899...</td>\n",
              "    </tr>\n",
              "    <tr>\n",
              "      <th>3</th>\n",
              "      <td>4</td>\n",
              "      <td>[http://img4.tbcdn.cn/tfscom/i1/2855447419/TB2...</td>\n",
              "    </tr>\n",
              "    <tr>\n",
              "      <th>4</th>\n",
              "      <td>5</td>\n",
              "      <td>[http://a.vpimg4.com/upload/merchandise/287883...</td>\n",
              "    </tr>\n",
              "  </tbody>\n",
              "</table>\n",
              "</div>"
            ],
            "text/plain": [
              "   image_id                                                url\n",
              "0         1  [https://img13.360buyimg.com/imgzone/jfs/t2857...\n",
              "1         2  [http://www.tengdakeli.cn/350/timg01/uploaded/...\n",
              "2         3  [https://img13.360buyimg.com/imgzone/jfs/t8899...\n",
              "3         4  [http://img4.tbcdn.cn/tfscom/i1/2855447419/TB2...\n",
              "4         5  [http://a.vpimg4.com/upload/merchandise/287883..."
            ]
          },
          "metadata": {
            "tags": []
          },
          "execution_count": 6
        }
      ]
    },
    {
      "metadata": {
        "id": "_AaY4XVFsJ8c",
        "colab_type": "text"
      },
      "cell_type": "markdown",
      "source": [
        "- Now that we have normalized both columns and have a proper dataframe, we will perform a inner join.\n",
        "  - The inner join will be based on image_id, as it is what represents each images and label in both sets"
      ]
    },
    {
      "metadata": {
        "id": "jtL7bzxQu1RS",
        "colab_type": "code",
        "outputId": "4538a11f-e6cc-471f-b113-60930bd24162",
        "colab": {
          "base_uri": "https://localhost:8080/",
          "height": 198
        }
      },
      "cell_type": "code",
      "source": [
        "train_data = images.merge(labels, how='inner', on=['image_id'])\n",
        "train_data.head()"
      ],
      "execution_count": 7,
      "outputs": [
        {
          "output_type": "execute_result",
          "data": {
            "text/html": [
              "<div>\n",
              "<style scoped>\n",
              "    .dataframe tbody tr th:only-of-type {\n",
              "        vertical-align: middle;\n",
              "    }\n",
              "\n",
              "    .dataframe tbody tr th {\n",
              "        vertical-align: top;\n",
              "    }\n",
              "\n",
              "    .dataframe thead th {\n",
              "        text-align: right;\n",
              "    }\n",
              "</style>\n",
              "<table border=\"1\" class=\"dataframe\">\n",
              "  <thead>\n",
              "    <tr style=\"text-align: right;\">\n",
              "      <th></th>\n",
              "      <th>image_id</th>\n",
              "      <th>url</th>\n",
              "      <th>label_id</th>\n",
              "    </tr>\n",
              "  </thead>\n",
              "  <tbody>\n",
              "    <tr>\n",
              "      <th>0</th>\n",
              "      <td>1</td>\n",
              "      <td>[https://img13.360buyimg.com/imgzone/jfs/t2857...</td>\n",
              "      <td>5</td>\n",
              "    </tr>\n",
              "    <tr>\n",
              "      <th>1</th>\n",
              "      <td>2</td>\n",
              "      <td>[http://www.tengdakeli.cn/350/timg01/uploaded/...</td>\n",
              "      <td>5</td>\n",
              "    </tr>\n",
              "    <tr>\n",
              "      <th>2</th>\n",
              "      <td>3</td>\n",
              "      <td>[https://img13.360buyimg.com/imgzone/jfs/t8899...</td>\n",
              "      <td>5</td>\n",
              "    </tr>\n",
              "    <tr>\n",
              "      <th>3</th>\n",
              "      <td>4</td>\n",
              "      <td>[http://img4.tbcdn.cn/tfscom/i1/2855447419/TB2...</td>\n",
              "      <td>5</td>\n",
              "    </tr>\n",
              "    <tr>\n",
              "      <th>4</th>\n",
              "      <td>5</td>\n",
              "      <td>[http://a.vpimg4.com/upload/merchandise/287883...</td>\n",
              "      <td>5</td>\n",
              "    </tr>\n",
              "  </tbody>\n",
              "</table>\n",
              "</div>"
            ],
            "text/plain": [
              "   image_id                                                url  label_id\n",
              "0         1  [https://img13.360buyimg.com/imgzone/jfs/t2857...         5\n",
              "1         2  [http://www.tengdakeli.cn/350/timg01/uploaded/...         5\n",
              "2         3  [https://img13.360buyimg.com/imgzone/jfs/t8899...         5\n",
              "3         4  [http://img4.tbcdn.cn/tfscom/i1/2855447419/TB2...         5\n",
              "4         5  [http://a.vpimg4.com/upload/merchandise/287883...         5"
            ]
          },
          "metadata": {
            "tags": []
          },
          "execution_count": 7
        }
      ]
    },
    {
      "metadata": {
        "id": "MR7nD5ewt8X5",
        "colab_type": "code",
        "outputId": "33fc0dbd-78e0-4750-86e3-f8684448afb6",
        "colab": {
          "base_uri": "https://localhost:8080/",
          "height": 35
        }
      },
      "cell_type": "code",
      "source": [
        "type(train_data['url'][0])"
      ],
      "execution_count": 8,
      "outputs": [
        {
          "output_type": "execute_result",
          "data": {
            "text/plain": [
              "list"
            ]
          },
          "metadata": {
            "tags": []
          },
          "execution_count": 8
        }
      ]
    },
    {
      "metadata": {
        "id": "wYzglKNNv1PF",
        "colab_type": "text"
      },
      "cell_type": "markdown",
      "source": [
        "- Nice, now we have a proper data set.\n",
        "  - However, there is something weird, the url column is a list.\n",
        "    - For us to get the image from the url, the url needs to be a string, and not a list. So, let's change that."
      ]
    },
    {
      "metadata": {
        "id": "8DDlImkK4mcF",
        "colab_type": "code",
        "colab": {}
      },
      "cell_type": "code",
      "source": [
        "url = [''.join(map(str, image)) for image in train_data.url]\n",
        "train_data['url'] = url"
      ],
      "execution_count": 0,
      "outputs": []
    },
    {
      "metadata": {
        "id": "RGZc-WeDtxge",
        "colab_type": "text"
      },
      "cell_type": "markdown",
      "source": [
        "- Done, now if we call the type function on the url, it will show us that it is a string."
      ]
    },
    {
      "metadata": {
        "id": "9XGXU8Bk4wxW",
        "colab_type": "code",
        "outputId": "8dcaf5db-999c-4244-ad70-8c8d29f4a85d",
        "colab": {
          "base_uri": "https://localhost:8080/",
          "height": 198
        }
      },
      "cell_type": "code",
      "source": [
        "train_data.head()"
      ],
      "execution_count": 10,
      "outputs": [
        {
          "output_type": "execute_result",
          "data": {
            "text/html": [
              "<div>\n",
              "<style scoped>\n",
              "    .dataframe tbody tr th:only-of-type {\n",
              "        vertical-align: middle;\n",
              "    }\n",
              "\n",
              "    .dataframe tbody tr th {\n",
              "        vertical-align: top;\n",
              "    }\n",
              "\n",
              "    .dataframe thead th {\n",
              "        text-align: right;\n",
              "    }\n",
              "</style>\n",
              "<table border=\"1\" class=\"dataframe\">\n",
              "  <thead>\n",
              "    <tr style=\"text-align: right;\">\n",
              "      <th></th>\n",
              "      <th>image_id</th>\n",
              "      <th>url</th>\n",
              "      <th>label_id</th>\n",
              "    </tr>\n",
              "  </thead>\n",
              "  <tbody>\n",
              "    <tr>\n",
              "      <th>0</th>\n",
              "      <td>1</td>\n",
              "      <td>https://img13.360buyimg.com/imgzone/jfs/t2857/...</td>\n",
              "      <td>5</td>\n",
              "    </tr>\n",
              "    <tr>\n",
              "      <th>1</th>\n",
              "      <td>2</td>\n",
              "      <td>http://www.tengdakeli.cn/350/timg01/uploaded/i...</td>\n",
              "      <td>5</td>\n",
              "    </tr>\n",
              "    <tr>\n",
              "      <th>2</th>\n",
              "      <td>3</td>\n",
              "      <td>https://img13.360buyimg.com/imgzone/jfs/t8899/...</td>\n",
              "      <td>5</td>\n",
              "    </tr>\n",
              "    <tr>\n",
              "      <th>3</th>\n",
              "      <td>4</td>\n",
              "      <td>http://img4.tbcdn.cn/tfscom/i1/2855447419/TB2S...</td>\n",
              "      <td>5</td>\n",
              "    </tr>\n",
              "    <tr>\n",
              "      <th>4</th>\n",
              "      <td>5</td>\n",
              "      <td>http://a.vpimg4.com/upload/merchandise/287883/...</td>\n",
              "      <td>5</td>\n",
              "    </tr>\n",
              "  </tbody>\n",
              "</table>\n",
              "</div>"
            ],
            "text/plain": [
              "   image_id                                                url  label_id\n",
              "0         1  https://img13.360buyimg.com/imgzone/jfs/t2857/...         5\n",
              "1         2  http://www.tengdakeli.cn/350/timg01/uploaded/i...         5\n",
              "2         3  https://img13.360buyimg.com/imgzone/jfs/t8899/...         5\n",
              "3         4  http://img4.tbcdn.cn/tfscom/i1/2855447419/TB2S...         5\n",
              "4         5  http://a.vpimg4.com/upload/merchandise/287883/...         5"
            ]
          },
          "metadata": {
            "tags": []
          },
          "execution_count": 10
        }
      ]
    },
    {
      "metadata": {
        "id": "wSF8K1mwujak",
        "colab_type": "code",
        "outputId": "37f3e3f0-6814-405f-85a1-54da794c295d",
        "colab": {
          "base_uri": "https://localhost:8080/",
          "height": 35
        }
      },
      "cell_type": "code",
      "source": [
        "type(train_data['url'][0]) # calling type on url"
      ],
      "execution_count": 11,
      "outputs": [
        {
          "output_type": "execute_result",
          "data": {
            "text/plain": [
              "str"
            ]
          },
          "metadata": {
            "tags": []
          },
          "execution_count": 11
        }
      ]
    },
    {
      "metadata": {
        "id": "whWI2SnlzPCs",
        "colab_type": "text"
      },
      "cell_type": "markdown",
      "source": [
        "Now that our dataset is looking good, let's explore the data."
      ]
    },
    {
      "metadata": {
        "id": "Twz7SNsEzZ9Y",
        "colab_type": "text"
      },
      "cell_type": "markdown",
      "source": [
        "# Exploratory Data Analysis"
      ]
    },
    {
      "metadata": {
        "id": "8b-bd50GvQAs",
        "colab_type": "code",
        "outputId": "4c94d289-c51f-4c88-b01f-f81e61c9caca",
        "colab": {
          "base_uri": "https://localhost:8080/",
          "height": 155
        }
      },
      "cell_type": "code",
      "source": [
        "train_data.info()"
      ],
      "execution_count": 12,
      "outputs": [
        {
          "output_type": "stream",
          "text": [
            "<class 'pandas.core.frame.DataFrame'>\n",
            "Int64Index: 194828 entries, 0 to 194827\n",
            "Data columns (total 3 columns):\n",
            "image_id    194828 non-null int64\n",
            "url         194828 non-null object\n",
            "label_id    194828 non-null int64\n",
            "dtypes: int64(2), object(1)\n",
            "memory usage: 10.9+ MB\n"
          ],
          "name": "stdout"
        }
      ]
    },
    {
      "metadata": {
        "id": "THxPN6ZWzsk8",
        "colab_type": "code",
        "outputId": "966a89bb-85aa-4f64-e23a-fdf3cfb45d66",
        "colab": {
          "base_uri": "https://localhost:8080/",
          "height": 35
        }
      },
      "cell_type": "code",
      "source": [
        "len(train_data['label_id'].value_counts())"
      ],
      "execution_count": 13,
      "outputs": [
        {
          "output_type": "execute_result",
          "data": {
            "text/plain": [
              "128"
            ]
          },
          "metadata": {
            "tags": []
          },
          "execution_count": 13
        }
      ]
    },
    {
      "metadata": {
        "id": "MDv6Cm1IvZfg",
        "colab_type": "text"
      },
      "cell_type": "markdown",
      "source": [
        "- Our dataset has a total of 194 828 data images and 128 unique categories of furnitures and home goods.\n",
        "  - Now, let's see which are the most and least represented categories in our dataset."
      ]
    },
    {
      "metadata": {
        "id": "ytmImCGSwNs-",
        "colab_type": "code",
        "outputId": "8ab9e5a3-9534-4a48-dfe7-e9f6058ecb47",
        "colab": {
          "base_uri": "https://localhost:8080/",
          "height": 225
        }
      },
      "cell_type": "code",
      "source": [
        "# Top 10 categories\n",
        "print(train_data['label_id'].value_counts().head(10))\n",
        "\n",
        "# Total amount of categories\n",
        "print(\"Amount of furniture categories - {}\".format(len(train_data['label_id'].value_counts())))"
      ],
      "execution_count": 14,
      "outputs": [
        {
          "output_type": "stream",
          "text": [
            "20     3996\n",
            "42     3973\n",
            "92     2666\n",
            "12     2609\n",
            "125    2598\n",
            "21     2577\n",
            "122    2462\n",
            "3      2368\n",
            "89     2353\n",
            "93     2350\n",
            "Name: label_id, dtype: int64\n",
            "Amount of furniture categories - 128\n"
          ],
          "name": "stdout"
        }
      ]
    },
    {
      "metadata": {
        "id": "stWq-chn0wuX",
        "colab_type": "text"
      },
      "cell_type": "markdown",
      "source": [
        "We can see that the most represented category has almost twice the amount of images than the 10th category most represented.\n",
        "  - Now, let's see in a graph how the top 50 categories are represented by images."
      ]
    },
    {
      "metadata": {
        "id": "m_9lDtZVwSVM",
        "colab_type": "code",
        "outputId": "2f4f4dca-437d-483e-f16c-9705512675f4",
        "colab": {
          "base_uri": "https://localhost:8080/",
          "height": 475
        }
      },
      "cell_type": "code",
      "source": [
        "# Top fifty categories with most images\n",
        "top_fifty = train_data['label_id'].value_counts().head(50)\n",
        "\n",
        "\n",
        "plt.figure(figsize=(10,7))\n",
        "plt.bar(np.arange(50), top_fifty)\n",
        "plt.title('Top 50 Furniture & Home Goods Categories With Most Images')\n",
        "plt.xlabel('Different Categories')\n",
        "plt.ylabel('Amount of images')"
      ],
      "execution_count": 107,
      "outputs": [
        {
          "output_type": "execute_result",
          "data": {
            "text/plain": [
              "Text(0, 0.5, 'Amount of images')"
            ]
          },
          "metadata": {
            "tags": []
          },
          "execution_count": 107
        },
        {
          "output_type": "display_data",
          "data": {
            "image/png": "[encoded data removed]",
            "text/plain": [
              "<Figure size 720x504 with 1 Axes>"
            ]
          },
          "metadata": {
            "tags": []
          }
        }
      ]
    },
    {
      "metadata": {
        "id": "_CUtOkdV1bQg",
        "colab_type": "text"
      },
      "cell_type": "markdown",
      "source": [
        "Now, let's see the bottom 50 categories"
      ]
    },
    {
      "metadata": {
        "id": "-LIF4z3EwiyG",
        "colab_type": "code",
        "outputId": "f5f7d0da-0fb5-497b-863b-1e958c838958",
        "colab": {
          "base_uri": "https://localhost:8080/",
          "height": 475
        }
      },
      "cell_type": "code",
      "source": [
        "# The 50 categories with least image representation\n",
        "bottom_fifty = train_data['label_id'].value_counts(ascending=True).head(50)\n",
        "\n",
        "plt.figure(figsize=(10,7))\n",
        "plt.bar(np.arange(50), bottom_fifty)\n",
        "plt.title('The 50 Categories With Least Image Representation')\n",
        "plt.xlabel('Different Categories')\n",
        "plt.ylabel('Amount of images')"
      ],
      "execution_count": 16,
      "outputs": [
        {
          "output_type": "execute_result",
          "data": {
            "text/plain": [
              "Text(0, 0.5, 'Amount of images')"
            ]
          },
          "metadata": {
            "tags": []
          },
          "execution_count": 16
        },
        {
          "output_type": "display_data",
          "data": {
            "image/png": "[encoded data removed]",
            "text/plain": [
              "<Figure size 720x504 with 1 Axes>"
            ]
          },
          "metadata": {
            "tags": []
          }
        }
      ]
    },
    {
      "metadata": {
        "id": "TuOwHg2b2SP8",
        "colab_type": "text"
      },
      "cell_type": "markdown",
      "source": [
        "From the graphs above, we can see that there are 2 categories that have close to 4000 images, but then the amount of images to each category declines, and most categories have more than 1000 images."
      ]
    },
    {
      "metadata": {
        "id": "9fSOPY6B24kN",
        "colab_type": "text"
      },
      "cell_type": "markdown",
      "source": [
        "#### Visualizing Images"
      ]
    },
    {
      "metadata": {
        "id": "Wsdej1JJ3BLz",
        "colab_type": "text"
      },
      "cell_type": "markdown",
      "source": [
        "At this section, we will create a function to visualize random image of diffferent categories of furniture and home goods available in our dataset."
      ]
    },
    {
      "metadata": {
        "id": "LvA_Hwilyod-",
        "colab_type": "code",
        "colab": {}
      },
      "cell_type": "code",
      "source": [
        "def display_image(label_id, number_of_display, seed=123):\n",
        "    labeled_data = train_data[train_data.label_id == label_id] # Select the part of the data that contains the id you want to display\n",
        "    labeled_data = labeled_data.sample(number_of_display, random_state=seed) # Randomly select the amount of data you selected to display\n",
        "    img_style = \"width: 180px; margin: 4px; float: left; border: 1px solid black;\"  # CSS, setting the formate to display images.\n",
        "    images_list = ''.join([f\"<img style='{img_style}' src='{u}' />\" for u in labeled_data.url]) # HTML, with a comprehension list to join the images we want \n",
        "    display(HTML(images_list))"
      ],
      "execution_count": 0,
      "outputs": []
    },
    {
      "metadata": {
        "id": "-Ka8pNYHzQoH",
        "colab_type": "code",
        "outputId": "fc90fe23-0174-4f38-b921-176f18ea03ab",
        "colab": {
          "base_uri": "https://localhost:8080/",
          "height": 423
        }
      },
      "cell_type": "code",
      "source": [
        "# Select the furniture with label id equal to 70 and display 9 images\n",
        "display_image(label_id=70, number_of_display=9)"
      ],
      "execution_count": 18,
      "outputs": [
        {
          "output_type": "display_data",
          "data": {
            "text/html": [
              "<img style='width: 180px; margin: 4px; float: left; border: 1px solid black;' src='http://imgsrc.baidu.com/imgad/pic/item/f636afc379310a55fedc48e6bd4543a982261023.jpg' /><img style='width: 180px; margin: 4px; float: left; border: 1px solid black;' src='https://img12.360buyimg.com/imgzone/jfs/t3181/236/5212994315/336966/7a324297/5864cbdcN91580570.jpg' /><img style='width: 180px; margin: 4px; float: left; border: 1px solid black;' src='http://img11.360buyimg.com/popWaterMark/jfs/t442/193/398127332/267426/ae26a3a2/541ab803N0232d6f2.jpg' /><img style='width: 180px; margin: 4px; float: left; border: 1px solid black;' src='https://img.alicdn.com/imgextra/TB2345ZtHtlpuFjSspoXXbcDpXa_!!1776199848.jpg' /><img style='width: 180px; margin: 4px; float: left; border: 1px solid black;' src='https://img11.360buyimg.com/imgzone/jfs/t8059/4/177360209/337221/f1e1a913/59a26730N57e73e7d.jpg' /><img style='width: 180px; margin: 4px; float: left; border: 1px solid black;' src='http://image1.yihaojiaju.com/24/48/SysImg/0/2017/08/21/092102010.jpg' /><img style='width: 180px; margin: 4px; float: left; border: 1px solid black;' src='http://m.360buyimg.com/n12/jfs/t1354/243/889951280/396900/94cbf744/55b06221N91d4897f.jpg%21q70.jpg' /><img style='width: 180px; margin: 4px; float: left; border: 1px solid black;' src='http://img-qncdn2.meilijia.com/photos/37c019b781fcdde9d133dc0d14bcd504_s730.jpg' /><img style='width: 180px; margin: 4px; float: left; border: 1px solid black;' src='https://img11.360buyimg.com/imgzone/jfs/t5608/137/5856814901/231027/2b5913d9/59661db9N7d297948.jpg' />"
            ],
            "text/plain": [
              "<IPython.core.display.HTML object>"
            ]
          },
          "metadata": {
            "tags": []
          }
        }
      ]
    },
    {
      "metadata": {
        "id": "2pd2VdxhzR-v",
        "colab_type": "code",
        "outputId": "166bccc7-1f94-411e-89c5-9943f75b782b",
        "colab": {
          "base_uri": "https://localhost:8080/",
          "height": 397
        }
      },
      "cell_type": "code",
      "source": [
        "# Select the furniture with label id equal to 25 and display 9 images\n",
        "display_image(label_id=25, number_of_display=9)"
      ],
      "execution_count": 19,
      "outputs": [
        {
          "output_type": "display_data",
          "data": {
            "text/html": [
              "<img style='width: 180px; margin: 4px; float: left; border: 1px solid black;' src='https://img.alicdn.com/imgextra/TB2I16bXNHI8KJjy1zbXXaxdpXa_!!3483594007.jpg' /><img style='width: 180px; margin: 4px; float: left; border: 1px solid black;' src='https://img10.360buyimg.com/imgzone/jfs/t7384/242/3593519594/382678/94fdc4b9/59f2c256N49e7b947.jpg' /><img style='width: 180px; margin: 4px; float: left; border: 1px solid black;' src='https://img12.360buyimg.com/imgzone/jfs/t13852/81/620898097/207163/9cc9b826/5a0fdf13Ncea2a1fe.jpg' /><img style='width: 180px; margin: 4px; float: left; border: 1px solid black;' src='https://img.alicdn.com/imgextra/TB2M_Isf_SPY1JjSZPcXXXIwpXa_!!2140899646.jpg' /><img style='width: 180px; margin: 4px; float: left; border: 1px solid black;' src='http://img1.windmsn.com/a/0/5/594/59441.jpg' /><img style='width: 180px; margin: 4px; float: left; border: 1px solid black;' src='https://img11.360buyimg.com/imgzone/jfs/t11161/286/1307525188/149981/b4e2a0e8/59ffd3efN2474f548.jpg' /><img style='width: 180px; margin: 4px; float: left; border: 1px solid black;' src='https://img12.360buyimg.com/imgzone/jfs/t15733/184/651463975/298731/11eb3f0d/5a37a12aN92c13991.jpg' /><img style='width: 180px; margin: 4px; float: left; border: 1px solid black;' src='https://img14.360buyimg.com/imgzone/jfs/t16405/286/1154274546/267293/60cdcd03/5a4d87eeNfb85fde4.jpg' /><img style='width: 180px; margin: 4px; float: left; border: 1px solid black;' src='https://img10.360buyimg.com/imgzone/jfs/t15328/147/103171403/236905/ccd0239a/5a239753Nbd325805.jpg' />"
            ],
            "text/plain": [
              "<IPython.core.display.HTML object>"
            ]
          },
          "metadata": {
            "tags": []
          }
        }
      ]
    },
    {
      "metadata": {
        "id": "0hXJKNvv2ivF",
        "colab_type": "code",
        "outputId": "55904dc0-653a-45ad-970a-20cab06888dc",
        "colab": {
          "base_uri": "https://localhost:8080/",
          "height": 460
        }
      },
      "cell_type": "code",
      "source": [
        "# Select the furniture with label id equal to 3 and display 9 images\n",
        "display_image(label_id=3, number_of_display=9)"
      ],
      "execution_count": 20,
      "outputs": [
        {
          "output_type": "display_data",
          "data": {
            "text/html": [
              "<img style='width: 180px; margin: 4px; float: left; border: 1px solid black;' src='http://www.jtflbg.com/upload_files/qb_sell_/17/1_20130706190716_RTA2MEQtMQ==.jpg' /><img style='width: 180px; margin: 4px; float: left; border: 1px solid black;' src='https://img12.360buyimg.com/imgzone/jfs/t1072/337/496423201/93562/ee44c32d/552b68edN1a7d686d.jpg' /><img style='width: 180px; margin: 4px; float: left; border: 1px solid black;' src='http://d6.yihaodianimg.com/N06/M01/83/B7/CgQIzlWJFaGAeQFEAAR_16RJNPk50700.jpg' /><img style='width: 180px; margin: 4px; float: left; border: 1px solid black;' src='https://img13.360buyimg.com/imgzone/jfs/t9391/264/175178757/343509/8295fcce/59a26d60Nfaab7284.jpg' /><img style='width: 180px; margin: 4px; float: left; border: 1px solid black;' src='https://img.alicdn.com/imgextra/TB2N38cXxuaVKJjSZFjXXcjmpXa_!!786838563.jpg' /><img style='width: 180px; margin: 4px; float: left; border: 1px solid black;' src='https://img12.360buyimg.com/imgzone/jfs/t2653/140/4076615267/334247/e1eb3f98/57abce14N65ed0877.jpg' /><img style='width: 180px; margin: 4px; float: left; border: 1px solid black;' src='http://img10.360buyimg.com/popWaterMark/jfs/t586/324/1106783991/212469/477d817d/54b0d2bcN6429d67f.jpg' /><img style='width: 180px; margin: 4px; float: left; border: 1px solid black;' src='https://img.alicdn.com/imgextra/TB2eXwylmfD8KJjSszhXXbIJFXa_!!27291238.jpg' /><img style='width: 180px; margin: 4px; float: left; border: 1px solid black;' src='http://img006.hc360.cn/m7/M04/B7/4B/wKhQo1VvjjiEEaV7AAAAAFnQFzM467.jpg' />"
            ],
            "text/plain": [
              "<IPython.core.display.HTML object>"
            ]
          },
          "metadata": {
            "tags": []
          }
        }
      ]
    },
    {
      "metadata": {
        "id": "i66GEf0g2KSl",
        "colab_type": "text"
      },
      "cell_type": "markdown",
      "source": [
        "# Downloading and Manipulating Images from URLs"
      ]
    },
    {
      "metadata": {
        "id": "klwKIQiN42Dg",
        "colab_type": "text"
      },
      "cell_type": "markdown",
      "source": [
        "Since this is a large dataset, with more than 194'000 images, it will take a long time to import all these images to the machine and it will require a powerful computer to apply any deep learning algorithm.\n",
        "  - Therefore, we will be using a subset dataset, containing only 8 categories of furniture and home goods with the least images."
      ]
    },
    {
      "metadata": {
        "id": "Qsq5B6wI2Gum",
        "colab_type": "code",
        "outputId": "b464d0ab-f28a-4f57-af63-3c700d4e4825",
        "colab": {
          "base_uri": "https://localhost:8080/",
          "height": 198
        }
      },
      "cell_type": "code",
      "source": [
        "bottom_eight = train_data['label_id'].value_counts(ascending=True).head(8).index  # Selecting the 8 label ids with the least images\n",
        "\n",
        "furniture = train_data[train_data['label_id'].isin(bottom_eight)]  # Creating a dataset with only the 8 label ids selected above\n",
        "furniture.head()"
      ],
      "execution_count": 21,
      "outputs": [
        {
          "output_type": "execute_result",
          "data": {
            "text/html": [
              "<div>\n",
              "<style scoped>\n",
              "    .dataframe tbody tr th:only-of-type {\n",
              "        vertical-align: middle;\n",
              "    }\n",
              "\n",
              "    .dataframe tbody tr th {\n",
              "        vertical-align: top;\n",
              "    }\n",
              "\n",
              "    .dataframe thead th {\n",
              "        text-align: right;\n",
              "    }\n",
              "</style>\n",
              "<table border=\"1\" class=\"dataframe\">\n",
              "  <thead>\n",
              "    <tr style=\"text-align: right;\">\n",
              "      <th></th>\n",
              "      <th>image_id</th>\n",
              "      <th>url</th>\n",
              "      <th>label_id</th>\n",
              "    </tr>\n",
              "  </thead>\n",
              "  <tbody>\n",
              "    <tr>\n",
              "      <th>8478</th>\n",
              "      <td>8479</td>\n",
              "      <td>https://img14.360buyimg.com/imgzone/jfs/t3532/...</td>\n",
              "      <td>9</td>\n",
              "    </tr>\n",
              "    <tr>\n",
              "      <th>8479</th>\n",
              "      <td>8480</td>\n",
              "      <td>https://img13.360buyimg.com/imgzone/jfs/t3856/...</td>\n",
              "      <td>9</td>\n",
              "    </tr>\n",
              "    <tr>\n",
              "      <th>8480</th>\n",
              "      <td>8481</td>\n",
              "      <td>https://img10.360buyimg.com/imgzone/jfs/t3238/...</td>\n",
              "      <td>9</td>\n",
              "    </tr>\n",
              "    <tr>\n",
              "      <th>8481</th>\n",
              "      <td>8482</td>\n",
              "      <td>https://img.alicdn.com/imgextra/TB2.lt3aV6.F1J...</td>\n",
              "      <td>9</td>\n",
              "    </tr>\n",
              "    <tr>\n",
              "      <th>8482</th>\n",
              "      <td>8483</td>\n",
              "      <td>https://img14.360buyimg.com/imgzone/jfs/t16030...</td>\n",
              "      <td>9</td>\n",
              "    </tr>\n",
              "  </tbody>\n",
              "</table>\n",
              "</div>"
            ],
            "text/plain": [
              "      image_id                                                url  label_id\n",
              "8478      8479  https://img14.360buyimg.com/imgzone/jfs/t3532/...         9\n",
              "8479      8480  https://img13.360buyimg.com/imgzone/jfs/t3856/...         9\n",
              "8480      8481  https://img10.360buyimg.com/imgzone/jfs/t3238/...         9\n",
              "8481      8482  https://img.alicdn.com/imgextra/TB2.lt3aV6.F1J...         9\n",
              "8482      8483  https://img14.360buyimg.com/imgzone/jfs/t16030...         9"
            ]
          },
          "metadata": {
            "tags": []
          },
          "execution_count": 21
        }
      ]
    },
    {
      "metadata": {
        "id": "pKpDcvHS6Uyl",
        "colab_type": "text"
      },
      "cell_type": "markdown",
      "source": [
        "Now, we will create a function to download the images from the URLs and store in our machine."
      ]
    },
    {
      "metadata": {
        "id": "NLksDVaw5K9L",
        "colab_type": "code",
        "colab": {}
      },
      "cell_type": "code",
      "source": [
        "from tqdm import tqdm\n",
        "import urllib3 #Url Opener\n",
        "\n",
        "http = urllib3.PoolManager(50)\n",
        "failed = [] # store the id of failed images.\n",
        "\n",
        "\n",
        "def download_img(id_, url_):\n",
        "    try: \n",
        "        req = http.request('GET',url_)\n",
        "        f = open(\"drive/My Drive/furniture_categories/imaterialist-challenge-furniture-2018/train/\"+str(id_)+\".jpg\",'wb')\n",
        "        f.write(req.data)\n",
        "        f.close()\n",
        "    except:\n",
        "        failed.append(str(id_))"
      ],
      "execution_count": 0,
      "outputs": []
    },
    {
      "metadata": {
        "id": "ur67yEAh_uPM",
        "colab_type": "code",
        "colab": {}
      },
      "cell_type": "code",
      "source": [
        "from multiprocessing.pool import ThreadPool as Pool # from multiprocessing import Pool\n",
        "\n",
        "pool_size = 100  # your \"parallelness\"\n",
        "pool = Pool(pool_size)"
      ],
      "execution_count": 0,
      "outputs": []
    },
    {
      "metadata": {
        "id": "lQspeatQ7W8m",
        "colab_type": "text"
      },
      "cell_type": "markdown",
      "source": [
        "Since we have already downloaded the images, this part is commented out, so we don't download it twice."
      ]
    },
    {
      "metadata": {
        "id": "DjBb81PhDVqn",
        "colab_type": "code",
        "colab": {}
      },
      "cell_type": "code",
      "source": [
        "#  for index,x in tqdm(furniture.iterrows()):\n",
        "#     pool.apply_async(download_img, (x['image_id'],x['url'],))\n",
        "    \n",
        "# pool.close()\n",
        "# pool.join()"
      ],
      "execution_count": 0,
      "outputs": []
    },
    {
      "metadata": {
        "id": "KK0FRQUL7rv4",
        "colab_type": "text"
      },
      "cell_type": "markdown",
      "source": [
        "### Importing The Downloaded Images "
      ]
    },
    {
      "metadata": {
        "id": "DjRT2aWP8JUn",
        "colab_type": "text"
      },
      "cell_type": "markdown",
      "source": [
        "To import the downloaded images we will first create a new column with the path of each image in our folder.\n",
        "  - Since we named each image with its image_id, all we need to do now is to join the path with the image_id in and  '.jpg'"
      ]
    },
    {
      "metadata": {
        "id": "YIP0G4FMvRDQ",
        "colab_type": "code",
        "outputId": "58108cdf-2388-42a2-a798-0c5165b4f51a",
        "colab": {
          "base_uri": "https://localhost:8080/",
          "height": 302
        }
      },
      "cell_type": "code",
      "source": [
        "filename = [ 'drive/My Drive/furniture_categories/imaterialist-challenge-furniture-2018/train/' + str(id) + '.jpg'  for id in furniture['image_id']]\n",
        "furniture['filename'] = filename\n",
        "furniture.head()"
      ],
      "execution_count": 25,
      "outputs": [
        {
          "output_type": "stream",
          "text": [
            "/usr/local/lib/python3.6/dist-packages/ipykernel_launcher.py:2: SettingWithCopyWarning: \n",
            "A value is trying to be set on a copy of a slice from a DataFrame.\n",
            "Try using .loc[row_indexer,col_indexer] = value instead\n",
            "\n",
            "See the caveats in the documentation: http://pandas.pydata.org/pandas-docs/stable/indexing.html#indexing-view-versus-copy\n",
            "  \n"
          ],
          "name": "stderr"
        },
        {
          "output_type": "execute_result",
          "data": {
            "text/html": [
              "<div>\n",
              "<style scoped>\n",
              "    .dataframe tbody tr th:only-of-type {\n",
              "        vertical-align: middle;\n",
              "    }\n",
              "\n",
              "    .dataframe tbody tr th {\n",
              "        vertical-align: top;\n",
              "    }\n",
              "\n",
              "    .dataframe thead th {\n",
              "        text-align: right;\n",
              "    }\n",
              "</style>\n",
              "<table border=\"1\" class=\"dataframe\">\n",
              "  <thead>\n",
              "    <tr style=\"text-align: right;\">\n",
              "      <th></th>\n",
              "      <th>image_id</th>\n",
              "      <th>url</th>\n",
              "      <th>label_id</th>\n",
              "      <th>filename</th>\n",
              "    </tr>\n",
              "  </thead>\n",
              "  <tbody>\n",
              "    <tr>\n",
              "      <th>8478</th>\n",
              "      <td>8479</td>\n",
              "      <td>https://img14.360buyimg.com/imgzone/jfs/t3532/...</td>\n",
              "      <td>9</td>\n",
              "      <td>drive/My Drive/furniture_categories/imateriali...</td>\n",
              "    </tr>\n",
              "    <tr>\n",
              "      <th>8479</th>\n",
              "      <td>8480</td>\n",
              "      <td>https://img13.360buyimg.com/imgzone/jfs/t3856/...</td>\n",
              "      <td>9</td>\n",
              "      <td>drive/My Drive/furniture_categories/imateriali...</td>\n",
              "    </tr>\n",
              "    <tr>\n",
              "      <th>8480</th>\n",
              "      <td>8481</td>\n",
              "      <td>https://img10.360buyimg.com/imgzone/jfs/t3238/...</td>\n",
              "      <td>9</td>\n",
              "      <td>drive/My Drive/furniture_categories/imateriali...</td>\n",
              "    </tr>\n",
              "    <tr>\n",
              "      <th>8481</th>\n",
              "      <td>8482</td>\n",
              "      <td>https://img.alicdn.com/imgextra/TB2.lt3aV6.F1J...</td>\n",
              "      <td>9</td>\n",
              "      <td>drive/My Drive/furniture_categories/imateriali...</td>\n",
              "    </tr>\n",
              "    <tr>\n",
              "      <th>8482</th>\n",
              "      <td>8483</td>\n",
              "      <td>https://img14.360buyimg.com/imgzone/jfs/t16030...</td>\n",
              "      <td>9</td>\n",
              "      <td>drive/My Drive/furniture_categories/imateriali...</td>\n",
              "    </tr>\n",
              "  </tbody>\n",
              "</table>\n",
              "</div>"
            ],
            "text/plain": [
              "      image_id                                                url  label_id  \\\n",
              "8478      8479  https://img14.360buyimg.com/imgzone/jfs/t3532/...         9   \n",
              "8479      8480  https://img13.360buyimg.com/imgzone/jfs/t3856/...         9   \n",
              "8480      8481  https://img10.360buyimg.com/imgzone/jfs/t3238/...         9   \n",
              "8481      8482  https://img.alicdn.com/imgextra/TB2.lt3aV6.F1J...         9   \n",
              "8482      8483  https://img14.360buyimg.com/imgzone/jfs/t16030...         9   \n",
              "\n",
              "                                               filename  \n",
              "8478  drive/My Drive/furniture_categories/imateriali...  \n",
              "8479  drive/My Drive/furniture_categories/imateriali...  \n",
              "8480  drive/My Drive/furniture_categories/imateriali...  \n",
              "8481  drive/My Drive/furniture_categories/imateriali...  \n",
              "8482  drive/My Drive/furniture_categories/imateriali...  "
            ]
          },
          "metadata": {
            "tags": []
          },
          "execution_count": 25
        }
      ]
    },
    {
      "metadata": {
        "id": "PfWjwOgQgKg8",
        "colab_type": "code",
        "outputId": "aa8598f4-2e87-40dc-e323-de0c8ed420df",
        "colab": {
          "base_uri": "https://localhost:8080/",
          "height": 35
        }
      },
      "cell_type": "code",
      "source": [
        "furniture.shape"
      ],
      "execution_count": 26,
      "outputs": [
        {
          "output_type": "execute_result",
          "data": {
            "text/plain": [
              "(3699, 4)"
            ]
          },
          "metadata": {
            "tags": []
          },
          "execution_count": 26
        }
      ]
    },
    {
      "metadata": {
        "id": "6iS5JWzY9DWA",
        "colab_type": "text"
      },
      "cell_type": "markdown",
      "source": [
        "### Manipulating images"
      ]
    },
    {
      "metadata": {
        "id": "grYUltUKvfww",
        "colab_type": "code",
        "outputId": "c4533e29-7df3-45bf-f3d2-fb0b2b07de1b",
        "colab": {
          "base_uri": "https://localhost:8080/",
          "height": 35
        }
      },
      "cell_type": "code",
      "source": [
        "from sklearn.model_selection import train_test_split\n",
        "from keras.preprocessing.image import img_to_array, load_img\n",
        "import re"
      ],
      "execution_count": 27,
      "outputs": [
        {
          "output_type": "stream",
          "text": [
            "Using TensorFlow backend.\n"
          ],
          "name": "stderr"
        }
      ]
    },
    {
      "metadata": {
        "id": "YtufwVzEXzF0",
        "colab_type": "text"
      },
      "cell_type": "markdown",
      "source": [
        "Below, it is for loop to load the image, transform it into an array and then add to a list called furniture_data. If there is an issue with loading the image, it will add the image_id of the image in an error list, so we can then remove it from our dataframe."
      ]
    },
    {
      "metadata": {
        "id": "hsgChWxRwmy4",
        "colab_type": "code",
        "outputId": "1b449f00-907d-405b-b51b-a12321f1746a",
        "colab": {
          "base_uri": "https://localhost:8080/",
          "height": 35
        }
      },
      "cell_type": "code",
      "source": [
        "furniture_data = []\n",
        "errors = []\n",
        "\n",
        "for img in tqdm(furniture['filename'].values.tolist()):\n",
        "  try:\n",
        "    loaded = load_img(img, target_size=(299, 299))  # Load the image with size 299x299\n",
        "    to_array = img_to_array(loaded) # Transforming the image into numbers\n",
        "    furniture_data.append(to_array) # append to our list furniture_data\n",
        "  except: \n",
        "    id = int(re.search(r'\\d+', img.split('/')[5]).group())  # If we cannot load the image, get the id of the image\n",
        "    errors.append(id) # Store the id of the image we were not able to load"
      ],
      "execution_count": 28,
      "outputs": [
        {
          "output_type": "stream",
          "text": [
            "100%|██████████| 3699/3699 [13:43<00:00,  4.67it/s]\n"
          ],
          "name": "stderr"
        }
      ]
    },
    {
      "metadata": {
        "id": "RGiZadXnYbfx",
        "colab_type": "text"
      },
      "cell_type": "markdown",
      "source": [
        "Now, we will delete the images that had an error when loading."
      ]
    },
    {
      "metadata": {
        "id": "VHKWSaJp2Qoh",
        "colab_type": "code",
        "outputId": "9990cafa-708c-4e08-a0fe-2b147560939f",
        "colab": {
          "base_uri": "https://localhost:8080/",
          "height": 35
        }
      },
      "cell_type": "code",
      "source": [
        "# Drop the image_id of the images we were not able to load\n",
        "\n",
        "df_furn = furniture.copy()\n",
        "\n",
        "for row in tqdm(errors):\n",
        "  df_furn = df_furn[df_furn['image_id'] != row]"
      ],
      "execution_count": 29,
      "outputs": [
        {
          "output_type": "stream",
          "text": [
            "100%|██████████| 232/232 [00:00<00:00, 999.22it/s]\n"
          ],
          "name": "stderr"
        }
      ]
    },
    {
      "metadata": {
        "id": "REeuujxZ-wLq",
        "colab_type": "text"
      },
      "cell_type": "markdown",
      "source": [
        "Now, we will transform the furniture_data list (with all the images as integers) in an array, and create a training, validation and test set."
      ]
    },
    {
      "metadata": {
        "id": "jeKCYYkybC9e",
        "colab_type": "code",
        "colab": {}
      },
      "cell_type": "code",
      "source": [
        "furniture_data = np.array(furniture_data)"
      ],
      "execution_count": 0,
      "outputs": []
    },
    {
      "metadata": {
        "id": "3mTifCuc7Kdk",
        "colab_type": "code",
        "colab": {}
      },
      "cell_type": "code",
      "source": [
        "x_train, x_test, y_train, y_test = train_test_split(furniture_data, df_furn['label_id'], test_size=0.3, stratify=np.array(df_furn['label_id']), random_state=42)"
      ],
      "execution_count": 0,
      "outputs": []
    },
    {
      "metadata": {
        "id": "7FKjvGMJN62A",
        "colab_type": "code",
        "colab": {}
      },
      "cell_type": "code",
      "source": [
        "x_train, x_val, y_train, y_val = train_test_split(x_train, y_train, test_size=0.15, stratify=np.array(y_train), random_state=42)"
      ],
      "execution_count": 0,
      "outputs": []
    },
    {
      "metadata": {
        "id": "WySPbWohmEC2",
        "colab_type": "code",
        "outputId": "5fa828e2-c22f-4da8-f994-5bed83cba122",
        "colab": {
          "base_uri": "https://localhost:8080/",
          "height": 69
        }
      },
      "cell_type": "code",
      "source": [
        "#print('Initial Dataset Size:', furniture_data.shape)\n",
        "print('Initial Train and Test Datasets Size:', x_train.shape, x_test.shape)\n",
        "print('Train and Validation Datasets Size:', x_train.shape, x_val.shape)\n",
        "print('Train, Test and Validation Datasets Size:', x_train.shape, x_test.shape, x_val.shape)"
      ],
      "execution_count": 33,
      "outputs": [
        {
          "output_type": "stream",
          "text": [
            "Initial Train and Test Datasets Size: (2062, 299, 299, 3) (1041, 299, 299, 3)\n",
            "Train and Validation Datasets Size: (2062, 299, 299, 3) (364, 299, 299, 3)\n",
            "Train, Test and Validation Datasets Size: (2062, 299, 299, 3) (1041, 299, 299, 3) (364, 299, 299, 3)\n"
          ],
          "name": "stdout"
        }
      ]
    },
    {
      "metadata": {
        "id": "oS7Uo-Fkgwvb",
        "colab_type": "text"
      },
      "cell_type": "markdown",
      "source": [
        "As we can see above, we now have the training, test and validation sets. \n",
        "To make it easier for our model to understand our label we will transform to one-hot encoded labels."
      ]
    },
    {
      "metadata": {
        "id": "CRwV9TuWg-Bi",
        "colab_type": "code",
        "outputId": "ab127e44-4e54-426f-be1d-7dbdb6d58639",
        "colab": {
          "base_uri": "https://localhost:8080/",
          "height": 35
        }
      },
      "cell_type": "code",
      "source": [
        "y_train_ohe = pd.get_dummies(y_train).as_matrix()\n",
        "y_test_ohe = pd.get_dummies(y_test).as_matrix()\n",
        "y_val_ohe = pd.get_dummies(y_val).as_matrix()\n",
        "\n",
        "print(y_train_ohe.shape, y_test_ohe.shape, y_val_ohe.shape)"
      ],
      "execution_count": 34,
      "outputs": [
        {
          "output_type": "stream",
          "text": [
            "(2062, 8) (1041, 8) (364, 8)\n"
          ],
          "name": "stdout"
        }
      ]
    },
    {
      "metadata": {
        "id": "0oAC7xKwmzWU",
        "colab_type": "text"
      },
      "cell_type": "markdown",
      "source": [
        "Since we selected the type of furnitures with less images, we will leverage image augmentation to create more images by slightly modifying the ones we currently have. We will do this by using ImageDataGenerator from keras."
      ]
    },
    {
      "metadata": {
        "id": "2-wcuUdyoxWl",
        "colab_type": "code",
        "colab": {}
      },
      "cell_type": "code",
      "source": [
        "from keras.preprocessing.image import ImageDataGenerator\n",
        "BATCH_SIZE = 32\n",
        "\n",
        "\n",
        "# Training Data\n",
        "train_datagen = ImageDataGenerator(rescale = 1./255,\n",
        "                                   zoom_range = 0.3, # zooming the image randomly by a factor of 0.3 \n",
        "                                   rotation_range = 30, # rotating the image randomly by 30 degrees\n",
        "                                   width_shift_range = 0.2, # translating the image randomly horizontally by 0.2 factor\n",
        "                                   height_shift_range = 0.2, # translating the image randomly vertically by 0.2 factor\n",
        "                                   horizontal_flip = 'true') # Randomly flipping half of the images.\n",
        "\n",
        "train_generator = train_datagen.flow(x_train, y_train_ohe, shuffle = False, \n",
        "                                     batch_size = BATCH_SIZE, seed = 42)\n",
        "\n",
        "# Validation Data\n",
        "\n",
        "val_datagen = ImageDataGenerator(rescale = 1./255)\n",
        "val_generator = train_datagen.flow(x_val, y_val_ohe, shuffle = False, \n",
        "                                   batch_size = BATCH_SIZE, seed = 42)   "
      ],
      "execution_count": 0,
      "outputs": []
    },
    {
      "metadata": {
        "id": "XJ-k_1I5ri2E",
        "colab_type": "text"
      },
      "cell_type": "markdown",
      "source": [
        "Now, we have all the data we need and ready to use it in a model."
      ]
    },
    {
      "metadata": {
        "id": "Coa9X-SJr5DE",
        "colab_type": "text"
      },
      "cell_type": "markdown",
      "source": [
        "# Deep Learning - Convolutional Neural Network"
      ]
    },
    {
      "metadata": {
        "id": "oxBe6Zeyxl95",
        "colab_type": "text"
      },
      "cell_type": "markdown",
      "source": [
        "Since we only have 2062 images in our training set, we will leverage tranfer learning to use the weights and architecture of a model that has been previously trained in millions of images."
      ]
    },
    {
      "metadata": {
        "id": "f5z-WycIxlx7",
        "colab_type": "text"
      },
      "cell_type": "markdown",
      "source": [
        "What does transfer learning means?\n",
        "  - The objective of training a neural network is to correctly identify the weights for the network by multiple forward backward propagations. Therefore, by using a pre-trained model which has been previously trained on a large dataset, we can directly use the weights and architecture obtained and apply the learning on our problem.\n",
        "    - On top of training millions of images, some of these models are very deep, meaning that they use a lot of layers. This type of computation is not possible in a normal computer and even if we use a powerful CPU, it would take days to compute it. \n",
        "  - This project will be using transfer learning in two different pre-trained models:\n",
        "    - VGG-16 model - This model has been pre-trained on a huge dataset (ImageNet), with more than 14 million images belonging to 1,000 different categories.\n",
        "    - InceptionV3 - This model has also been pre-trained with ImageNet, but differently than VGG-16 , InceptionV3 is a deep neural network.\n",
        "  \n",
        "  \n",
        "  \n",
        "How to leverage transfer learning?\n",
        "  - There are two ways we can leverage transfer learning in pre-trained models.\n",
        "    - 1st - Using a pre-trained model as feature extractor\n",
        "    - 2nd - Fine-tuning the pre-trained model"
      ]
    },
    {
      "metadata": {
        "id": "iFM0_9qlIp6J",
        "colab_type": "text"
      },
      "cell_type": "markdown",
      "source": [
        "### VGG-16\n",
        "\n",
        "![alt text](https://neurohive.io/wp-content/uploads/2018/11/vgg16-1-e1542731207177.png)\n",
        "\n",
        "- Above is the architecture used in the VGG-16 model, the interesting thing about it is its simplicity.\n",
        "- The network:\n",
        "  - The model used 3x3 convolutional layers stacked on top of each other in increasing depth.\n",
        "  - The volume of the image is reduced by using max pooling\n",
        "  - After the last max pooling, it used flatten to create a one dimensional array\n",
        "  - Then, two fully connected layers, each with 4,096 nodes, followed by a softmax classifier.\n",
        "  \n",
        " As we can see in the summary of the model below, at its first fully conencted layer the model was tuned over 100 million parameters! This would not be possible to do it over a normal computer and even with a powerful computer, it would take days to compute it."
      ]
    },
    {
      "metadata": {
        "id": "sq7F54EYN9QU",
        "colab_type": "code",
        "outputId": "ca5bf270-9720-463d-cdc9-54059ebcf019",
        "colab": {
          "base_uri": "https://localhost:8080/",
          "height": 1039
        }
      },
      "cell_type": "code",
      "source": [
        "from keras.applications import vgg16\n",
        "\n",
        "vgg_1 = vgg16.VGG16(include_top=True, weights='imagenet', \n",
        "                                     input_shape=(224,224, 3))\n",
        "vgg_1.summary()"
      ],
      "execution_count": 36,
      "outputs": [
        {
          "output_type": "stream",
          "text": [
            "WARNING:tensorflow:From /usr/local/lib/python3.6/dist-packages/tensorflow/python/framework/op_def_library.py:263: colocate_with (from tensorflow.python.framework.ops) is deprecated and will be removed in a future version.\n",
            "Instructions for updating:\n",
            "Colocations handled automatically by placer.\n",
            "Downloading data from https://github.com/fchollet/deep-learning-models/releases/download/v0.1/vgg16_weights_tf_dim_ordering_tf_kernels.h5\n",
            "553467904/553467096 [==============================] - 7s 0us/step\n",
            "_________________________________________________________________\n",
            "Layer (type)                 Output Shape              Param #   \n",
            "=================================================================\n",
            "input_1 (InputLayer)         (None, 224, 224, 3)       0         \n",
            "_________________________________________________________________\n",
            "block1_conv1 (Conv2D)        (None, 224, 224, 64)      1792      \n",
            "_________________________________________________________________\n",
            "block1_conv2 (Conv2D)        (None, 224, 224, 64)      36928     \n",
            "_________________________________________________________________\n",
            "block1_pool (MaxPooling2D)   (None, 112, 112, 64)      0         \n",
            "_________________________________________________________________\n",
            "block2_conv1 (Conv2D)        (None, 112, 112, 128)     73856     \n",
            "_________________________________________________________________\n",
            "block2_conv2 (Conv2D)        (None, 112, 112, 128)     147584    \n",
            "_________________________________________________________________\n",
            "block2_pool (MaxPooling2D)   (None, 56, 56, 128)       0         \n",
            "_________________________________________________________________\n",
            "block3_conv1 (Conv2D)        (None, 56, 56, 256)       295168    \n",
            "_________________________________________________________________\n",
            "block3_conv2 (Conv2D)        (None, 56, 56, 256)       590080    \n",
            "_________________________________________________________________\n",
            "block3_conv3 (Conv2D)        (None, 56, 56, 256)       590080    \n",
            "_________________________________________________________________\n",
            "block3_pool (MaxPooling2D)   (None, 28, 28, 256)       0         \n",
            "_________________________________________________________________\n",
            "block4_conv1 (Conv2D)        (None, 28, 28, 512)       1180160   \n",
            "_________________________________________________________________\n",
            "block4_conv2 (Conv2D)        (None, 28, 28, 512)       2359808   \n",
            "_________________________________________________________________\n",
            "block4_conv3 (Conv2D)        (None, 28, 28, 512)       2359808   \n",
            "_________________________________________________________________\n",
            "block4_pool (MaxPooling2D)   (None, 14, 14, 512)       0         \n",
            "_________________________________________________________________\n",
            "block5_conv1 (Conv2D)        (None, 14, 14, 512)       2359808   \n",
            "_________________________________________________________________\n",
            "block5_conv2 (Conv2D)        (None, 14, 14, 512)       2359808   \n",
            "_________________________________________________________________\n",
            "block5_conv3 (Conv2D)        (None, 14, 14, 512)       2359808   \n",
            "_________________________________________________________________\n",
            "block5_pool (MaxPooling2D)   (None, 7, 7, 512)         0         \n",
            "_________________________________________________________________\n",
            "flatten (Flatten)            (None, 25088)             0         \n",
            "_________________________________________________________________\n",
            "fc1 (Dense)                  (None, 4096)              102764544 \n",
            "_________________________________________________________________\n",
            "fc2 (Dense)                  (None, 4096)              16781312  \n",
            "_________________________________________________________________\n",
            "predictions (Dense)          (None, 1000)              4097000   \n",
            "=================================================================\n",
            "Total params: 138,357,544\n",
            "Trainable params: 138,357,544\n",
            "Non-trainable params: 0\n",
            "_________________________________________________________________\n"
          ],
          "name": "stdout"
        }
      ]
    },
    {
      "metadata": {
        "id": "ddOdT5dsxlkD",
        "colab_type": "text"
      },
      "cell_type": "markdown",
      "source": [
        "#### Pre-trained model as feature extractor on VGG-16."
      ]
    },
    {
      "metadata": {
        "id": "i0Z6Pnj0DJ1k",
        "colab_type": "text"
      },
      "cell_type": "markdown",
      "source": [
        "To use the pre-trained VGG-16 model as a feature extractor with our images, we will only get rid off the top fully connected part of the model. The Flatten and the three Dense layers."
      ]
    },
    {
      "metadata": {
        "id": "Fxq30LC0AE0s",
        "colab_type": "code",
        "outputId": "89ff8eef-6510-489a-b374-eb2731d1568b",
        "colab": {
          "base_uri": "https://localhost:8080/",
          "height": 52
        }
      },
      "cell_type": "code",
      "source": [
        "#Import the necessary modules\n",
        "import keras\n",
        "\n",
        "from keras.models import Model\n",
        "from keras.applications import vgg16\n",
        "\n",
        "\n",
        "vgg = vgg16.VGG16(include_top=False, weights='imagenet', \n",
        "                                     input_shape=(299,299, 3))  # To get rid off the top, we will set include_top to False."
      ],
      "execution_count": 37,
      "outputs": [
        {
          "output_type": "stream",
          "text": [
            "Downloading data from https://github.com/fchollet/deep-learning-models/releases/download/v0.1/vgg16_weights_tf_dim_ordering_tf_kernels_notop.h5\n",
            "58892288/58889256 [==============================] - 1s 0us/step\n"
          ],
          "name": "stdout"
        }
      ]
    },
    {
      "metadata": {
        "id": "UcFxzglUEdkX",
        "colab_type": "code",
        "outputId": "72aa9570-0874-4ecb-dbcd-21a44a4c3b5b",
        "colab": {
          "base_uri": "https://localhost:8080/",
          "height": 345
        }
      },
      "cell_type": "code",
      "source": [
        "output = vgg.layers[-1].output # This will get the output of the last layer (Maxpooling)\n",
        "output = keras.layers.Flatten()(output) # Flatten the output\n",
        "vgg_model = Model(vgg.input, output)  # Save the model with Flatten already done for us.\n",
        "\n",
        "for layer in vgg.layers:\n",
        "  print(layer.trainable)"
      ],
      "execution_count": 38,
      "outputs": [
        {
          "output_type": "stream",
          "text": [
            "False\n",
            "True\n",
            "True\n",
            "True\n",
            "True\n",
            "True\n",
            "True\n",
            "True\n",
            "True\n",
            "True\n",
            "True\n",
            "True\n",
            "True\n",
            "True\n",
            "True\n",
            "True\n",
            "True\n",
            "True\n",
            "True\n"
          ],
          "name": "stdout"
        }
      ]
    },
    {
      "metadata": {
        "id": "Iij3uanHAFUK",
        "colab_type": "text"
      },
      "cell_type": "markdown",
      "source": [
        "As we can see above, the layers are available for training. We don't want that. We want to make sure they are all frozen for us to leverage the weights of the model. So, let's freeze the layers."
      ]
    },
    {
      "metadata": {
        "id": "-57-cRWiAFcF",
        "colab_type": "code",
        "outputId": "fbf4cac9-da46-4bbd-e642-92572d2a6948",
        "colab": {
          "base_uri": "https://localhost:8080/",
          "height": 363
        }
      },
      "cell_type": "code",
      "source": [
        "vgg_model.trainable = False\n",
        "for layer in vgg_model.layers:\n",
        "    layer.trainable = False\n",
        "    print(layer.trainable)"
      ],
      "execution_count": 39,
      "outputs": [
        {
          "output_type": "stream",
          "text": [
            "False\n",
            "False\n",
            "False\n",
            "False\n",
            "False\n",
            "False\n",
            "False\n",
            "False\n",
            "False\n",
            "False\n",
            "False\n",
            "False\n",
            "False\n",
            "False\n",
            "False\n",
            "False\n",
            "False\n",
            "False\n",
            "False\n",
            "False\n"
          ],
          "name": "stdout"
        }
      ]
    },
    {
      "metadata": {
        "id": "mIFlWVHWAFjF",
        "colab_type": "text"
      },
      "cell_type": "markdown",
      "source": [
        "Good, now they are all frozen. Let's train our model!"
      ]
    },
    {
      "metadata": {
        "id": "NV9BwZ2oJUI6",
        "colab_type": "text"
      },
      "cell_type": "markdown",
      "source": [
        "#### Model Architecture:\n",
        "  - We will run two different models architetures, one with regularization and one without, to see which one performs better.\n",
        "  \n",
        "#### No Regularization"
      ]
    },
    {
      "metadata": {
        "id": "mPyPUpivAFpy",
        "colab_type": "code",
        "outputId": "a73d0da7-63bb-4152-bafb-00adc0f49ca7",
        "colab": {
          "base_uri": "https://localhost:8080/",
          "height": 1816
        }
      },
      "cell_type": "code",
      "source": [
        "from keras.layers import Conv2D, MaxPooling2D, Flatten, Dense, Dropout, InputLayer\n",
        "from keras.models import Sequential\n",
        "from keras import optimizers\n",
        "\n",
        "model = Sequential()\n",
        "model.add(vgg_model)\n",
        "model.add(Dense(512, activation='relu', input_dim=(299,299,3)))\n",
        "model.add(Dense(512, activation='relu'))\n",
        "model.add(Dense(8, activation='softmax'))\n",
        "\n",
        "model.compile(loss = 'categorical_crossentropy',\n",
        "              optimizer = 'adam',\n",
        "              metrics = ['accuracy'])\n",
        "              \n",
        "history = model.fit_generator(train_generator, steps_per_epoch=100, epochs=50,\n",
        "                              validation_data=val_generator, validation_steps=50, \n",
        "                              verbose=1)   "
      ],
      "execution_count": 40,
      "outputs": [
        {
          "output_type": "stream",
          "text": [
            "WARNING:tensorflow:From /usr/local/lib/python3.6/dist-packages/tensorflow/python/ops/math_ops.py:3066: to_int32 (from tensorflow.python.ops.math_ops) is deprecated and will be removed in a future version.\n",
            "Instructions for updating:\n",
            "Use tf.cast instead.\n",
            "Epoch 1/50\n",
            "100/100 [==============================] - 128s 1s/step - loss: 5.2094 - acc: 0.4870 - val_loss: 3.0995 - val_acc: 0.6296\n",
            "Epoch 2/50\n",
            "100/100 [==============================] - 115s 1s/step - loss: 1.0496 - acc: 0.6921 - val_loss: 0.7831 - val_acc: 0.7184\n",
            "Epoch 3/50\n",
            "100/100 [==============================] - 115s 1s/step - loss: 0.6706 - acc: 0.7756 - val_loss: 0.6219 - val_acc: 0.8099\n",
            "Epoch 4/50\n",
            "100/100 [==============================] - 116s 1s/step - loss: 0.5333 - acc: 0.8182 - val_loss: 0.5718 - val_acc: 0.8039\n",
            "Epoch 5/50\n",
            "100/100 [==============================] - 114s 1s/step - loss: 0.4882 - acc: 0.8358 - val_loss: 0.6335 - val_acc: 0.8125\n",
            "Epoch 6/50\n",
            "100/100 [==============================] - 111s 1s/step - loss: 0.4790 - acc: 0.8345 - val_loss: 0.5016 - val_acc: 0.8347\n",
            "Epoch 7/50\n",
            "100/100 [==============================] - 118s 1s/step - loss: 0.4316 - acc: 0.8443 - val_loss: 0.5347 - val_acc: 0.8316\n",
            "Epoch 8/50\n",
            "100/100 [==============================] - 117s 1s/step - loss: 0.4594 - acc: 0.8398 - val_loss: 0.6653 - val_acc: 0.7783\n",
            "Epoch 9/50\n",
            "100/100 [==============================] - 114s 1s/step - loss: 0.4220 - acc: 0.8523 - val_loss: 0.5152 - val_acc: 0.8500\n",
            "Epoch 10/50\n",
            "100/100 [==============================] - 116s 1s/step - loss: 0.3782 - acc: 0.8673 - val_loss: 0.5166 - val_acc: 0.8349\n",
            "Epoch 11/50\n",
            "100/100 [==============================] - 116s 1s/step - loss: 0.3419 - acc: 0.8800 - val_loss: 0.5301 - val_acc: 0.8441\n",
            "Epoch 12/50\n",
            "100/100 [==============================] - 113s 1s/step - loss: 0.3758 - acc: 0.8717 - val_loss: 0.4813 - val_acc: 0.8507\n",
            "Epoch 13/50\n",
            "100/100 [==============================] - 116s 1s/step - loss: 0.3761 - acc: 0.8729 - val_loss: 0.7044 - val_acc: 0.7711\n",
            "Epoch 14/50\n",
            "100/100 [==============================] - 116s 1s/step - loss: 0.3692 - acc: 0.8708 - val_loss: 0.6166 - val_acc: 0.8053\n",
            "Epoch 15/50\n",
            "100/100 [==============================] - 113s 1s/step - loss: 0.3301 - acc: 0.8883 - val_loss: 0.4938 - val_acc: 0.8447\n",
            "Epoch 16/50\n",
            "100/100 [==============================] - 114s 1s/step - loss: 0.3316 - acc: 0.8823 - val_loss: 0.6117 - val_acc: 0.8270\n",
            "Epoch 17/50\n",
            "100/100 [==============================] - 120s 1s/step - loss: 0.3297 - acc: 0.8819 - val_loss: 0.5510 - val_acc: 0.8263\n",
            "Epoch 18/50\n",
            "100/100 [==============================] - 114s 1s/step - loss: 0.3262 - acc: 0.8858 - val_loss: 0.5779 - val_acc: 0.8327\n",
            "Epoch 19/50\n",
            "100/100 [==============================] - 113s 1s/step - loss: 0.3349 - acc: 0.8881 - val_loss: 0.5694 - val_acc: 0.8336\n",
            "Epoch 20/50\n",
            "100/100 [==============================] - 112s 1s/step - loss: 0.2973 - acc: 0.8954 - val_loss: 0.5076 - val_acc: 0.8461\n",
            "Epoch 21/50\n",
            "100/100 [==============================] - 118s 1s/step - loss: 0.2833 - acc: 0.9011 - val_loss: 0.5428 - val_acc: 0.8336\n",
            "Epoch 22/50\n",
            "100/100 [==============================] - 116s 1s/step - loss: 0.3077 - acc: 0.8968 - val_loss: 0.5459 - val_acc: 0.8362\n",
            "Epoch 23/50\n",
            "100/100 [==============================] - 113s 1s/step - loss: 0.3241 - acc: 0.8909 - val_loss: 0.6176 - val_acc: 0.8263\n",
            "Epoch 24/50\n",
            "100/100 [==============================] - 113s 1s/step - loss: 0.2778 - acc: 0.9041 - val_loss: 0.5510 - val_acc: 0.8493\n",
            "Epoch 25/50\n",
            "100/100 [==============================] - 119s 1s/step - loss: 0.2573 - acc: 0.9108 - val_loss: 0.4920 - val_acc: 0.8355\n",
            "Epoch 26/50\n",
            "100/100 [==============================] - 117s 1s/step - loss: 0.2803 - acc: 0.9020 - val_loss: 0.4493 - val_acc: 0.8480\n",
            "Epoch 27/50\n",
            "100/100 [==============================] - 114s 1s/step - loss: 0.2771 - acc: 0.9000 - val_loss: 0.5419 - val_acc: 0.8428\n",
            "Epoch 28/50\n",
            "100/100 [==============================] - 114s 1s/step - loss: 0.2461 - acc: 0.9116 - val_loss: 0.4767 - val_acc: 0.8454\n",
            "Epoch 29/50\n",
            "100/100 [==============================] - 116s 1s/step - loss: 0.3057 - acc: 0.8937 - val_loss: 0.5442 - val_acc: 0.8224\n",
            "Epoch 30/50\n",
            "100/100 [==============================] - 114s 1s/step - loss: 0.2539 - acc: 0.9067 - val_loss: 0.6513 - val_acc: 0.8113\n",
            "Epoch 31/50\n",
            "100/100 [==============================] - 117s 1s/step - loss: 0.2660 - acc: 0.9070 - val_loss: 0.5377 - val_acc: 0.8441\n",
            "Epoch 32/50\n",
            "100/100 [==============================] - 112s 1s/step - loss: 0.2676 - acc: 0.9111 - val_loss: 0.4617 - val_acc: 0.8493\n",
            "Epoch 33/50\n",
            "100/100 [==============================] - 112s 1s/step - loss: 0.2394 - acc: 0.9137 - val_loss: 0.5222 - val_acc: 0.8461\n",
            "Epoch 34/50\n",
            "100/100 [==============================] - 117s 1s/step - loss: 0.2163 - acc: 0.9227 - val_loss: 0.4586 - val_acc: 0.8539\n",
            "Epoch 35/50\n",
            "100/100 [==============================] - 116s 1s/step - loss: 0.2350 - acc: 0.9136 - val_loss: 0.5441 - val_acc: 0.8349\n",
            "Epoch 36/50\n",
            "100/100 [==============================] - 113s 1s/step - loss: 0.2435 - acc: 0.9159 - val_loss: 0.5038 - val_acc: 0.8453\n",
            "Epoch 37/50\n",
            "100/100 [==============================] - 113s 1s/step - loss: 0.2559 - acc: 0.9097 - val_loss: 0.6361 - val_acc: 0.8329\n",
            "Epoch 38/50\n",
            "100/100 [==============================] - 110s 1s/step - loss: 0.2469 - acc: 0.9141 - val_loss: 0.5132 - val_acc: 0.8349\n",
            "Epoch 39/50\n",
            "100/100 [==============================] - 112s 1s/step - loss: 0.1915 - acc: 0.9308 - val_loss: 0.5797 - val_acc: 0.8414\n",
            "Epoch 40/50\n",
            "100/100 [==============================] - 113s 1s/step - loss: 0.2344 - acc: 0.9156 - val_loss: 0.6505 - val_acc: 0.8250\n",
            "Epoch 41/50\n",
            "100/100 [==============================] - 109s 1s/step - loss: 0.2315 - acc: 0.9202 - val_loss: 0.5065 - val_acc: 0.8493\n",
            "Epoch 42/50\n",
            "100/100 [==============================] - 110s 1s/step - loss: 0.2198 - acc: 0.9222 - val_loss: 0.5872 - val_acc: 0.8260\n",
            "Epoch 43/50\n",
            "100/100 [==============================] - 113s 1s/step - loss: 0.2476 - acc: 0.9179 - val_loss: 0.5895 - val_acc: 0.8421\n",
            "Epoch 44/50\n",
            "100/100 [==============================] - 110s 1s/step - loss: 0.2141 - acc: 0.9212 - val_loss: 0.5440 - val_acc: 0.8487\n",
            "Epoch 45/50\n",
            "100/100 [==============================] - 108s 1s/step - loss: 0.2381 - acc: 0.9140 - val_loss: 0.6195 - val_acc: 0.8375\n",
            "Epoch 46/50\n",
            "100/100 [==============================] - 108s 1s/step - loss: 0.2276 - acc: 0.9250 - val_loss: 0.5116 - val_acc: 0.8526\n",
            "Epoch 47/50\n",
            "100/100 [==============================] - 108s 1s/step - loss: 0.2009 - acc: 0.9312 - val_loss: 0.5149 - val_acc: 0.8500\n",
            "Epoch 48/50\n",
            "100/100 [==============================] - 107s 1s/step - loss: 0.1985 - acc: 0.9294 - val_loss: 0.5003 - val_acc: 0.8480\n",
            "Epoch 49/50\n",
            "100/100 [==============================] - 108s 1s/step - loss: 0.2063 - acc: 0.9255 - val_loss: 0.5790 - val_acc: 0.8329\n",
            "Epoch 50/50\n",
            "100/100 [==============================] - 109s 1s/step - loss: 0.1934 - acc: 0.9341 - val_loss: 0.5724 - val_acc: 0.8487\n"
          ],
          "name": "stdout"
        }
      ]
    },
    {
      "metadata": {
        "id": "STN3Nr3pG9tL",
        "colab_type": "code",
        "colab": {}
      },
      "cell_type": "code",
      "source": [
        "model.save('drive/My Drive/furniture_categories/furniture_cnn_feature_extraction_noReg.h5')"
      ],
      "execution_count": 0,
      "outputs": []
    },
    {
      "metadata": {
        "id": "2aPCwKuSG-Bj",
        "colab_type": "code",
        "outputId": "35148f7f-0884-460e-a7fb-04779ffd8f0f",
        "colab": {
          "base_uri": "https://localhost:8080/",
          "height": 494
        }
      },
      "cell_type": "code",
      "source": [
        "f, (ax1, ax2) = plt.subplots(1, 2, figsize=(15, 7))\n",
        "t = f.suptitle('Feature Extraction CNN Performance', fontsize=12)\n",
        "\n",
        "epoch_list = list(range(1,51)) # Number of epochs used and it will be used as our X axis\n",
        "ax1.plot(epoch_list, history.history['acc'], label='Train Accuracy')\n",
        "ax1.plot(epoch_list, history.history['val_acc'], label='Validation Accuracy')\n",
        "ax1.set_xticks(np.arange(0,51, 3))\n",
        "ax1.set_ylabel('Accuracy Value')\n",
        "ax1.set_xlabel('Epoch')\n",
        "ax1.set_title('Accuracy')\n",
        "ax1.legend(loc='best')\n",
        "\n",
        "\n",
        "ax2.plot(epoch_list, history.history['loss'], label='Train Loss')\n",
        "ax2.plot(epoch_list, history.history['val_loss'], label='Validation Loss')\n",
        "ax2.set_xticks(np.arange(0,51, 3))\n",
        "ax2.set_ylabel('Loss Value')\n",
        "ax2.set_xlabel('Epoch')\n",
        "ax2.set_title('Loss')\n",
        "ax2.legend(loc='best')\n",
        "\n",
        "plt.show()"
      ],
      "execution_count": 42,
      "outputs": [
        {
          "output_type": "display_data",
          "data": {
            "image/png": "[encoded data removed]",
            "text/plain": [
              "<Figure size 1080x504 with 2 Axes>"
            ]
          },
          "metadata": {
            "tags": []
          }
        }
      ]
    },
    {
      "metadata": {
        "id": "JQfw524xUL_F",
        "colab_type": "text"
      },
      "cell_type": "markdown",
      "source": [
        "#### With Regularization"
      ]
    },
    {
      "metadata": {
        "id": "XmDkRz5vdldi",
        "colab_type": "text"
      },
      "cell_type": "markdown",
      "source": [
        "For the next model, we will use the dropout method as our regularization.\n",
        "\n",
        "- What does the Dropout do?\n",
        "  - The term dropout refers to dropping out units in a neural network.\n",
        "  - So, during our training phase, a set of neurons are going to be chosen at random and it will be ignored. This means that during our forward and backward propagation this chosen set of neurons are not considered.\n",
        "  - In the case below, we are dropping 0.3 of our neurons. This means that we are dropping 30% of the neurons available.\n",
        "  \n",
        "- When should we use Dropout?\n",
        "  - Dropouts are usually used when our model is overfitting. The model computed above is not overfitting, but let's just see how it will perform in our model."
      ]
    },
    {
      "metadata": {
        "id": "Ewb811a5UWxl",
        "colab_type": "code",
        "outputId": "4aa92c59-712a-4685-c903-6a7b13ce677a",
        "colab": {
          "base_uri": "https://localhost:8080/",
          "height": 915
        }
      },
      "cell_type": "code",
      "source": [
        "# Import EarlyStopping\n",
        "from keras.callbacks import EarlyStopping   \n",
        "\n",
        "model_r = Sequential()\n",
        "model_r.add(vgg_model)\n",
        "model_r.add(Dense(512, activation='relu', input_dim=(299,299,3)))\n",
        "model_r.add(Dropout(0.3))  # Regularization\n",
        "model_r.add(Dense(512, activation='relu'))\n",
        "model_r.add(Dropout(0.3))  # Regularization\n",
        "model_r.add(Dense(8, activation='softmax'))\n",
        "\n",
        "model_r.compile(loss = 'categorical_crossentropy',\n",
        "              optimizer = 'adam',\n",
        "              metrics = ['accuracy'])\n",
        "\n",
        "early_stopping_monitor = EarlyStopping(patience=5)    \n",
        "              \n",
        "history = model_r.fit_generator(train_generator, \n",
        "                                steps_per_epoch = 100, \n",
        "                                epochs = 50,\n",
        "                                validation_data = val_generator, \n",
        "                                validation_steps = 50,\n",
        "                                callbacks = [early_stopping_monitor],\n",
        "                                verbose = 1)   "
      ],
      "execution_count": 64,
      "outputs": [
        {
          "output_type": "stream",
          "text": [
            "Epoch 1/50\n",
            "100/100 [==============================] - 102s 1s/step - loss: 2.0923 - acc: 0.4487 - val_loss: 0.9001 - val_acc: 0.7007\n",
            "Epoch 2/50\n",
            "100/100 [==============================] - 95s 947ms/step - loss: 1.0042 - acc: 0.6475 - val_loss: 0.7555 - val_acc: 0.7487\n",
            "Epoch 3/50\n",
            "100/100 [==============================] - 92s 916ms/step - loss: 0.9392 - acc: 0.6789 - val_loss: 0.7884 - val_acc: 0.7461\n",
            "Epoch 4/50\n",
            "100/100 [==============================] - 92s 918ms/step - loss: 0.9347 - acc: 0.6754 - val_loss: 0.8196 - val_acc: 0.7368\n",
            "Epoch 5/50\n",
            "100/100 [==============================] - 91s 910ms/step - loss: 0.8702 - acc: 0.7033 - val_loss: 0.6950 - val_acc: 0.8087\n",
            "Epoch 6/50\n",
            "100/100 [==============================] - 94s 944ms/step - loss: 0.8652 - acc: 0.6925 - val_loss: 0.6561 - val_acc: 0.8026\n",
            "Epoch 7/50\n",
            "100/100 [==============================] - 91s 915ms/step - loss: 0.8622 - acc: 0.7040 - val_loss: 0.7484 - val_acc: 0.7461\n",
            "Epoch 8/50\n",
            "100/100 [==============================] - 92s 919ms/step - loss: 0.8516 - acc: 0.6956 - val_loss: 0.6391 - val_acc: 0.8020\n",
            "Epoch 9/50\n",
            "100/100 [==============================] - 94s 944ms/step - loss: 0.8617 - acc: 0.7020 - val_loss: 0.6457 - val_acc: 0.7816\n",
            "Epoch 10/50\n",
            "100/100 [==============================] - 91s 913ms/step - loss: 0.8076 - acc: 0.7170 - val_loss: 0.6083 - val_acc: 0.8138\n",
            "Epoch 11/50\n",
            "100/100 [==============================] - 91s 909ms/step - loss: 0.7587 - acc: 0.7467 - val_loss: 0.6220 - val_acc: 0.8260\n",
            "Epoch 12/50\n",
            "100/100 [==============================] - 92s 925ms/step - loss: 0.7297 - acc: 0.7494 - val_loss: 0.6043 - val_acc: 0.8250\n",
            "Epoch 13/50\n",
            "100/100 [==============================] - 91s 909ms/step - loss: 0.7130 - acc: 0.7533 - val_loss: 0.5826 - val_acc: 0.8283\n",
            "Epoch 14/50\n",
            "100/100 [==============================] - 90s 904ms/step - loss: 0.6981 - acc: 0.7459 - val_loss: 0.5502 - val_acc: 0.8362\n",
            "Epoch 15/50\n",
            "100/100 [==============================] - 90s 904ms/step - loss: 0.6953 - acc: 0.7586 - val_loss: 0.6012 - val_acc: 0.8059\n",
            "Epoch 16/50\n",
            "100/100 [==============================] - 92s 924ms/step - loss: 0.6759 - acc: 0.7699 - val_loss: 0.5244 - val_acc: 0.8526\n",
            "Epoch 17/50\n",
            "100/100 [==============================] - 90s 899ms/step - loss: 0.6580 - acc: 0.7661 - val_loss: 0.5937 - val_acc: 0.8087\n",
            "Epoch 18/50\n",
            "100/100 [==============================] - 90s 901ms/step - loss: 0.6534 - acc: 0.7714 - val_loss: 0.5365 - val_acc: 0.8309\n",
            "Epoch 19/50\n",
            "100/100 [==============================] - 93s 932ms/step - loss: 0.6191 - acc: 0.7779 - val_loss: 0.5824 - val_acc: 0.8092\n",
            "Epoch 20/50\n",
            "100/100 [==============================] - 90s 898ms/step - loss: 0.6563 - acc: 0.7757 - val_loss: 0.4902 - val_acc: 0.8513\n",
            "Epoch 21/50\n",
            "100/100 [==============================] - 90s 898ms/step - loss: 0.6245 - acc: 0.7902 - val_loss: 0.4694 - val_acc: 0.8546\n",
            "Epoch 22/50\n",
            "100/100 [==============================] - 90s 899ms/step - loss: 0.5816 - acc: 0.7970 - val_loss: 0.5483 - val_acc: 0.8204\n",
            "Epoch 23/50\n",
            "100/100 [==============================] - 93s 928ms/step - loss: 0.5966 - acc: 0.7960 - val_loss: 0.5064 - val_acc: 0.8307\n",
            "Epoch 24/50\n",
            "100/100 [==============================] - 90s 900ms/step - loss: 0.6257 - acc: 0.7815 - val_loss: 0.6209 - val_acc: 0.7862\n",
            "Epoch 25/50\n",
            "100/100 [==============================] - 90s 896ms/step - loss: 0.6036 - acc: 0.7898 - val_loss: 0.4956 - val_acc: 0.8322\n",
            "Epoch 26/50\n",
            "100/100 [==============================] - 93s 933ms/step - loss: 0.6145 - acc: 0.7833 - val_loss: 0.5849 - val_acc: 0.8072\n"
          ],
          "name": "stdout"
        }
      ]
    },
    {
      "metadata": {
        "id": "c99-lDnUUX07",
        "colab_type": "code",
        "colab": {}
      },
      "cell_type": "code",
      "source": [
        "model.save('drive/My Drive/furniture_categories/furniture_cnn_feature_extraction_Regularization_Dropout.h5')"
      ],
      "execution_count": 0,
      "outputs": []
    },
    {
      "metadata": {
        "id": "MF6owlKxUYEu",
        "colab_type": "code",
        "outputId": "af8cd264-3e6a-4574-810a-34d5ee4e5255",
        "colab": {
          "base_uri": "https://localhost:8080/",
          "height": 494
        }
      },
      "cell_type": "code",
      "source": [
        "f, (ax1, ax2) = plt.subplots(1, 2, figsize=(15, 7))\n",
        "t = f.suptitle('Feature Extraction CNN Performance', fontsize=12)\n",
        "\n",
        "epoch_list = list(range(1,27)) # Number of epochs used and it will be used as our X axis\n",
        "ax1.plot(epoch_list, history.history['acc'], label='Train Accuracy')\n",
        "ax1.plot(epoch_list, history.history['val_acc'], label='Validation Accuracy')\n",
        "ax1.set_xticks(np.arange(0, 27, 3))\n",
        "ax1.set_ylabel('Accuracy Value')\n",
        "ax1.set_xlabel('Epoch')\n",
        "ax1.set_title('Accuracy')\n",
        "ax1.legend(loc='best')\n",
        "\n",
        "\n",
        "ax2.plot(epoch_list, history.history['loss'], label='Train Loss')\n",
        "ax2.plot(epoch_list, history.history['val_loss'], label='Validation Loss')\n",
        "ax2.set_xticks(np.arange(0,27, 3))\n",
        "ax2.set_ylabel('Loss Value')\n",
        "ax2.set_xlabel('Epoch')\n",
        "ax2.set_title('Loss')\n",
        "ax2.legend(loc='best')\n",
        "\n",
        "plt.show()"
      ],
      "execution_count": 67,
      "outputs": [
        {
          "output_type": "display_data",
          "data": {
            "image/png": "[encoded data removed]",
            "text/plain": [
              "<Figure size 1080x504 with 2 Axes>"
            ]
          },
          "metadata": {
            "tags": []
          }
        }
      ]
    },
    {
      "metadata": {
        "id": "gi47AHPqfgV2",
        "colab_type": "text"
      },
      "cell_type": "markdown",
      "source": [
        "As we can see, the model without dropout performed significantly better, achieving more than 10% higher accuracy. However, what is interesting in this model is that the validation accuracy was almost as high as the one without dropout, with a 83.3% validation accuracy."
      ]
    },
    {
      "metadata": {
        "id": "QB3Whq19G-K2",
        "colab_type": "text"
      },
      "cell_type": "markdown",
      "source": [
        "#### Pre-trained model with fine-tuning"
      ]
    },
    {
      "metadata": {
        "id": "jtd6miS7Ntqa",
        "colab_type": "text"
      },
      "cell_type": "markdown",
      "source": [
        "For us to fine-tune our model we need to change some of the blocks of the VGG-16 model to be trainable. So, let's have a look at the layers and see which ones we will unfreeze."
      ]
    },
    {
      "metadata": {
        "id": "fanVnDK_G-Ui",
        "colab_type": "code",
        "outputId": "93669d43-0087-4c98-c385-ce1c3ddfa4a8",
        "colab": {
          "base_uri": "https://localhost:8080/",
          "height": 648
        }
      },
      "cell_type": "code",
      "source": [
        "layers = [(layer, layer.name, layer.trainable) for layer in vgg_model.layers]\n",
        "pd.DataFrame(layers, columns=['Layer Type', 'Layer Name', 'Layer Trainable']) "
      ],
      "execution_count": 68,
      "outputs": [
        {
          "output_type": "execute_result",
          "data": {
            "text/html": [
              "<div>\n",
              "<style scoped>\n",
              "    .dataframe tbody tr th:only-of-type {\n",
              "        vertical-align: middle;\n",
              "    }\n",
              "\n",
              "    .dataframe tbody tr th {\n",
              "        vertical-align: top;\n",
              "    }\n",
              "\n",
              "    .dataframe thead th {\n",
              "        text-align: right;\n",
              "    }\n",
              "</style>\n",
              "<table border=\"1\" class=\"dataframe\">\n",
              "  <thead>\n",
              "    <tr style=\"text-align: right;\">\n",
              "      <th></th>\n",
              "      <th>Layer Type</th>\n",
              "      <th>Layer Name</th>\n",
              "      <th>Layer Trainable</th>\n",
              "    </tr>\n",
              "  </thead>\n",
              "  <tbody>\n",
              "    <tr>\n",
              "      <th>0</th>\n",
              "      <td>&lt;keras.engine.input_layer.InputLayer object at...</td>\n",
              "      <td>input_2</td>\n",
              "      <td>False</td>\n",
              "    </tr>\n",
              "    <tr>\n",
              "      <th>1</th>\n",
              "      <td>&lt;keras.layers.convolutional.Conv2D object at 0...</td>\n",
              "      <td>block1_conv1</td>\n",
              "      <td>False</td>\n",
              "    </tr>\n",
              "    <tr>\n",
              "      <th>2</th>\n",
              "      <td>&lt;keras.layers.convolutional.Conv2D object at 0...</td>\n",
              "      <td>block1_conv2</td>\n",
              "      <td>False</td>\n",
              "    </tr>\n",
              "    <tr>\n",
              "      <th>3</th>\n",
              "      <td>&lt;keras.layers.pooling.MaxPooling2D object at 0...</td>\n",
              "      <td>block1_pool</td>\n",
              "      <td>False</td>\n",
              "    </tr>\n",
              "    <tr>\n",
              "      <th>4</th>\n",
              "      <td>&lt;keras.layers.convolutional.Conv2D object at 0...</td>\n",
              "      <td>block2_conv1</td>\n",
              "      <td>False</td>\n",
              "    </tr>\n",
              "    <tr>\n",
              "      <th>5</th>\n",
              "      <td>&lt;keras.layers.convolutional.Conv2D object at 0...</td>\n",
              "      <td>block2_conv2</td>\n",
              "      <td>False</td>\n",
              "    </tr>\n",
              "    <tr>\n",
              "      <th>6</th>\n",
              "      <td>&lt;keras.layers.pooling.MaxPooling2D object at 0...</td>\n",
              "      <td>block2_pool</td>\n",
              "      <td>False</td>\n",
              "    </tr>\n",
              "    <tr>\n",
              "      <th>7</th>\n",
              "      <td>&lt;keras.layers.convolutional.Conv2D object at 0...</td>\n",
              "      <td>block3_conv1</td>\n",
              "      <td>False</td>\n",
              "    </tr>\n",
              "    <tr>\n",
              "      <th>8</th>\n",
              "      <td>&lt;keras.layers.convolutional.Conv2D object at 0...</td>\n",
              "      <td>block3_conv2</td>\n",
              "      <td>False</td>\n",
              "    </tr>\n",
              "    <tr>\n",
              "      <th>9</th>\n",
              "      <td>&lt;keras.layers.convolutional.Conv2D object at 0...</td>\n",
              "      <td>block3_conv3</td>\n",
              "      <td>False</td>\n",
              "    </tr>\n",
              "    <tr>\n",
              "      <th>10</th>\n",
              "      <td>&lt;keras.layers.pooling.MaxPooling2D object at 0...</td>\n",
              "      <td>block3_pool</td>\n",
              "      <td>False</td>\n",
              "    </tr>\n",
              "    <tr>\n",
              "      <th>11</th>\n",
              "      <td>&lt;keras.layers.convolutional.Conv2D object at 0...</td>\n",
              "      <td>block4_conv1</td>\n",
              "      <td>True</td>\n",
              "    </tr>\n",
              "    <tr>\n",
              "      <th>12</th>\n",
              "      <td>&lt;keras.layers.convolutional.Conv2D object at 0...</td>\n",
              "      <td>block4_conv2</td>\n",
              "      <td>True</td>\n",
              "    </tr>\n",
              "    <tr>\n",
              "      <th>13</th>\n",
              "      <td>&lt;keras.layers.convolutional.Conv2D object at 0...</td>\n",
              "      <td>block4_conv3</td>\n",
              "      <td>True</td>\n",
              "    </tr>\n",
              "    <tr>\n",
              "      <th>14</th>\n",
              "      <td>&lt;keras.layers.pooling.MaxPooling2D object at 0...</td>\n",
              "      <td>block4_pool</td>\n",
              "      <td>True</td>\n",
              "    </tr>\n",
              "    <tr>\n",
              "      <th>15</th>\n",
              "      <td>&lt;keras.layers.convolutional.Conv2D object at 0...</td>\n",
              "      <td>block5_conv1</td>\n",
              "      <td>True</td>\n",
              "    </tr>\n",
              "    <tr>\n",
              "      <th>16</th>\n",
              "      <td>&lt;keras.layers.convolutional.Conv2D object at 0...</td>\n",
              "      <td>block5_conv2</td>\n",
              "      <td>True</td>\n",
              "    </tr>\n",
              "    <tr>\n",
              "      <th>17</th>\n",
              "      <td>&lt;keras.layers.convolutional.Conv2D object at 0...</td>\n",
              "      <td>block5_conv3</td>\n",
              "      <td>True</td>\n",
              "    </tr>\n",
              "    <tr>\n",
              "      <th>18</th>\n",
              "      <td>&lt;keras.layers.pooling.MaxPooling2D object at 0...</td>\n",
              "      <td>block5_pool</td>\n",
              "      <td>True</td>\n",
              "    </tr>\n",
              "    <tr>\n",
              "      <th>19</th>\n",
              "      <td>&lt;keras.layers.core.Flatten object at 0x7fef6ef...</td>\n",
              "      <td>flatten_1</td>\n",
              "      <td>True</td>\n",
              "    </tr>\n",
              "  </tbody>\n",
              "</table>\n",
              "</div>"
            ],
            "text/plain": [
              "                                           Layer Type    Layer Name  \\\n",
              "0   <keras.engine.input_layer.InputLayer object at...       input_2   \n",
              "1   <keras.layers.convolutional.Conv2D object at 0...  block1_conv1   \n",
              "2   <keras.layers.convolutional.Conv2D object at 0...  block1_conv2   \n",
              "3   <keras.layers.pooling.MaxPooling2D object at 0...   block1_pool   \n",
              "4   <keras.layers.convolutional.Conv2D object at 0...  block2_conv1   \n",
              "5   <keras.layers.convolutional.Conv2D object at 0...  block2_conv2   \n",
              "6   <keras.layers.pooling.MaxPooling2D object at 0...   block2_pool   \n",
              "7   <keras.layers.convolutional.Conv2D object at 0...  block3_conv1   \n",
              "8   <keras.layers.convolutional.Conv2D object at 0...  block3_conv2   \n",
              "9   <keras.layers.convolutional.Conv2D object at 0...  block3_conv3   \n",
              "10  <keras.layers.pooling.MaxPooling2D object at 0...   block3_pool   \n",
              "11  <keras.layers.convolutional.Conv2D object at 0...  block4_conv1   \n",
              "12  <keras.layers.convolutional.Conv2D object at 0...  block4_conv2   \n",
              "13  <keras.layers.convolutional.Conv2D object at 0...  block4_conv3   \n",
              "14  <keras.layers.pooling.MaxPooling2D object at 0...   block4_pool   \n",
              "15  <keras.layers.convolutional.Conv2D object at 0...  block5_conv1   \n",
              "16  <keras.layers.convolutional.Conv2D object at 0...  block5_conv2   \n",
              "17  <keras.layers.convolutional.Conv2D object at 0...  block5_conv3   \n",
              "18  <keras.layers.pooling.MaxPooling2D object at 0...   block5_pool   \n",
              "19  <keras.layers.core.Flatten object at 0x7fef6ef...     flatten_1   \n",
              "\n",
              "    Layer Trainable  \n",
              "0             False  \n",
              "1             False  \n",
              "2             False  \n",
              "3             False  \n",
              "4             False  \n",
              "5             False  \n",
              "6             False  \n",
              "7             False  \n",
              "8             False  \n",
              "9             False  \n",
              "10            False  \n",
              "11             True  \n",
              "12             True  \n",
              "13             True  \n",
              "14             True  \n",
              "15             True  \n",
              "16             True  \n",
              "17             True  \n",
              "18             True  \n",
              "19             True  "
            ]
          },
          "metadata": {
            "tags": []
          },
          "execution_count": 68
        }
      ]
    },
    {
      "metadata": {
        "id": "5vZcl7vIG-cT",
        "colab_type": "text"
      },
      "cell_type": "markdown",
      "source": [
        "To fine-tune our model we will unfreeze two blocks, 4 and 5, while keeping the first three blocks frozen. By blocking the blocks 4 and 5, we will be unfreezing 9 layers."
      ]
    },
    {
      "metadata": {
        "id": "HxgpxH3hAFwR",
        "colab_type": "code",
        "outputId": "f298c358-2741-4259-c6ba-b7af55622645",
        "colab": {
          "base_uri": "https://localhost:8080/",
          "height": 648
        }
      },
      "cell_type": "code",
      "source": [
        "set_trainable = False\n",
        "for layer in vgg_model.layers:\n",
        "    if layer.name in ['block5_conv1', 'block4_conv1']:\n",
        "        set_trainable = True\n",
        "    if set_trainable:\n",
        "        layer.trainable = True\n",
        "    else:\n",
        "        layer.trainable = False\n",
        "        \n",
        "layers = [(layer, layer.name, layer.trainable) for layer in vgg_model.layers]\n",
        "pd.DataFrame(layers, columns=['Layer Type', 'Layer Name', 'Layer Trainable'])"
      ],
      "execution_count": 69,
      "outputs": [
        {
          "output_type": "execute_result",
          "data": {
            "text/html": [
              "<div>\n",
              "<style scoped>\n",
              "    .dataframe tbody tr th:only-of-type {\n",
              "        vertical-align: middle;\n",
              "    }\n",
              "\n",
              "    .dataframe tbody tr th {\n",
              "        vertical-align: top;\n",
              "    }\n",
              "\n",
              "    .dataframe thead th {\n",
              "        text-align: right;\n",
              "    }\n",
              "</style>\n",
              "<table border=\"1\" class=\"dataframe\">\n",
              "  <thead>\n",
              "    <tr style=\"text-align: right;\">\n",
              "      <th></th>\n",
              "      <th>Layer Type</th>\n",
              "      <th>Layer Name</th>\n",
              "      <th>Layer Trainable</th>\n",
              "    </tr>\n",
              "  </thead>\n",
              "  <tbody>\n",
              "    <tr>\n",
              "      <th>0</th>\n",
              "      <td>&lt;keras.engine.input_layer.InputLayer object at...</td>\n",
              "      <td>input_2</td>\n",
              "      <td>False</td>\n",
              "    </tr>\n",
              "    <tr>\n",
              "      <th>1</th>\n",
              "      <td>&lt;keras.layers.convolutional.Conv2D object at 0...</td>\n",
              "      <td>block1_conv1</td>\n",
              "      <td>False</td>\n",
              "    </tr>\n",
              "    <tr>\n",
              "      <th>2</th>\n",
              "      <td>&lt;keras.layers.convolutional.Conv2D object at 0...</td>\n",
              "      <td>block1_conv2</td>\n",
              "      <td>False</td>\n",
              "    </tr>\n",
              "    <tr>\n",
              "      <th>3</th>\n",
              "      <td>&lt;keras.layers.pooling.MaxPooling2D object at 0...</td>\n",
              "      <td>block1_pool</td>\n",
              "      <td>False</td>\n",
              "    </tr>\n",
              "    <tr>\n",
              "      <th>4</th>\n",
              "      <td>&lt;keras.layers.convolutional.Conv2D object at 0...</td>\n",
              "      <td>block2_conv1</td>\n",
              "      <td>False</td>\n",
              "    </tr>\n",
              "    <tr>\n",
              "      <th>5</th>\n",
              "      <td>&lt;keras.layers.convolutional.Conv2D object at 0...</td>\n",
              "      <td>block2_conv2</td>\n",
              "      <td>False</td>\n",
              "    </tr>\n",
              "    <tr>\n",
              "      <th>6</th>\n",
              "      <td>&lt;keras.layers.pooling.MaxPooling2D object at 0...</td>\n",
              "      <td>block2_pool</td>\n",
              "      <td>False</td>\n",
              "    </tr>\n",
              "    <tr>\n",
              "      <th>7</th>\n",
              "      <td>&lt;keras.layers.convolutional.Conv2D object at 0...</td>\n",
              "      <td>block3_conv1</td>\n",
              "      <td>False</td>\n",
              "    </tr>\n",
              "    <tr>\n",
              "      <th>8</th>\n",
              "      <td>&lt;keras.layers.convolutional.Conv2D object at 0...</td>\n",
              "      <td>block3_conv2</td>\n",
              "      <td>False</td>\n",
              "    </tr>\n",
              "    <tr>\n",
              "      <th>9</th>\n",
              "      <td>&lt;keras.layers.convolutional.Conv2D object at 0...</td>\n",
              "      <td>block3_conv3</td>\n",
              "      <td>False</td>\n",
              "    </tr>\n",
              "    <tr>\n",
              "      <th>10</th>\n",
              "      <td>&lt;keras.layers.pooling.MaxPooling2D object at 0...</td>\n",
              "      <td>block3_pool</td>\n",
              "      <td>False</td>\n",
              "    </tr>\n",
              "    <tr>\n",
              "      <th>11</th>\n",
              "      <td>&lt;keras.layers.convolutional.Conv2D object at 0...</td>\n",
              "      <td>block4_conv1</td>\n",
              "      <td>True</td>\n",
              "    </tr>\n",
              "    <tr>\n",
              "      <th>12</th>\n",
              "      <td>&lt;keras.layers.convolutional.Conv2D object at 0...</td>\n",
              "      <td>block4_conv2</td>\n",
              "      <td>True</td>\n",
              "    </tr>\n",
              "    <tr>\n",
              "      <th>13</th>\n",
              "      <td>&lt;keras.layers.convolutional.Conv2D object at 0...</td>\n",
              "      <td>block4_conv3</td>\n",
              "      <td>True</td>\n",
              "    </tr>\n",
              "    <tr>\n",
              "      <th>14</th>\n",
              "      <td>&lt;keras.layers.pooling.MaxPooling2D object at 0...</td>\n",
              "      <td>block4_pool</td>\n",
              "      <td>True</td>\n",
              "    </tr>\n",
              "    <tr>\n",
              "      <th>15</th>\n",
              "      <td>&lt;keras.layers.convolutional.Conv2D object at 0...</td>\n",
              "      <td>block5_conv1</td>\n",
              "      <td>True</td>\n",
              "    </tr>\n",
              "    <tr>\n",
              "      <th>16</th>\n",
              "      <td>&lt;keras.layers.convolutional.Conv2D object at 0...</td>\n",
              "      <td>block5_conv2</td>\n",
              "      <td>True</td>\n",
              "    </tr>\n",
              "    <tr>\n",
              "      <th>17</th>\n",
              "      <td>&lt;keras.layers.convolutional.Conv2D object at 0...</td>\n",
              "      <td>block5_conv3</td>\n",
              "      <td>True</td>\n",
              "    </tr>\n",
              "    <tr>\n",
              "      <th>18</th>\n",
              "      <td>&lt;keras.layers.pooling.MaxPooling2D object at 0...</td>\n",
              "      <td>block5_pool</td>\n",
              "      <td>True</td>\n",
              "    </tr>\n",
              "    <tr>\n",
              "      <th>19</th>\n",
              "      <td>&lt;keras.layers.core.Flatten object at 0x7fef6ef...</td>\n",
              "      <td>flatten_1</td>\n",
              "      <td>True</td>\n",
              "    </tr>\n",
              "  </tbody>\n",
              "</table>\n",
              "</div>"
            ],
            "text/plain": [
              "                                           Layer Type    Layer Name  \\\n",
              "0   <keras.engine.input_layer.InputLayer object at...       input_2   \n",
              "1   <keras.layers.convolutional.Conv2D object at 0...  block1_conv1   \n",
              "2   <keras.layers.convolutional.Conv2D object at 0...  block1_conv2   \n",
              "3   <keras.layers.pooling.MaxPooling2D object at 0...   block1_pool   \n",
              "4   <keras.layers.convolutional.Conv2D object at 0...  block2_conv1   \n",
              "5   <keras.layers.convolutional.Conv2D object at 0...  block2_conv2   \n",
              "6   <keras.layers.pooling.MaxPooling2D object at 0...   block2_pool   \n",
              "7   <keras.layers.convolutional.Conv2D object at 0...  block3_conv1   \n",
              "8   <keras.layers.convolutional.Conv2D object at 0...  block3_conv2   \n",
              "9   <keras.layers.convolutional.Conv2D object at 0...  block3_conv3   \n",
              "10  <keras.layers.pooling.MaxPooling2D object at 0...   block3_pool   \n",
              "11  <keras.layers.convolutional.Conv2D object at 0...  block4_conv1   \n",
              "12  <keras.layers.convolutional.Conv2D object at 0...  block4_conv2   \n",
              "13  <keras.layers.convolutional.Conv2D object at 0...  block4_conv3   \n",
              "14  <keras.layers.pooling.MaxPooling2D object at 0...   block4_pool   \n",
              "15  <keras.layers.convolutional.Conv2D object at 0...  block5_conv1   \n",
              "16  <keras.layers.convolutional.Conv2D object at 0...  block5_conv2   \n",
              "17  <keras.layers.convolutional.Conv2D object at 0...  block5_conv3   \n",
              "18  <keras.layers.pooling.MaxPooling2D object at 0...   block5_pool   \n",
              "19  <keras.layers.core.Flatten object at 0x7fef6ef...     flatten_1   \n",
              "\n",
              "    Layer Trainable  \n",
              "0             False  \n",
              "1             False  \n",
              "2             False  \n",
              "3             False  \n",
              "4             False  \n",
              "5             False  \n",
              "6             False  \n",
              "7             False  \n",
              "8             False  \n",
              "9             False  \n",
              "10            False  \n",
              "11             True  \n",
              "12             True  \n",
              "13             True  \n",
              "14             True  \n",
              "15             True  \n",
              "16             True  \n",
              "17             True  \n",
              "18             True  \n",
              "19             True  "
            ]
          },
          "metadata": {
            "tags": []
          },
          "execution_count": 69
        }
      ]
    },
    {
      "metadata": {
        "id": "SFcIdK-9AF3T",
        "colab_type": "text"
      },
      "cell_type": "markdown",
      "source": [
        "As we can see in the dataset above, the last 9 layers were unfrozen and are now trainable, which means that the weights for these layers will get updated with forward and backward propagation in each epoch. Now, let's train our model and see if we can generate a better prediction rate."
      ]
    },
    {
      "metadata": {
        "id": "cybXgcJ_O3Yq",
        "colab_type": "code",
        "outputId": "6add335a-51e6-4aa2-99f6-2f116ff8d0bb",
        "colab": {
          "base_uri": "https://localhost:8080/",
          "height": 1745
        }
      },
      "cell_type": "code",
      "source": [
        "model_fn = Sequential()\n",
        "model_fn.add(vgg_model)\n",
        "model_fn.add(Dense(512, activation='relu', input_dim=(299,299,3)))\n",
        "model_fn.add(Dense(512, activation='relu'))\n",
        "model_fn.add(Dense(8, activation='softmax'))\n",
        "\n",
        "model_fn.compile(loss= 'categorical_crossentropy',\n",
        "              optimizer = 'adam',\n",
        "              metrics = ['accuracy'])\n",
        "\n",
        "history = model_fn.fit_generator(train_generator, \n",
        "                                 steps_per_epoch = 100, \n",
        "                                 epochs = 50, \n",
        "                                 validation_data = val_generator, \n",
        "                                 validation_steps = 50, \n",
        "                                 verbose=1)   "
      ],
      "execution_count": 71,
      "outputs": [
        {
          "output_type": "stream",
          "text": [
            "Epoch 1/50\n",
            "100/100 [==============================] - 99s 989ms/step - loss: 5.9467 - acc: 0.4321 - val_loss: 0.9165 - val_acc: 0.6727\n",
            "Epoch 2/50\n",
            "100/100 [==============================] - 93s 926ms/step - loss: 0.7980 - acc: 0.7267 - val_loss: 0.6827 - val_acc: 0.7730\n",
            "Epoch 3/50\n",
            "100/100 [==============================] - 92s 922ms/step - loss: 0.6181 - acc: 0.7968 - val_loss: 0.5214 - val_acc: 0.8322\n",
            "Epoch 4/50\n",
            "100/100 [==============================] - 90s 903ms/step - loss: 0.5240 - acc: 0.8240 - val_loss: 0.6702 - val_acc: 0.7849\n",
            "Epoch 5/50\n",
            "100/100 [==============================] - 90s 902ms/step - loss: 0.5209 - acc: 0.8222 - val_loss: 0.5770 - val_acc: 0.8184\n",
            "Epoch 6/50\n",
            "100/100 [==============================] - 93s 934ms/step - loss: 0.4862 - acc: 0.8315 - val_loss: 0.5761 - val_acc: 0.8105\n",
            "Epoch 7/50\n",
            "100/100 [==============================] - 89s 895ms/step - loss: 0.4808 - acc: 0.8367 - val_loss: 0.5443 - val_acc: 0.8253\n",
            "Epoch 8/50\n",
            "100/100 [==============================] - 90s 899ms/step - loss: 0.4312 - acc: 0.8517 - val_loss: 0.5595 - val_acc: 0.8158\n",
            "Epoch 9/50\n",
            "100/100 [==============================] - 91s 907ms/step - loss: 0.3889 - acc: 0.8627 - val_loss: 0.5285 - val_acc: 0.8283\n",
            "Epoch 10/50\n",
            "100/100 [==============================] - 91s 910ms/step - loss: 0.3929 - acc: 0.8644 - val_loss: 0.4947 - val_acc: 0.8355\n",
            "Epoch 11/50\n",
            "100/100 [==============================] - 90s 899ms/step - loss: 0.3933 - acc: 0.8604 - val_loss: 0.5911 - val_acc: 0.8283\n",
            "Epoch 12/50\n",
            "100/100 [==============================] - 91s 906ms/step - loss: 0.3790 - acc: 0.8674 - val_loss: 0.5093 - val_acc: 0.8428\n",
            "Epoch 13/50\n",
            "100/100 [==============================] - 91s 914ms/step - loss: 0.3313 - acc: 0.8851 - val_loss: 0.5243 - val_acc: 0.8420\n",
            "Epoch 14/50\n",
            "100/100 [==============================] - 90s 896ms/step - loss: 0.3582 - acc: 0.8746 - val_loss: 0.6827 - val_acc: 0.8007\n",
            "Epoch 15/50\n",
            "100/100 [==============================] - 90s 895ms/step - loss: 0.3446 - acc: 0.8742 - val_loss: 0.5923 - val_acc: 0.8250\n",
            "Epoch 16/50\n",
            "100/100 [==============================] - 91s 910ms/step - loss: 0.3327 - acc: 0.8886 - val_loss: 0.4883 - val_acc: 0.8447\n",
            "Epoch 17/50\n",
            "100/100 [==============================] - 91s 912ms/step - loss: 0.3355 - acc: 0.8791 - val_loss: 0.6152 - val_acc: 0.8303\n",
            "Epoch 18/50\n",
            "100/100 [==============================] - 90s 896ms/step - loss: 0.3254 - acc: 0.8902 - val_loss: 0.5547 - val_acc: 0.8283\n",
            "Epoch 19/50\n",
            "100/100 [==============================] - 90s 902ms/step - loss: 0.2992 - acc: 0.8937 - val_loss: 0.5374 - val_acc: 0.8413\n",
            "Epoch 20/50\n",
            "100/100 [==============================] - 91s 913ms/step - loss: 0.3452 - acc: 0.8837 - val_loss: 0.5609 - val_acc: 0.8237\n",
            "Epoch 21/50\n",
            "100/100 [==============================] - 90s 900ms/step - loss: 0.2741 - acc: 0.9031 - val_loss: 0.5658 - val_acc: 0.8296\n",
            "Epoch 22/50\n",
            "100/100 [==============================] - 90s 899ms/step - loss: 0.2897 - acc: 0.9051 - val_loss: 0.6199 - val_acc: 0.8132\n",
            "Epoch 23/50\n",
            "100/100 [==============================] - 92s 922ms/step - loss: 0.2763 - acc: 0.9008 - val_loss: 0.6307 - val_acc: 0.8224\n",
            "Epoch 24/50\n",
            "100/100 [==============================] - 90s 900ms/step - loss: 0.2992 - acc: 0.8955 - val_loss: 0.5516 - val_acc: 0.8349\n",
            "Epoch 25/50\n",
            "100/100 [==============================] - 89s 893ms/step - loss: 0.2528 - acc: 0.9105 - val_loss: 0.5916 - val_acc: 0.8247\n",
            "Epoch 26/50\n",
            "100/100 [==============================] - 91s 908ms/step - loss: 0.2677 - acc: 0.9062 - val_loss: 0.5982 - val_acc: 0.8250\n",
            "Epoch 27/50\n",
            "100/100 [==============================] - 91s 913ms/step - loss: 0.2896 - acc: 0.8990 - val_loss: 0.6294 - val_acc: 0.8309\n",
            "Epoch 28/50\n",
            "100/100 [==============================] - 90s 897ms/step - loss: 0.2693 - acc: 0.9044 - val_loss: 0.4845 - val_acc: 0.8474\n",
            "Epoch 29/50\n",
            "100/100 [==============================] - 91s 906ms/step - loss: 0.2353 - acc: 0.9197 - val_loss: 0.5748 - val_acc: 0.8329\n",
            "Epoch 30/50\n",
            "100/100 [==============================] - 92s 916ms/step - loss: 0.2585 - acc: 0.9084 - val_loss: 0.5170 - val_acc: 0.8395\n",
            "Epoch 31/50\n",
            "100/100 [==============================] - 89s 894ms/step - loss: 0.2598 - acc: 0.9090 - val_loss: 0.5316 - val_acc: 0.8480\n",
            "Epoch 32/50\n",
            "100/100 [==============================] - 90s 896ms/step - loss: 0.3007 - acc: 0.8949 - val_loss: 0.5510 - val_acc: 0.8428\n",
            "Epoch 33/50\n",
            "100/100 [==============================] - 90s 904ms/step - loss: 0.2569 - acc: 0.9145 - val_loss: 0.5867 - val_acc: 0.8118\n",
            "Epoch 34/50\n",
            "100/100 [==============================] - 92s 915ms/step - loss: 0.2314 - acc: 0.9144 - val_loss: 0.5310 - val_acc: 0.8428\n",
            "Epoch 35/50\n",
            "100/100 [==============================] - 90s 895ms/step - loss: 0.2640 - acc: 0.9039 - val_loss: 0.6269 - val_acc: 0.8204\n",
            "Epoch 36/50\n",
            "100/100 [==============================] - 91s 906ms/step - loss: 0.2176 - acc: 0.9247 - val_loss: 0.4904 - val_acc: 0.8507\n",
            "Epoch 37/50\n",
            "100/100 [==============================] - 91s 915ms/step - loss: 0.2023 - acc: 0.9287 - val_loss: 0.5656 - val_acc: 0.8433\n",
            "Epoch 38/50\n",
            "100/100 [==============================] - 90s 897ms/step - loss: 0.2378 - acc: 0.9183 - val_loss: 0.5298 - val_acc: 0.8395\n",
            "Epoch 39/50\n",
            "100/100 [==============================] - 91s 905ms/step - loss: 0.2051 - acc: 0.9266 - val_loss: 0.6292 - val_acc: 0.8316\n",
            "Epoch 40/50\n",
            "100/100 [==============================] - 91s 906ms/step - loss: 0.2029 - acc: 0.9286 - val_loss: 0.5832 - val_acc: 0.8428\n",
            "Epoch 41/50\n",
            "100/100 [==============================] - 92s 917ms/step - loss: 0.2263 - acc: 0.9240 - val_loss: 0.5356 - val_acc: 0.8513\n",
            "Epoch 42/50\n",
            "100/100 [==============================] - 90s 899ms/step - loss: 0.2171 - acc: 0.9239 - val_loss: 0.5511 - val_acc: 0.8414\n",
            "Epoch 43/50\n",
            "100/100 [==============================] - 91s 910ms/step - loss: 0.1967 - acc: 0.9309 - val_loss: 0.6760 - val_acc: 0.8427\n",
            "Epoch 44/50\n",
            "100/100 [==============================] - 92s 919ms/step - loss: 0.2036 - acc: 0.9306 - val_loss: 0.6604 - val_acc: 0.8434\n",
            "Epoch 45/50\n",
            "100/100 [==============================] - 90s 899ms/step - loss: 0.2092 - acc: 0.9212 - val_loss: 0.6154 - val_acc: 0.8441\n",
            "Epoch 46/50\n",
            "100/100 [==============================] - 91s 906ms/step - loss: 0.2232 - acc: 0.9238 - val_loss: 0.5298 - val_acc: 0.8513\n",
            "Epoch 47/50\n",
            "100/100 [==============================] - 92s 917ms/step - loss: 0.2109 - acc: 0.9294 - val_loss: 0.5811 - val_acc: 0.8401\n",
            "Epoch 48/50\n",
            "100/100 [==============================] - 90s 899ms/step - loss: 0.1956 - acc: 0.9318 - val_loss: 0.5310 - val_acc: 0.8539\n",
            "Epoch 49/50\n",
            "100/100 [==============================] - 89s 888ms/step - loss: 0.1915 - acc: 0.9324 - val_loss: 0.5958 - val_acc: 0.8413\n",
            "Epoch 50/50\n",
            "100/100 [==============================] - 91s 906ms/step - loss: 0.1877 - acc: 0.9341 - val_loss: 0.6017 - val_acc: 0.8362\n"
          ],
          "name": "stdout"
        }
      ]
    },
    {
      "metadata": {
        "id": "8yvx1eV7O3kn",
        "colab_type": "code",
        "colab": {}
      },
      "cell_type": "code",
      "source": [
        "model.save('drive/My Drive/furniture_categories/furniture_cnn_fine_tuning.h5')"
      ],
      "execution_count": 0,
      "outputs": []
    },
    {
      "metadata": {
        "id": "vR28FlxIO3vJ",
        "colab_type": "code",
        "outputId": "24c62077-0c94-4e3c-eb20-6b4cd788e125",
        "colab": {
          "base_uri": "https://localhost:8080/",
          "height": 494
        }
      },
      "cell_type": "code",
      "source": [
        "f, (ax1, ax2) = plt.subplots(1, 2, figsize=(15, 7))\n",
        "t = f.suptitle('Feature Extraction CNN Performance', fontsize=12)\n",
        "\n",
        "epoch_list = list(range(1,51)) # Number of epochs used and it will be used as our X axis\n",
        "ax1.plot(epoch_list, history.history['acc'], label='Train Accuracy')\n",
        "ax1.plot(epoch_list, history.history['val_acc'], label='Validation Accuracy')\n",
        "ax1.set_xticks(np.arange(0,51, 3))\n",
        "ax1.set_ylabel('Accuracy Value')\n",
        "ax1.set_xlabel('Epoch')\n",
        "ax1.set_title('Accuracy')\n",
        "ax1.legend(loc='best')\n",
        "\n",
        "\n",
        "ax2.plot(epoch_list, history.history['loss'], label='Train Loss')\n",
        "ax2.plot(epoch_list, history.history['val_loss'], label='Validation Loss')\n",
        "ax2.set_xticks(np.arange(0,51, 3))\n",
        "ax2.set_ylabel('Loss Value')\n",
        "ax2.set_xlabel('Epoch')\n",
        "ax2.set_title('Loss')\n",
        "ax2.legend(loc='best')\n",
        "\n",
        "plt.show()"
      ],
      "execution_count": 73,
      "outputs": [
        {
          "output_type": "display_data",
          "data": {
            "image/png": "[encoded data removed]",
            "text/plain": [
              "<Figure size 1080x504 with 2 Axes>"
            ]
          },
          "metadata": {
            "tags": []
          }
        }
      ]
    },
    {
      "metadata": {
        "id": "sZmqpDfhbFk8",
        "colab_type": "text"
      },
      "cell_type": "markdown",
      "source": [
        "By fine-tuning the pre-trained model we achieved a result very similar to feature extraction without regularization, accuracy of 93.4% and validation accuracy of 83.6%"
      ]
    },
    {
      "metadata": {
        "id": "0ufFkUvVJqiG",
        "colab_type": "text"
      },
      "cell_type": "markdown",
      "source": [
        "### InceptionV3"
      ]
    },
    {
      "metadata": {
        "id": "cqeHbTKxKJqa",
        "colab_type": "text"
      },
      "cell_type": "markdown",
      "source": [
        "![alt text](https://lh3.googleusercontent.com/-wO5J1IBqwbs/WePLhUcJQBI/AAAAAAAAAqk/lv0TTx4TfYEm1hC993J-wj1woPuIYCxBACLcBGAs/s1600/model.png)"
      ]
    },
    {
      "metadata": {
        "id": "jWGfjtioKJb3",
        "colab_type": "text"
      },
      "cell_type": "markdown",
      "source": [
        "Above is the architecture of the InceptionV3 model. \n",
        "\n",
        "This model is well-known for how deep and complex it is. Just for comparison, the VGG-16 has a total of 23 layers while InceptionV3 has a total of 313 layers!\n",
        "\n",
        "The key difference with Inception and other models is that rather than choosing whether to choose a convolutional filter of 5x5 or 3x3 or 2x2, it uses them all at different flows and then it stacks them up together with the concatenate function.\n",
        "  - Just as we can see in the figure, the model has convolutional layers at a different flows, and at each flow the convolutional layers has a different filter dimension, and at the end, it concatenates it all together.\n",
        "  - The model also uses a combination of Max pooling and Global Average pooling.\n",
        "  - For regularization, the model makes use of BatchNormalization.\n",
        "    - What is Batch Normalization?\n",
        "      - Batch normalization is a technique used for improving the performance and stability of neural networks. It normalizes the inputs of each layer in such a way that they have a mean output activation of zero and standard deviation of one.\n",
        "      - It is better implemented after each fully connected layer, but before the activation  function. as we can see in the InceptionV3 model summary below.\n",
        "      - It is also seen as regularization, as it adds some noise to the network, similar to effect of Dropout.\n",
        "      \n",
        "   \n",
        "\n",
        "\n",
        "Below, is the summary of the InceptionV3 model in detail."
      ]
    },
    {
      "metadata": {
        "id": "TGswjokoKIVz",
        "colab_type": "code",
        "outputId": "8e473ef6-f093-4058-b126-1f3f0e8855db",
        "colab": {
          "base_uri": "https://localhost:8080/",
          "height": 11590
        }
      },
      "cell_type": "code",
      "source": [
        "from keras.applications.inception_v3 import InceptionV3\n",
        "\n",
        "\n",
        "# Full InceptionV3 model architecture\n",
        "base_inception_1 = InceptionV3(weights='imagenet', include_top=True, \n",
        "                             input_shape=(299, 299, 3))\n",
        "\n",
        "base_inception_1.summary()"
      ],
      "execution_count": 74,
      "outputs": [
        {
          "output_type": "stream",
          "text": [
            "Downloading data from https://github.com/fchollet/deep-learning-models/releases/download/v0.5/inception_v3_weights_tf_dim_ordering_tf_kernels.h5\n",
            "96116736/96112376 [==============================] - 2s 0us/step\n",
            "__________________________________________________________________________________________________\n",
            "Layer (type)                    Output Shape         Param #     Connected to                     \n",
            "==================================================================================================\n",
            "input_3 (InputLayer)            (None, 299, 299, 3)  0                                            \n",
            "__________________________________________________________________________________________________\n",
            "conv2d_1 (Conv2D)               (None, 149, 149, 32) 864         input_3[0][0]                    \n",
            "__________________________________________________________________________________________________\n",
            "batch_normalization_1 (BatchNor (None, 149, 149, 32) 96          conv2d_1[0][0]                   \n",
            "__________________________________________________________________________________________________\n",
            "activation_1 (Activation)       (None, 149, 149, 32) 0           batch_normalization_1[0][0]      \n",
            "__________________________________________________________________________________________________\n",
            "conv2d_2 (Conv2D)               (None, 147, 147, 32) 9216        activation_1[0][0]               \n",
            "__________________________________________________________________________________________________\n",
            "batch_normalization_2 (BatchNor (None, 147, 147, 32) 96          conv2d_2[0][0]                   \n",
            "__________________________________________________________________________________________________\n",
            "activation_2 (Activation)       (None, 147, 147, 32) 0           batch_normalization_2[0][0]      \n",
            "__________________________________________________________________________________________________\n",
            "conv2d_3 (Conv2D)               (None, 147, 147, 64) 18432       activation_2[0][0]               \n",
            "__________________________________________________________________________________________________\n",
            "batch_normalization_3 (BatchNor (None, 147, 147, 64) 192         conv2d_3[0][0]                   \n",
            "__________________________________________________________________________________________________\n",
            "activation_3 (Activation)       (None, 147, 147, 64) 0           batch_normalization_3[0][0]      \n",
            "__________________________________________________________________________________________________\n",
            "max_pooling2d_1 (MaxPooling2D)  (None, 73, 73, 64)   0           activation_3[0][0]               \n",
            "__________________________________________________________________________________________________\n",
            "conv2d_4 (Conv2D)               (None, 73, 73, 80)   5120        max_pooling2d_1[0][0]            \n",
            "__________________________________________________________________________________________________\n",
            "batch_normalization_4 (BatchNor (None, 73, 73, 80)   240         conv2d_4[0][0]                   \n",
            "__________________________________________________________________________________________________\n",
            "activation_4 (Activation)       (None, 73, 73, 80)   0           batch_normalization_4[0][0]      \n",
            "__________________________________________________________________________________________________\n",
            "conv2d_5 (Conv2D)               (None, 71, 71, 192)  138240      activation_4[0][0]               \n",
            "__________________________________________________________________________________________________\n",
            "batch_normalization_5 (BatchNor (None, 71, 71, 192)  576         conv2d_5[0][0]                   \n",
            "__________________________________________________________________________________________________\n",
            "activation_5 (Activation)       (None, 71, 71, 192)  0           batch_normalization_5[0][0]      \n",
            "__________________________________________________________________________________________________\n",
            "max_pooling2d_2 (MaxPooling2D)  (None, 35, 35, 192)  0           activation_5[0][0]               \n",
            "__________________________________________________________________________________________________\n",
            "conv2d_9 (Conv2D)               (None, 35, 35, 64)   12288       max_pooling2d_2[0][0]            \n",
            "__________________________________________________________________________________________________\n",
            "batch_normalization_9 (BatchNor (None, 35, 35, 64)   192         conv2d_9[0][0]                   \n",
            "__________________________________________________________________________________________________\n",
            "activation_9 (Activation)       (None, 35, 35, 64)   0           batch_normalization_9[0][0]      \n",
            "__________________________________________________________________________________________________\n",
            "conv2d_7 (Conv2D)               (None, 35, 35, 48)   9216        max_pooling2d_2[0][0]            \n",
            "__________________________________________________________________________________________________\n",
            "conv2d_10 (Conv2D)              (None, 35, 35, 96)   55296       activation_9[0][0]               \n",
            "__________________________________________________________________________________________________\n",
            "batch_normalization_7 (BatchNor (None, 35, 35, 48)   144         conv2d_7[0][0]                   \n",
            "__________________________________________________________________________________________________\n",
            "batch_normalization_10 (BatchNo (None, 35, 35, 96)   288         conv2d_10[0][0]                  \n",
            "__________________________________________________________________________________________________\n",
            "activation_7 (Activation)       (None, 35, 35, 48)   0           batch_normalization_7[0][0]      \n",
            "__________________________________________________________________________________________________\n",
            "activation_10 (Activation)      (None, 35, 35, 96)   0           batch_normalization_10[0][0]     \n",
            "__________________________________________________________________________________________________\n",
            "average_pooling2d_1 (AveragePoo (None, 35, 35, 192)  0           max_pooling2d_2[0][0]            \n",
            "__________________________________________________________________________________________________\n",
            "conv2d_6 (Conv2D)               (None, 35, 35, 64)   12288       max_pooling2d_2[0][0]            \n",
            "__________________________________________________________________________________________________\n",
            "conv2d_8 (Conv2D)               (None, 35, 35, 64)   76800       activation_7[0][0]               \n",
            "__________________________________________________________________________________________________\n",
            "conv2d_11 (Conv2D)              (None, 35, 35, 96)   82944       activation_10[0][0]              \n",
            "__________________________________________________________________________________________________\n",
            "conv2d_12 (Conv2D)              (None, 35, 35, 32)   6144        average_pooling2d_1[0][0]        \n",
            "__________________________________________________________________________________________________\n",
            "batch_normalization_6 (BatchNor (None, 35, 35, 64)   192         conv2d_6[0][0]                   \n",
            "__________________________________________________________________________________________________\n",
            "batch_normalization_8 (BatchNor (None, 35, 35, 64)   192         conv2d_8[0][0]                   \n",
            "__________________________________________________________________________________________________\n",
            "batch_normalization_11 (BatchNo (None, 35, 35, 96)   288         conv2d_11[0][0]                  \n",
            "__________________________________________________________________________________________________\n",
            "batch_normalization_12 (BatchNo (None, 35, 35, 32)   96          conv2d_12[0][0]                  \n",
            "__________________________________________________________________________________________________\n",
            "activation_6 (Activation)       (None, 35, 35, 64)   0           batch_normalization_6[0][0]      \n",
            "__________________________________________________________________________________________________\n",
            "activation_8 (Activation)       (None, 35, 35, 64)   0           batch_normalization_8[0][0]      \n",
            "__________________________________________________________________________________________________\n",
            "activation_11 (Activation)      (None, 35, 35, 96)   0           batch_normalization_11[0][0]     \n",
            "__________________________________________________________________________________________________\n",
            "activation_12 (Activation)      (None, 35, 35, 32)   0           batch_normalization_12[0][0]     \n",
            "__________________________________________________________________________________________________\n",
            "mixed0 (Concatenate)            (None, 35, 35, 256)  0           activation_6[0][0]               \n",
            "                                                                 activation_8[0][0]               \n",
            "                                                                 activation_11[0][0]              \n",
            "                                                                 activation_12[0][0]              \n",
            "__________________________________________________________________________________________________\n",
            "conv2d_16 (Conv2D)              (None, 35, 35, 64)   16384       mixed0[0][0]                     \n",
            "__________________________________________________________________________________________________\n",
            "batch_normalization_16 (BatchNo (None, 35, 35, 64)   192         conv2d_16[0][0]                  \n",
            "__________________________________________________________________________________________________\n",
            "activation_16 (Activation)      (None, 35, 35, 64)   0           batch_normalization_16[0][0]     \n",
            "__________________________________________________________________________________________________\n",
            "conv2d_14 (Conv2D)              (None, 35, 35, 48)   12288       mixed0[0][0]                     \n",
            "__________________________________________________________________________________________________\n",
            "conv2d_17 (Conv2D)              (None, 35, 35, 96)   55296       activation_16[0][0]              \n",
            "__________________________________________________________________________________________________\n",
            "batch_normalization_14 (BatchNo (None, 35, 35, 48)   144         conv2d_14[0][0]                  \n",
            "__________________________________________________________________________________________________\n",
            "batch_normalization_17 (BatchNo (None, 35, 35, 96)   288         conv2d_17[0][0]                  \n",
            "__________________________________________________________________________________________________\n",
            "activation_14 (Activation)      (None, 35, 35, 48)   0           batch_normalization_14[0][0]     \n",
            "__________________________________________________________________________________________________\n",
            "activation_17 (Activation)      (None, 35, 35, 96)   0           batch_normalization_17[0][0]     \n",
            "__________________________________________________________________________________________________\n",
            "average_pooling2d_2 (AveragePoo (None, 35, 35, 256)  0           mixed0[0][0]                     \n",
            "__________________________________________________________________________________________________\n",
            "conv2d_13 (Conv2D)              (None, 35, 35, 64)   16384       mixed0[0][0]                     \n",
            "__________________________________________________________________________________________________\n",
            "conv2d_15 (Conv2D)              (None, 35, 35, 64)   76800       activation_14[0][0]              \n",
            "__________________________________________________________________________________________________\n",
            "conv2d_18 (Conv2D)              (None, 35, 35, 96)   82944       activation_17[0][0]              \n",
            "__________________________________________________________________________________________________\n",
            "conv2d_19 (Conv2D)              (None, 35, 35, 64)   16384       average_pooling2d_2[0][0]        \n",
            "__________________________________________________________________________________________________\n",
            "batch_normalization_13 (BatchNo (None, 35, 35, 64)   192         conv2d_13[0][0]                  \n",
            "__________________________________________________________________________________________________\n",
            "batch_normalization_15 (BatchNo (None, 35, 35, 64)   192         conv2d_15[0][0]                  \n",
            "__________________________________________________________________________________________________\n",
            "batch_normalization_18 (BatchNo (None, 35, 35, 96)   288         conv2d_18[0][0]                  \n",
            "__________________________________________________________________________________________________\n",
            "batch_normalization_19 (BatchNo (None, 35, 35, 64)   192         conv2d_19[0][0]                  \n",
            "__________________________________________________________________________________________________\n",
            "activation_13 (Activation)      (None, 35, 35, 64)   0           batch_normalization_13[0][0]     \n",
            "__________________________________________________________________________________________________\n",
            "activation_15 (Activation)      (None, 35, 35, 64)   0           batch_normalization_15[0][0]     \n",
            "__________________________________________________________________________________________________\n",
            "activation_18 (Activation)      (None, 35, 35, 96)   0           batch_normalization_18[0][0]     \n",
            "__________________________________________________________________________________________________\n",
            "activation_19 (Activation)      (None, 35, 35, 64)   0           batch_normalization_19[0][0]     \n",
            "__________________________________________________________________________________________________\n",
            "mixed1 (Concatenate)            (None, 35, 35, 288)  0           activation_13[0][0]              \n",
            "                                                                 activation_15[0][0]              \n",
            "                                                                 activation_18[0][0]              \n",
            "                                                                 activation_19[0][0]              \n",
            "__________________________________________________________________________________________________\n",
            "conv2d_23 (Conv2D)              (None, 35, 35, 64)   18432       mixed1[0][0]                     \n",
            "__________________________________________________________________________________________________\n",
            "batch_normalization_23 (BatchNo (None, 35, 35, 64)   192         conv2d_23[0][0]                  \n",
            "__________________________________________________________________________________________________\n",
            "activation_23 (Activation)      (None, 35, 35, 64)   0           batch_normalization_23[0][0]     \n",
            "__________________________________________________________________________________________________\n",
            "conv2d_21 (Conv2D)              (None, 35, 35, 48)   13824       mixed1[0][0]                     \n",
            "__________________________________________________________________________________________________\n",
            "conv2d_24 (Conv2D)              (None, 35, 35, 96)   55296       activation_23[0][0]              \n",
            "__________________________________________________________________________________________________\n",
            "batch_normalization_21 (BatchNo (None, 35, 35, 48)   144         conv2d_21[0][0]                  \n",
            "__________________________________________________________________________________________________\n",
            "batch_normalization_24 (BatchNo (None, 35, 35, 96)   288         conv2d_24[0][0]                  \n",
            "__________________________________________________________________________________________________\n",
            "activation_21 (Activation)      (None, 35, 35, 48)   0           batch_normalization_21[0][0]     \n",
            "__________________________________________________________________________________________________\n",
            "activation_24 (Activation)      (None, 35, 35, 96)   0           batch_normalization_24[0][0]     \n",
            "__________________________________________________________________________________________________\n",
            "average_pooling2d_3 (AveragePoo (None, 35, 35, 288)  0           mixed1[0][0]                     \n",
            "__________________________________________________________________________________________________\n",
            "conv2d_20 (Conv2D)              (None, 35, 35, 64)   18432       mixed1[0][0]                     \n",
            "__________________________________________________________________________________________________\n",
            "conv2d_22 (Conv2D)              (None, 35, 35, 64)   76800       activation_21[0][0]              \n",
            "__________________________________________________________________________________________________\n",
            "conv2d_25 (Conv2D)              (None, 35, 35, 96)   82944       activation_24[0][0]              \n",
            "__________________________________________________________________________________________________\n",
            "conv2d_26 (Conv2D)              (None, 35, 35, 64)   18432       average_pooling2d_3[0][0]        \n",
            "__________________________________________________________________________________________________\n",
            "batch_normalization_20 (BatchNo (None, 35, 35, 64)   192         conv2d_20[0][0]                  \n",
            "__________________________________________________________________________________________________\n",
            "batch_normalization_22 (BatchNo (None, 35, 35, 64)   192         conv2d_22[0][0]                  \n",
            "__________________________________________________________________________________________________\n",
            "batch_normalization_25 (BatchNo (None, 35, 35, 96)   288         conv2d_25[0][0]                  \n",
            "__________________________________________________________________________________________________\n",
            "batch_normalization_26 (BatchNo (None, 35, 35, 64)   192         conv2d_26[0][0]                  \n",
            "__________________________________________________________________________________________________\n",
            "activation_20 (Activation)      (None, 35, 35, 64)   0           batch_normalization_20[0][0]     \n",
            "__________________________________________________________________________________________________\n",
            "activation_22 (Activation)      (None, 35, 35, 64)   0           batch_normalization_22[0][0]     \n",
            "__________________________________________________________________________________________________\n",
            "activation_25 (Activation)      (None, 35, 35, 96)   0           batch_normalization_25[0][0]     \n",
            "__________________________________________________________________________________________________\n",
            "activation_26 (Activation)      (None, 35, 35, 64)   0           batch_normalization_26[0][0]     \n",
            "__________________________________________________________________________________________________\n",
            "mixed2 (Concatenate)            (None, 35, 35, 288)  0           activation_20[0][0]              \n",
            "                                                                 activation_22[0][0]              \n",
            "                                                                 activation_25[0][0]              \n",
            "                                                                 activation_26[0][0]              \n",
            "__________________________________________________________________________________________________\n",
            "conv2d_28 (Conv2D)              (None, 35, 35, 64)   18432       mixed2[0][0]                     \n",
            "__________________________________________________________________________________________________\n",
            "batch_normalization_28 (BatchNo (None, 35, 35, 64)   192         conv2d_28[0][0]                  \n",
            "__________________________________________________________________________________________________\n",
            "activation_28 (Activation)      (None, 35, 35, 64)   0           batch_normalization_28[0][0]     \n",
            "__________________________________________________________________________________________________\n",
            "conv2d_29 (Conv2D)              (None, 35, 35, 96)   55296       activation_28[0][0]              \n",
            "__________________________________________________________________________________________________\n",
            "batch_normalization_29 (BatchNo (None, 35, 35, 96)   288         conv2d_29[0][0]                  \n",
            "__________________________________________________________________________________________________\n",
            "activation_29 (Activation)      (None, 35, 35, 96)   0           batch_normalization_29[0][0]     \n",
            "__________________________________________________________________________________________________\n",
            "conv2d_27 (Conv2D)              (None, 17, 17, 384)  995328      mixed2[0][0]                     \n",
            "__________________________________________________________________________________________________\n",
            "conv2d_30 (Conv2D)              (None, 17, 17, 96)   82944       activation_29[0][0]              \n",
            "__________________________________________________________________________________________________\n",
            "batch_normalization_27 (BatchNo (None, 17, 17, 384)  1152        conv2d_27[0][0]                  \n",
            "__________________________________________________________________________________________________\n",
            "batch_normalization_30 (BatchNo (None, 17, 17, 96)   288         conv2d_30[0][0]                  \n",
            "__________________________________________________________________________________________________\n",
            "activation_27 (Activation)      (None, 17, 17, 384)  0           batch_normalization_27[0][0]     \n",
            "__________________________________________________________________________________________________\n",
            "activation_30 (Activation)      (None, 17, 17, 96)   0           batch_normalization_30[0][0]     \n",
            "__________________________________________________________________________________________________\n",
            "max_pooling2d_3 (MaxPooling2D)  (None, 17, 17, 288)  0           mixed2[0][0]                     \n",
            "__________________________________________________________________________________________________\n",
            "mixed3 (Concatenate)            (None, 17, 17, 768)  0           activation_27[0][0]              \n",
            "                                                                 activation_30[0][0]              \n",
            "                                                                 max_pooling2d_3[0][0]            \n",
            "__________________________________________________________________________________________________\n",
            "conv2d_35 (Conv2D)              (None, 17, 17, 128)  98304       mixed3[0][0]                     \n",
            "__________________________________________________________________________________________________\n",
            "batch_normalization_35 (BatchNo (None, 17, 17, 128)  384         conv2d_35[0][0]                  \n",
            "__________________________________________________________________________________________________\n",
            "activation_35 (Activation)      (None, 17, 17, 128)  0           batch_normalization_35[0][0]     \n",
            "__________________________________________________________________________________________________\n",
            "conv2d_36 (Conv2D)              (None, 17, 17, 128)  114688      activation_35[0][0]              \n",
            "__________________________________________________________________________________________________\n",
            "batch_normalization_36 (BatchNo (None, 17, 17, 128)  384         conv2d_36[0][0]                  \n",
            "__________________________________________________________________________________________________\n",
            "activation_36 (Activation)      (None, 17, 17, 128)  0           batch_normalization_36[0][0]     \n",
            "__________________________________________________________________________________________________\n",
            "conv2d_32 (Conv2D)              (None, 17, 17, 128)  98304       mixed3[0][0]                     \n",
            "__________________________________________________________________________________________________\n",
            "conv2d_37 (Conv2D)              (None, 17, 17, 128)  114688      activation_36[0][0]              \n",
            "__________________________________________________________________________________________________\n",
            "batch_normalization_32 (BatchNo (None, 17, 17, 128)  384         conv2d_32[0][0]                  \n",
            "__________________________________________________________________________________________________\n",
            "batch_normalization_37 (BatchNo (None, 17, 17, 128)  384         conv2d_37[0][0]                  \n",
            "__________________________________________________________________________________________________\n",
            "activation_32 (Activation)      (None, 17, 17, 128)  0           batch_normalization_32[0][0]     \n",
            "__________________________________________________________________________________________________\n",
            "activation_37 (Activation)      (None, 17, 17, 128)  0           batch_normalization_37[0][0]     \n",
            "__________________________________________________________________________________________________\n",
            "conv2d_33 (Conv2D)              (None, 17, 17, 128)  114688      activation_32[0][0]              \n",
            "__________________________________________________________________________________________________\n",
            "conv2d_38 (Conv2D)              (None, 17, 17, 128)  114688      activation_37[0][0]              \n",
            "__________________________________________________________________________________________________\n",
            "batch_normalization_33 (BatchNo (None, 17, 17, 128)  384         conv2d_33[0][0]                  \n",
            "__________________________________________________________________________________________________\n",
            "batch_normalization_38 (BatchNo (None, 17, 17, 128)  384         conv2d_38[0][0]                  \n",
            "__________________________________________________________________________________________________\n",
            "activation_33 (Activation)      (None, 17, 17, 128)  0           batch_normalization_33[0][0]     \n",
            "__________________________________________________________________________________________________\n",
            "activation_38 (Activation)      (None, 17, 17, 128)  0           batch_normalization_38[0][0]     \n",
            "__________________________________________________________________________________________________\n",
            "average_pooling2d_4 (AveragePoo (None, 17, 17, 768)  0           mixed3[0][0]                     \n",
            "__________________________________________________________________________________________________\n",
            "conv2d_31 (Conv2D)              (None, 17, 17, 192)  147456      mixed3[0][0]                     \n",
            "__________________________________________________________________________________________________\n",
            "conv2d_34 (Conv2D)              (None, 17, 17, 192)  172032      activation_33[0][0]              \n",
            "__________________________________________________________________________________________________\n",
            "conv2d_39 (Conv2D)              (None, 17, 17, 192)  172032      activation_38[0][0]              \n",
            "__________________________________________________________________________________________________\n",
            "conv2d_40 (Conv2D)              (None, 17, 17, 192)  147456      average_pooling2d_4[0][0]        \n",
            "__________________________________________________________________________________________________\n",
            "batch_normalization_31 (BatchNo (None, 17, 17, 192)  576         conv2d_31[0][0]                  \n",
            "__________________________________________________________________________________________________\n",
            "batch_normalization_34 (BatchNo (None, 17, 17, 192)  576         conv2d_34[0][0]                  \n",
            "__________________________________________________________________________________________________\n",
            "batch_normalization_39 (BatchNo (None, 17, 17, 192)  576         conv2d_39[0][0]                  \n",
            "__________________________________________________________________________________________________\n",
            "batch_normalization_40 (BatchNo (None, 17, 17, 192)  576         conv2d_40[0][0]                  \n",
            "__________________________________________________________________________________________________\n",
            "activation_31 (Activation)      (None, 17, 17, 192)  0           batch_normalization_31[0][0]     \n",
            "__________________________________________________________________________________________________\n",
            "activation_34 (Activation)      (None, 17, 17, 192)  0           batch_normalization_34[0][0]     \n",
            "__________________________________________________________________________________________________\n",
            "activation_39 (Activation)      (None, 17, 17, 192)  0           batch_normalization_39[0][0]     \n",
            "__________________________________________________________________________________________________\n",
            "activation_40 (Activation)      (None, 17, 17, 192)  0           batch_normalization_40[0][0]     \n",
            "__________________________________________________________________________________________________\n",
            "mixed4 (Concatenate)            (None, 17, 17, 768)  0           activation_31[0][0]              \n",
            "                                                                 activation_34[0][0]              \n",
            "                                                                 activation_39[0][0]              \n",
            "                                                                 activation_40[0][0]              \n",
            "__________________________________________________________________________________________________\n",
            "conv2d_45 (Conv2D)              (None, 17, 17, 160)  122880      mixed4[0][0]                     \n",
            "__________________________________________________________________________________________________\n",
            "batch_normalization_45 (BatchNo (None, 17, 17, 160)  480         conv2d_45[0][0]                  \n",
            "__________________________________________________________________________________________________\n",
            "activation_45 (Activation)      (None, 17, 17, 160)  0           batch_normalization_45[0][0]     \n",
            "__________________________________________________________________________________________________\n",
            "conv2d_46 (Conv2D)              (None, 17, 17, 160)  179200      activation_45[0][0]              \n",
            "__________________________________________________________________________________________________\n",
            "batch_normalization_46 (BatchNo (None, 17, 17, 160)  480         conv2d_46[0][0]                  \n",
            "__________________________________________________________________________________________________\n",
            "activation_46 (Activation)      (None, 17, 17, 160)  0           batch_normalization_46[0][0]     \n",
            "__________________________________________________________________________________________________\n",
            "conv2d_42 (Conv2D)              (None, 17, 17, 160)  122880      mixed4[0][0]                     \n",
            "__________________________________________________________________________________________________\n",
            "conv2d_47 (Conv2D)              (None, 17, 17, 160)  179200      activation_46[0][0]              \n",
            "__________________________________________________________________________________________________\n",
            "batch_normalization_42 (BatchNo (None, 17, 17, 160)  480         conv2d_42[0][0]                  \n",
            "__________________________________________________________________________________________________\n",
            "batch_normalization_47 (BatchNo (None, 17, 17, 160)  480         conv2d_47[0][0]                  \n",
            "__________________________________________________________________________________________________\n",
            "activation_42 (Activation)      (None, 17, 17, 160)  0           batch_normalization_42[0][0]     \n",
            "__________________________________________________________________________________________________\n",
            "activation_47 (Activation)      (None, 17, 17, 160)  0           batch_normalization_47[0][0]     \n",
            "__________________________________________________________________________________________________\n",
            "conv2d_43 (Conv2D)              (None, 17, 17, 160)  179200      activation_42[0][0]              \n",
            "__________________________________________________________________________________________________\n",
            "conv2d_48 (Conv2D)              (None, 17, 17, 160)  179200      activation_47[0][0]              \n",
            "__________________________________________________________________________________________________\n",
            "batch_normalization_43 (BatchNo (None, 17, 17, 160)  480         conv2d_43[0][0]                  \n",
            "__________________________________________________________________________________________________\n",
            "batch_normalization_48 (BatchNo (None, 17, 17, 160)  480         conv2d_48[0][0]                  \n",
            "__________________________________________________________________________________________________\n",
            "activation_43 (Activation)      (None, 17, 17, 160)  0           batch_normalization_43[0][0]     \n",
            "__________________________________________________________________________________________________\n",
            "activation_48 (Activation)      (None, 17, 17, 160)  0           batch_normalization_48[0][0]     \n",
            "__________________________________________________________________________________________________\n",
            "average_pooling2d_5 (AveragePoo (None, 17, 17, 768)  0           mixed4[0][0]                     \n",
            "__________________________________________________________________________________________________\n",
            "conv2d_41 (Conv2D)              (None, 17, 17, 192)  147456      mixed4[0][0]                     \n",
            "__________________________________________________________________________________________________\n",
            "conv2d_44 (Conv2D)              (None, 17, 17, 192)  215040      activation_43[0][0]              \n",
            "__________________________________________________________________________________________________\n",
            "conv2d_49 (Conv2D)              (None, 17, 17, 192)  215040      activation_48[0][0]              \n",
            "__________________________________________________________________________________________________\n",
            "conv2d_50 (Conv2D)              (None, 17, 17, 192)  147456      average_pooling2d_5[0][0]        \n",
            "__________________________________________________________________________________________________\n",
            "batch_normalization_41 (BatchNo (None, 17, 17, 192)  576         conv2d_41[0][0]                  \n",
            "__________________________________________________________________________________________________\n",
            "batch_normalization_44 (BatchNo (None, 17, 17, 192)  576         conv2d_44[0][0]                  \n",
            "__________________________________________________________________________________________________\n",
            "batch_normalization_49 (BatchNo (None, 17, 17, 192)  576         conv2d_49[0][0]                  \n",
            "__________________________________________________________________________________________________\n",
            "batch_normalization_50 (BatchNo (None, 17, 17, 192)  576         conv2d_50[0][0]                  \n",
            "__________________________________________________________________________________________________\n",
            "activation_41 (Activation)      (None, 17, 17, 192)  0           batch_normalization_41[0][0]     \n",
            "__________________________________________________________________________________________________\n",
            "activation_44 (Activation)      (None, 17, 17, 192)  0           batch_normalization_44[0][0]     \n",
            "__________________________________________________________________________________________________\n",
            "activation_49 (Activation)      (None, 17, 17, 192)  0           batch_normalization_49[0][0]     \n",
            "__________________________________________________________________________________________________\n",
            "activation_50 (Activation)      (None, 17, 17, 192)  0           batch_normalization_50[0][0]     \n",
            "__________________________________________________________________________________________________\n",
            "mixed5 (Concatenate)            (None, 17, 17, 768)  0           activation_41[0][0]              \n",
            "                                                                 activation_44[0][0]              \n",
            "                                                                 activation_49[0][0]              \n",
            "                                                                 activation_50[0][0]              \n",
            "__________________________________________________________________________________________________\n",
            "conv2d_55 (Conv2D)              (None, 17, 17, 160)  122880      mixed5[0][0]                     \n",
            "__________________________________________________________________________________________________\n",
            "batch_normalization_55 (BatchNo (None, 17, 17, 160)  480         conv2d_55[0][0]                  \n",
            "__________________________________________________________________________________________________\n",
            "activation_55 (Activation)      (None, 17, 17, 160)  0           batch_normalization_55[0][0]     \n",
            "__________________________________________________________________________________________________\n",
            "conv2d_56 (Conv2D)              (None, 17, 17, 160)  179200      activation_55[0][0]              \n",
            "__________________________________________________________________________________________________\n",
            "batch_normalization_56 (BatchNo (None, 17, 17, 160)  480         conv2d_56[0][0]                  \n",
            "__________________________________________________________________________________________________\n",
            "activation_56 (Activation)      (None, 17, 17, 160)  0           batch_normalization_56[0][0]     \n",
            "__________________________________________________________________________________________________\n",
            "conv2d_52 (Conv2D)              (None, 17, 17, 160)  122880      mixed5[0][0]                     \n",
            "__________________________________________________________________________________________________\n",
            "conv2d_57 (Conv2D)              (None, 17, 17, 160)  179200      activation_56[0][0]              \n",
            "__________________________________________________________________________________________________\n",
            "batch_normalization_52 (BatchNo (None, 17, 17, 160)  480         conv2d_52[0][0]                  \n",
            "__________________________________________________________________________________________________\n",
            "batch_normalization_57 (BatchNo (None, 17, 17, 160)  480         conv2d_57[0][0]                  \n",
            "__________________________________________________________________________________________________\n",
            "activation_52 (Activation)      (None, 17, 17, 160)  0           batch_normalization_52[0][0]     \n",
            "__________________________________________________________________________________________________\n",
            "activation_57 (Activation)      (None, 17, 17, 160)  0           batch_normalization_57[0][0]     \n",
            "__________________________________________________________________________________________________\n",
            "conv2d_53 (Conv2D)              (None, 17, 17, 160)  179200      activation_52[0][0]              \n",
            "__________________________________________________________________________________________________\n",
            "conv2d_58 (Conv2D)              (None, 17, 17, 160)  179200      activation_57[0][0]              \n",
            "__________________________________________________________________________________________________\n",
            "batch_normalization_53 (BatchNo (None, 17, 17, 160)  480         conv2d_53[0][0]                  \n",
            "__________________________________________________________________________________________________\n",
            "batch_normalization_58 (BatchNo (None, 17, 17, 160)  480         conv2d_58[0][0]                  \n",
            "__________________________________________________________________________________________________\n",
            "activation_53 (Activation)      (None, 17, 17, 160)  0           batch_normalization_53[0][0]     \n",
            "__________________________________________________________________________________________________\n",
            "activation_58 (Activation)      (None, 17, 17, 160)  0           batch_normalization_58[0][0]     \n",
            "__________________________________________________________________________________________________\n",
            "average_pooling2d_6 (AveragePoo (None, 17, 17, 768)  0           mixed5[0][0]                     \n",
            "__________________________________________________________________________________________________\n",
            "conv2d_51 (Conv2D)              (None, 17, 17, 192)  147456      mixed5[0][0]                     \n",
            "__________________________________________________________________________________________________\n",
            "conv2d_54 (Conv2D)              (None, 17, 17, 192)  215040      activation_53[0][0]              \n",
            "__________________________________________________________________________________________________\n",
            "conv2d_59 (Conv2D)              (None, 17, 17, 192)  215040      activation_58[0][0]              \n",
            "__________________________________________________________________________________________________\n",
            "conv2d_60 (Conv2D)              (None, 17, 17, 192)  147456      average_pooling2d_6[0][0]        \n",
            "__________________________________________________________________________________________________\n",
            "batch_normalization_51 (BatchNo (None, 17, 17, 192)  576         conv2d_51[0][0]                  \n",
            "__________________________________________________________________________________________________\n",
            "batch_normalization_54 (BatchNo (None, 17, 17, 192)  576         conv2d_54[0][0]                  \n",
            "__________________________________________________________________________________________________\n",
            "batch_normalization_59 (BatchNo (None, 17, 17, 192)  576         conv2d_59[0][0]                  \n",
            "__________________________________________________________________________________________________\n",
            "batch_normalization_60 (BatchNo (None, 17, 17, 192)  576         conv2d_60[0][0]                  \n",
            "__________________________________________________________________________________________________\n",
            "activation_51 (Activation)      (None, 17, 17, 192)  0           batch_normalization_51[0][0]     \n",
            "__________________________________________________________________________________________________\n",
            "activation_54 (Activation)      (None, 17, 17, 192)  0           batch_normalization_54[0][0]     \n",
            "__________________________________________________________________________________________________\n",
            "activation_59 (Activation)      (None, 17, 17, 192)  0           batch_normalization_59[0][0]     \n",
            "__________________________________________________________________________________________________\n",
            "activation_60 (Activation)      (None, 17, 17, 192)  0           batch_normalization_60[0][0]     \n",
            "__________________________________________________________________________________________________\n",
            "mixed6 (Concatenate)            (None, 17, 17, 768)  0           activation_51[0][0]              \n",
            "                                                                 activation_54[0][0]              \n",
            "                                                                 activation_59[0][0]              \n",
            "                                                                 activation_60[0][0]              \n",
            "__________________________________________________________________________________________________\n",
            "conv2d_65 (Conv2D)              (None, 17, 17, 192)  147456      mixed6[0][0]                     \n",
            "__________________________________________________________________________________________________\n",
            "batch_normalization_65 (BatchNo (None, 17, 17, 192)  576         conv2d_65[0][0]                  \n",
            "__________________________________________________________________________________________________\n",
            "activation_65 (Activation)      (None, 17, 17, 192)  0           batch_normalization_65[0][0]     \n",
            "__________________________________________________________________________________________________\n",
            "conv2d_66 (Conv2D)              (None, 17, 17, 192)  258048      activation_65[0][0]              \n",
            "__________________________________________________________________________________________________\n",
            "batch_normalization_66 (BatchNo (None, 17, 17, 192)  576         conv2d_66[0][0]                  \n",
            "__________________________________________________________________________________________________\n",
            "activation_66 (Activation)      (None, 17, 17, 192)  0           batch_normalization_66[0][0]     \n",
            "__________________________________________________________________________________________________\n",
            "conv2d_62 (Conv2D)              (None, 17, 17, 192)  147456      mixed6[0][0]                     \n",
            "__________________________________________________________________________________________________\n",
            "conv2d_67 (Conv2D)              (None, 17, 17, 192)  258048      activation_66[0][0]              \n",
            "__________________________________________________________________________________________________\n",
            "batch_normalization_62 (BatchNo (None, 17, 17, 192)  576         conv2d_62[0][0]                  \n",
            "__________________________________________________________________________________________________\n",
            "batch_normalization_67 (BatchNo (None, 17, 17, 192)  576         conv2d_67[0][0]                  \n",
            "__________________________________________________________________________________________________\n",
            "activation_62 (Activation)      (None, 17, 17, 192)  0           batch_normalization_62[0][0]     \n",
            "__________________________________________________________________________________________________\n",
            "activation_67 (Activation)      (None, 17, 17, 192)  0           batch_normalization_67[0][0]     \n",
            "__________________________________________________________________________________________________\n",
            "conv2d_63 (Conv2D)              (None, 17, 17, 192)  258048      activation_62[0][0]              \n",
            "__________________________________________________________________________________________________\n",
            "conv2d_68 (Conv2D)              (None, 17, 17, 192)  258048      activation_67[0][0]              \n",
            "__________________________________________________________________________________________________\n",
            "batch_normalization_63 (BatchNo (None, 17, 17, 192)  576         conv2d_63[0][0]                  \n",
            "__________________________________________________________________________________________________\n",
            "batch_normalization_68 (BatchNo (None, 17, 17, 192)  576         conv2d_68[0][0]                  \n",
            "__________________________________________________________________________________________________\n",
            "activation_63 (Activation)      (None, 17, 17, 192)  0           batch_normalization_63[0][0]     \n",
            "__________________________________________________________________________________________________\n",
            "activation_68 (Activation)      (None, 17, 17, 192)  0           batch_normalization_68[0][0]     \n",
            "__________________________________________________________________________________________________\n",
            "average_pooling2d_7 (AveragePoo (None, 17, 17, 768)  0           mixed6[0][0]                     \n",
            "__________________________________________________________________________________________________\n",
            "conv2d_61 (Conv2D)              (None, 17, 17, 192)  147456      mixed6[0][0]                     \n",
            "__________________________________________________________________________________________________\n",
            "conv2d_64 (Conv2D)              (None, 17, 17, 192)  258048      activation_63[0][0]              \n",
            "__________________________________________________________________________________________________\n",
            "conv2d_69 (Conv2D)              (None, 17, 17, 192)  258048      activation_68[0][0]              \n",
            "__________________________________________________________________________________________________\n",
            "conv2d_70 (Conv2D)              (None, 17, 17, 192)  147456      average_pooling2d_7[0][0]        \n",
            "__________________________________________________________________________________________________\n",
            "batch_normalization_61 (BatchNo (None, 17, 17, 192)  576         conv2d_61[0][0]                  \n",
            "__________________________________________________________________________________________________\n",
            "batch_normalization_64 (BatchNo (None, 17, 17, 192)  576         conv2d_64[0][0]                  \n",
            "__________________________________________________________________________________________________\n",
            "batch_normalization_69 (BatchNo (None, 17, 17, 192)  576         conv2d_69[0][0]                  \n",
            "__________________________________________________________________________________________________\n",
            "batch_normalization_70 (BatchNo (None, 17, 17, 192)  576         conv2d_70[0][0]                  \n",
            "__________________________________________________________________________________________________\n",
            "activation_61 (Activation)      (None, 17, 17, 192)  0           batch_normalization_61[0][0]     \n",
            "__________________________________________________________________________________________________\n",
            "activation_64 (Activation)      (None, 17, 17, 192)  0           batch_normalization_64[0][0]     \n",
            "__________________________________________________________________________________________________\n",
            "activation_69 (Activation)      (None, 17, 17, 192)  0           batch_normalization_69[0][0]     \n",
            "__________________________________________________________________________________________________\n",
            "activation_70 (Activation)      (None, 17, 17, 192)  0           batch_normalization_70[0][0]     \n",
            "__________________________________________________________________________________________________\n",
            "mixed7 (Concatenate)            (None, 17, 17, 768)  0           activation_61[0][0]              \n",
            "                                                                 activation_64[0][0]              \n",
            "                                                                 activation_69[0][0]              \n",
            "                                                                 activation_70[0][0]              \n",
            "__________________________________________________________________________________________________\n",
            "conv2d_73 (Conv2D)              (None, 17, 17, 192)  147456      mixed7[0][0]                     \n",
            "__________________________________________________________________________________________________\n",
            "batch_normalization_73 (BatchNo (None, 17, 17, 192)  576         conv2d_73[0][0]                  \n",
            "__________________________________________________________________________________________________\n",
            "activation_73 (Activation)      (None, 17, 17, 192)  0           batch_normalization_73[0][0]     \n",
            "__________________________________________________________________________________________________\n",
            "conv2d_74 (Conv2D)              (None, 17, 17, 192)  258048      activation_73[0][0]              \n",
            "__________________________________________________________________________________________________\n",
            "batch_normalization_74 (BatchNo (None, 17, 17, 192)  576         conv2d_74[0][0]                  \n",
            "__________________________________________________________________________________________________\n",
            "activation_74 (Activation)      (None, 17, 17, 192)  0           batch_normalization_74[0][0]     \n",
            "__________________________________________________________________________________________________\n",
            "conv2d_71 (Conv2D)              (None, 17, 17, 192)  147456      mixed7[0][0]                     \n",
            "__________________________________________________________________________________________________\n",
            "conv2d_75 (Conv2D)              (None, 17, 17, 192)  258048      activation_74[0][0]              \n",
            "__________________________________________________________________________________________________\n",
            "batch_normalization_71 (BatchNo (None, 17, 17, 192)  576         conv2d_71[0][0]                  \n",
            "__________________________________________________________________________________________________\n",
            "batch_normalization_75 (BatchNo (None, 17, 17, 192)  576         conv2d_75[0][0]                  \n",
            "__________________________________________________________________________________________________\n",
            "activation_71 (Activation)      (None, 17, 17, 192)  0           batch_normalization_71[0][0]     \n",
            "__________________________________________________________________________________________________\n",
            "activation_75 (Activation)      (None, 17, 17, 192)  0           batch_normalization_75[0][0]     \n",
            "__________________________________________________________________________________________________\n",
            "conv2d_72 (Conv2D)              (None, 8, 8, 320)    552960      activation_71[0][0]              \n",
            "__________________________________________________________________________________________________\n",
            "conv2d_76 (Conv2D)              (None, 8, 8, 192)    331776      activation_75[0][0]              \n",
            "__________________________________________________________________________________________________\n",
            "batch_normalization_72 (BatchNo (None, 8, 8, 320)    960         conv2d_72[0][0]                  \n",
            "__________________________________________________________________________________________________\n",
            "batch_normalization_76 (BatchNo (None, 8, 8, 192)    576         conv2d_76[0][0]                  \n",
            "__________________________________________________________________________________________________\n",
            "activation_72 (Activation)      (None, 8, 8, 320)    0           batch_normalization_72[0][0]     \n",
            "__________________________________________________________________________________________________\n",
            "activation_76 (Activation)      (None, 8, 8, 192)    0           batch_normalization_76[0][0]     \n",
            "__________________________________________________________________________________________________\n",
            "max_pooling2d_4 (MaxPooling2D)  (None, 8, 8, 768)    0           mixed7[0][0]                     \n",
            "__________________________________________________________________________________________________\n",
            "mixed8 (Concatenate)            (None, 8, 8, 1280)   0           activation_72[0][0]              \n",
            "                                                                 activation_76[0][0]              \n",
            "                                                                 max_pooling2d_4[0][0]            \n",
            "__________________________________________________________________________________________________\n",
            "conv2d_81 (Conv2D)              (None, 8, 8, 448)    573440      mixed8[0][0]                     \n",
            "__________________________________________________________________________________________________\n",
            "batch_normalization_81 (BatchNo (None, 8, 8, 448)    1344        conv2d_81[0][0]                  \n",
            "__________________________________________________________________________________________________\n",
            "activation_81 (Activation)      (None, 8, 8, 448)    0           batch_normalization_81[0][0]     \n",
            "__________________________________________________________________________________________________\n",
            "conv2d_78 (Conv2D)              (None, 8, 8, 384)    491520      mixed8[0][0]                     \n",
            "__________________________________________________________________________________________________\n",
            "conv2d_82 (Conv2D)              (None, 8, 8, 384)    1548288     activation_81[0][0]              \n",
            "__________________________________________________________________________________________________\n",
            "batch_normalization_78 (BatchNo (None, 8, 8, 384)    1152        conv2d_78[0][0]                  \n",
            "__________________________________________________________________________________________________\n",
            "batch_normalization_82 (BatchNo (None, 8, 8, 384)    1152        conv2d_82[0][0]                  \n",
            "__________________________________________________________________________________________________\n",
            "activation_78 (Activation)      (None, 8, 8, 384)    0           batch_normalization_78[0][0]     \n",
            "__________________________________________________________________________________________________\n",
            "activation_82 (Activation)      (None, 8, 8, 384)    0           batch_normalization_82[0][0]     \n",
            "__________________________________________________________________________________________________\n",
            "conv2d_79 (Conv2D)              (None, 8, 8, 384)    442368      activation_78[0][0]              \n",
            "__________________________________________________________________________________________________\n",
            "conv2d_80 (Conv2D)              (None, 8, 8, 384)    442368      activation_78[0][0]              \n",
            "__________________________________________________________________________________________________\n",
            "conv2d_83 (Conv2D)              (None, 8, 8, 384)    442368      activation_82[0][0]              \n",
            "__________________________________________________________________________________________________\n",
            "conv2d_84 (Conv2D)              (None, 8, 8, 384)    442368      activation_82[0][0]              \n",
            "__________________________________________________________________________________________________\n",
            "average_pooling2d_8 (AveragePoo (None, 8, 8, 1280)   0           mixed8[0][0]                     \n",
            "__________________________________________________________________________________________________\n",
            "conv2d_77 (Conv2D)              (None, 8, 8, 320)    409600      mixed8[0][0]                     \n",
            "__________________________________________________________________________________________________\n",
            "batch_normalization_79 (BatchNo (None, 8, 8, 384)    1152        conv2d_79[0][0]                  \n",
            "__________________________________________________________________________________________________\n",
            "batch_normalization_80 (BatchNo (None, 8, 8, 384)    1152        conv2d_80[0][0]                  \n",
            "__________________________________________________________________________________________________\n",
            "batch_normalization_83 (BatchNo (None, 8, 8, 384)    1152        conv2d_83[0][0]                  \n",
            "__________________________________________________________________________________________________\n",
            "batch_normalization_84 (BatchNo (None, 8, 8, 384)    1152        conv2d_84[0][0]                  \n",
            "__________________________________________________________________________________________________\n",
            "conv2d_85 (Conv2D)              (None, 8, 8, 192)    245760      average_pooling2d_8[0][0]        \n",
            "__________________________________________________________________________________________________\n",
            "batch_normalization_77 (BatchNo (None, 8, 8, 320)    960         conv2d_77[0][0]                  \n",
            "__________________________________________________________________________________________________\n",
            "activation_79 (Activation)      (None, 8, 8, 384)    0           batch_normalization_79[0][0]     \n",
            "__________________________________________________________________________________________________\n",
            "activation_80 (Activation)      (None, 8, 8, 384)    0           batch_normalization_80[0][0]     \n",
            "__________________________________________________________________________________________________\n",
            "activation_83 (Activation)      (None, 8, 8, 384)    0           batch_normalization_83[0][0]     \n",
            "__________________________________________________________________________________________________\n",
            "activation_84 (Activation)      (None, 8, 8, 384)    0           batch_normalization_84[0][0]     \n",
            "__________________________________________________________________________________________________\n",
            "batch_normalization_85 (BatchNo (None, 8, 8, 192)    576         conv2d_85[0][0]                  \n",
            "__________________________________________________________________________________________________\n",
            "activation_77 (Activation)      (None, 8, 8, 320)    0           batch_normalization_77[0][0]     \n",
            "__________________________________________________________________________________________________\n",
            "mixed9_0 (Concatenate)          (None, 8, 8, 768)    0           activation_79[0][0]              \n",
            "                                                                 activation_80[0][0]              \n",
            "__________________________________________________________________________________________________\n",
            "concatenate_1 (Concatenate)     (None, 8, 8, 768)    0           activation_83[0][0]              \n",
            "                                                                 activation_84[0][0]              \n",
            "__________________________________________________________________________________________________\n",
            "activation_85 (Activation)      (None, 8, 8, 192)    0           batch_normalization_85[0][0]     \n",
            "__________________________________________________________________________________________________\n",
            "mixed9 (Concatenate)            (None, 8, 8, 2048)   0           activation_77[0][0]              \n",
            "                                                                 mixed9_0[0][0]                   \n",
            "                                                                 concatenate_1[0][0]              \n",
            "                                                                 activation_85[0][0]              \n",
            "__________________________________________________________________________________________________\n",
            "conv2d_90 (Conv2D)              (None, 8, 8, 448)    917504      mixed9[0][0]                     \n",
            "__________________________________________________________________________________________________\n",
            "batch_normalization_90 (BatchNo (None, 8, 8, 448)    1344        conv2d_90[0][0]                  \n",
            "__________________________________________________________________________________________________\n",
            "activation_90 (Activation)      (None, 8, 8, 448)    0           batch_normalization_90[0][0]     \n",
            "__________________________________________________________________________________________________\n",
            "conv2d_87 (Conv2D)              (None, 8, 8, 384)    786432      mixed9[0][0]                     \n",
            "__________________________________________________________________________________________________\n",
            "conv2d_91 (Conv2D)              (None, 8, 8, 384)    1548288     activation_90[0][0]              \n",
            "__________________________________________________________________________________________________\n",
            "batch_normalization_87 (BatchNo (None, 8, 8, 384)    1152        conv2d_87[0][0]                  \n",
            "__________________________________________________________________________________________________\n",
            "batch_normalization_91 (BatchNo (None, 8, 8, 384)    1152        conv2d_91[0][0]                  \n",
            "__________________________________________________________________________________________________\n",
            "activation_87 (Activation)      (None, 8, 8, 384)    0           batch_normalization_87[0][0]     \n",
            "__________________________________________________________________________________________________\n",
            "activation_91 (Activation)      (None, 8, 8, 384)    0           batch_normalization_91[0][0]     \n",
            "__________________________________________________________________________________________________\n",
            "conv2d_88 (Conv2D)              (None, 8, 8, 384)    442368      activation_87[0][0]              \n",
            "__________________________________________________________________________________________________\n",
            "conv2d_89 (Conv2D)              (None, 8, 8, 384)    442368      activation_87[0][0]              \n",
            "__________________________________________________________________________________________________\n",
            "conv2d_92 (Conv2D)              (None, 8, 8, 384)    442368      activation_91[0][0]              \n",
            "__________________________________________________________________________________________________\n",
            "conv2d_93 (Conv2D)              (None, 8, 8, 384)    442368      activation_91[0][0]              \n",
            "__________________________________________________________________________________________________\n",
            "average_pooling2d_9 (AveragePoo (None, 8, 8, 2048)   0           mixed9[0][0]                     \n",
            "__________________________________________________________________________________________________\n",
            "conv2d_86 (Conv2D)              (None, 8, 8, 320)    655360      mixed9[0][0]                     \n",
            "__________________________________________________________________________________________________\n",
            "batch_normalization_88 (BatchNo (None, 8, 8, 384)    1152        conv2d_88[0][0]                  \n",
            "__________________________________________________________________________________________________\n",
            "batch_normalization_89 (BatchNo (None, 8, 8, 384)    1152        conv2d_89[0][0]                  \n",
            "__________________________________________________________________________________________________\n",
            "batch_normalization_92 (BatchNo (None, 8, 8, 384)    1152        conv2d_92[0][0]                  \n",
            "__________________________________________________________________________________________________\n",
            "batch_normalization_93 (BatchNo (None, 8, 8, 384)    1152        conv2d_93[0][0]                  \n",
            "__________________________________________________________________________________________________\n",
            "conv2d_94 (Conv2D)              (None, 8, 8, 192)    393216      average_pooling2d_9[0][0]        \n",
            "__________________________________________________________________________________________________\n",
            "batch_normalization_86 (BatchNo (None, 8, 8, 320)    960         conv2d_86[0][0]                  \n",
            "__________________________________________________________________________________________________\n",
            "activation_88 (Activation)      (None, 8, 8, 384)    0           batch_normalization_88[0][0]     \n",
            "__________________________________________________________________________________________________\n",
            "activation_89 (Activation)      (None, 8, 8, 384)    0           batch_normalization_89[0][0]     \n",
            "__________________________________________________________________________________________________\n",
            "activation_92 (Activation)      (None, 8, 8, 384)    0           batch_normalization_92[0][0]     \n",
            "__________________________________________________________________________________________________\n",
            "activation_93 (Activation)      (None, 8, 8, 384)    0           batch_normalization_93[0][0]     \n",
            "__________________________________________________________________________________________________\n",
            "batch_normalization_94 (BatchNo (None, 8, 8, 192)    576         conv2d_94[0][0]                  \n",
            "__________________________________________________________________________________________________\n",
            "activation_86 (Activation)      (None, 8, 8, 320)    0           batch_normalization_86[0][0]     \n",
            "__________________________________________________________________________________________________\n",
            "mixed9_1 (Concatenate)          (None, 8, 8, 768)    0           activation_88[0][0]              \n",
            "                                                                 activation_89[0][0]              \n",
            "__________________________________________________________________________________________________\n",
            "concatenate_2 (Concatenate)     (None, 8, 8, 768)    0           activation_92[0][0]              \n",
            "                                                                 activation_93[0][0]              \n",
            "__________________________________________________________________________________________________\n",
            "activation_94 (Activation)      (None, 8, 8, 192)    0           batch_normalization_94[0][0]     \n",
            "__________________________________________________________________________________________________\n",
            "mixed10 (Concatenate)           (None, 8, 8, 2048)   0           activation_86[0][0]              \n",
            "                                                                 mixed9_1[0][0]                   \n",
            "                                                                 concatenate_2[0][0]              \n",
            "                                                                 activation_94[0][0]              \n",
            "__________________________________________________________________________________________________\n",
            "avg_pool (GlobalAveragePooling2 (None, 2048)         0           mixed10[0][0]                    \n",
            "__________________________________________________________________________________________________\n",
            "predictions (Dense)             (None, 1000)         2049000     avg_pool[0][0]                   \n",
            "==================================================================================================\n",
            "Total params: 23,851,784\n",
            "Trainable params: 23,817,352\n",
            "Non-trainable params: 34,432\n",
            "__________________________________________________________________________________________________\n"
          ],
          "name": "stdout"
        }
      ]
    },
    {
      "metadata": {
        "id": "9S-wDFtHO35K",
        "colab_type": "text"
      },
      "cell_type": "markdown",
      "source": [
        "#### Feature extraction with InceptionV3\n",
        "\n",
        "Now, let's use the InceptionV3 model as feature extraction, meaning that we will freeze all the layers to keep the trained weights and remove the fully connected layers for us to train our images."
      ]
    },
    {
      "metadata": {
        "id": "veQS6rw1qKtk",
        "colab_type": "code",
        "colab": {}
      },
      "cell_type": "code",
      "source": [
        "from keras.models import Model\n",
        "from keras.optimizers import Adam\n",
        "from keras.layers import GlobalAveragePooling2D\n",
        "from keras.layers import Dense\n",
        "from keras.applications.inception_v3 import InceptionV3"
      ],
      "execution_count": 0,
      "outputs": []
    },
    {
      "metadata": {
        "id": "MXe4r5_lFpbi",
        "colab_type": "code",
        "outputId": "7c59d89f-a0ba-420c-9032-641c7c245401",
        "colab": {
          "base_uri": "https://localhost:8080/",
          "height": 52
        }
      },
      "cell_type": "code",
      "source": [
        "# Get the InceptionV3 model so we can do transfer learning\n",
        "base_inception = InceptionV3(weights='imagenet', include_top=False, \n",
        "                             input_shape=(299, 299, 3)) \n"
      ],
      "execution_count": 76,
      "outputs": [
        {
          "output_type": "stream",
          "text": [
            "Downloading data from https://github.com/fchollet/deep-learning-models/releases/download/v0.5/inception_v3_weights_tf_dim_ordering_tf_kernels_notop.h5\n",
            "87916544/87910968 [==============================] - 2s 0us/step\n"
          ],
          "name": "stdout"
        }
      ]
    },
    {
      "metadata": {
        "id": "Jw2pD2xkU5V1",
        "colab_type": "text"
      },
      "cell_type": "markdown",
      "source": [
        "Now that we downloaded our model, let's freeze all the layers. "
      ]
    },
    {
      "metadata": {
        "colab_type": "code",
        "outputId": "625c3b45-06dd-4c50-e812-b67b59eb263c",
        "id": "THsaWu4Jvaiz",
        "colab": {
          "base_uri": "https://localhost:8080/",
          "height": 1907
        }
      },
      "cell_type": "code",
      "source": [
        "base_inception.trainable = False\n",
        "for layer in base_inception.layers:\n",
        "  layer.trainable = False\n",
        "        \n",
        "layers = [(layer, layer.name, layer.trainable) for layer in base_inception.layers]\n",
        "pd.DataFrame(layers, columns=['Layer Type', 'Layer Name', 'Layer Trainable'])"
      ],
      "execution_count": 77,
      "outputs": [
        {
          "output_type": "execute_result",
          "data": {
            "text/html": [
              "<div>\n",
              "<style scoped>\n",
              "    .dataframe tbody tr th:only-of-type {\n",
              "        vertical-align: middle;\n",
              "    }\n",
              "\n",
              "    .dataframe tbody tr th {\n",
              "        vertical-align: top;\n",
              "    }\n",
              "\n",
              "    .dataframe thead th {\n",
              "        text-align: right;\n",
              "    }\n",
              "</style>\n",
              "<table border=\"1\" class=\"dataframe\">\n",
              "  <thead>\n",
              "    <tr style=\"text-align: right;\">\n",
              "      <th></th>\n",
              "      <th>Layer Type</th>\n",
              "      <th>Layer Name</th>\n",
              "      <th>Layer Trainable</th>\n",
              "    </tr>\n",
              "  </thead>\n",
              "  <tbody>\n",
              "    <tr>\n",
              "      <th>0</th>\n",
              "      <td>&lt;keras.engine.input_layer.InputLayer object at...</td>\n",
              "      <td>input_4</td>\n",
              "      <td>False</td>\n",
              "    </tr>\n",
              "    <tr>\n",
              "      <th>1</th>\n",
              "      <td>&lt;keras.layers.convolutional.Conv2D object at 0...</td>\n",
              "      <td>conv2d_95</td>\n",
              "      <td>False</td>\n",
              "    </tr>\n",
              "    <tr>\n",
              "      <th>2</th>\n",
              "      <td>&lt;keras.layers.normalization.BatchNormalization...</td>\n",
              "      <td>batch_normalization_95</td>\n",
              "      <td>False</td>\n",
              "    </tr>\n",
              "    <tr>\n",
              "      <th>3</th>\n",
              "      <td>&lt;keras.layers.core.Activation object at 0x7fef...</td>\n",
              "      <td>activation_95</td>\n",
              "      <td>False</td>\n",
              "    </tr>\n",
              "    <tr>\n",
              "      <th>4</th>\n",
              "      <td>&lt;keras.layers.convolutional.Conv2D object at 0...</td>\n",
              "      <td>conv2d_96</td>\n",
              "      <td>False</td>\n",
              "    </tr>\n",
              "    <tr>\n",
              "      <th>5</th>\n",
              "      <td>&lt;keras.layers.normalization.BatchNormalization...</td>\n",
              "      <td>batch_normalization_96</td>\n",
              "      <td>False</td>\n",
              "    </tr>\n",
              "    <tr>\n",
              "      <th>6</th>\n",
              "      <td>&lt;keras.layers.core.Activation object at 0x7fef...</td>\n",
              "      <td>activation_96</td>\n",
              "      <td>False</td>\n",
              "    </tr>\n",
              "    <tr>\n",
              "      <th>7</th>\n",
              "      <td>&lt;keras.layers.convolutional.Conv2D object at 0...</td>\n",
              "      <td>conv2d_97</td>\n",
              "      <td>False</td>\n",
              "    </tr>\n",
              "    <tr>\n",
              "      <th>8</th>\n",
              "      <td>&lt;keras.layers.normalization.BatchNormalization...</td>\n",
              "      <td>batch_normalization_97</td>\n",
              "      <td>False</td>\n",
              "    </tr>\n",
              "    <tr>\n",
              "      <th>9</th>\n",
              "      <td>&lt;keras.layers.core.Activation object at 0x7fef...</td>\n",
              "      <td>activation_97</td>\n",
              "      <td>False</td>\n",
              "    </tr>\n",
              "    <tr>\n",
              "      <th>10</th>\n",
              "      <td>&lt;keras.layers.pooling.MaxPooling2D object at 0...</td>\n",
              "      <td>max_pooling2d_5</td>\n",
              "      <td>False</td>\n",
              "    </tr>\n",
              "    <tr>\n",
              "      <th>11</th>\n",
              "      <td>&lt;keras.layers.convolutional.Conv2D object at 0...</td>\n",
              "      <td>conv2d_98</td>\n",
              "      <td>False</td>\n",
              "    </tr>\n",
              "    <tr>\n",
              "      <th>12</th>\n",
              "      <td>&lt;keras.layers.normalization.BatchNormalization...</td>\n",
              "      <td>batch_normalization_98</td>\n",
              "      <td>False</td>\n",
              "    </tr>\n",
              "    <tr>\n",
              "      <th>13</th>\n",
              "      <td>&lt;keras.layers.core.Activation object at 0x7fef...</td>\n",
              "      <td>activation_98</td>\n",
              "      <td>False</td>\n",
              "    </tr>\n",
              "    <tr>\n",
              "      <th>14</th>\n",
              "      <td>&lt;keras.layers.convolutional.Conv2D object at 0...</td>\n",
              "      <td>conv2d_99</td>\n",
              "      <td>False</td>\n",
              "    </tr>\n",
              "    <tr>\n",
              "      <th>15</th>\n",
              "      <td>&lt;keras.layers.normalization.BatchNormalization...</td>\n",
              "      <td>batch_normalization_99</td>\n",
              "      <td>False</td>\n",
              "    </tr>\n",
              "    <tr>\n",
              "      <th>16</th>\n",
              "      <td>&lt;keras.layers.core.Activation object at 0x7fef...</td>\n",
              "      <td>activation_99</td>\n",
              "      <td>False</td>\n",
              "    </tr>\n",
              "    <tr>\n",
              "      <th>17</th>\n",
              "      <td>&lt;keras.layers.pooling.MaxPooling2D object at 0...</td>\n",
              "      <td>max_pooling2d_6</td>\n",
              "      <td>False</td>\n",
              "    </tr>\n",
              "    <tr>\n",
              "      <th>18</th>\n",
              "      <td>&lt;keras.layers.convolutional.Conv2D object at 0...</td>\n",
              "      <td>conv2d_103</td>\n",
              "      <td>False</td>\n",
              "    </tr>\n",
              "    <tr>\n",
              "      <th>19</th>\n",
              "      <td>&lt;keras.layers.normalization.BatchNormalization...</td>\n",
              "      <td>batch_normalization_103</td>\n",
              "      <td>False</td>\n",
              "    </tr>\n",
              "    <tr>\n",
              "      <th>20</th>\n",
              "      <td>&lt;keras.layers.core.Activation object at 0x7fef...</td>\n",
              "      <td>activation_103</td>\n",
              "      <td>False</td>\n",
              "    </tr>\n",
              "    <tr>\n",
              "      <th>21</th>\n",
              "      <td>&lt;keras.layers.convolutional.Conv2D object at 0...</td>\n",
              "      <td>conv2d_101</td>\n",
              "      <td>False</td>\n",
              "    </tr>\n",
              "    <tr>\n",
              "      <th>22</th>\n",
              "      <td>&lt;keras.layers.convolutional.Conv2D object at 0...</td>\n",
              "      <td>conv2d_104</td>\n",
              "      <td>False</td>\n",
              "    </tr>\n",
              "    <tr>\n",
              "      <th>23</th>\n",
              "      <td>&lt;keras.layers.normalization.BatchNormalization...</td>\n",
              "      <td>batch_normalization_101</td>\n",
              "      <td>False</td>\n",
              "    </tr>\n",
              "    <tr>\n",
              "      <th>24</th>\n",
              "      <td>&lt;keras.layers.normalization.BatchNormalization...</td>\n",
              "      <td>batch_normalization_104</td>\n",
              "      <td>False</td>\n",
              "    </tr>\n",
              "    <tr>\n",
              "      <th>25</th>\n",
              "      <td>&lt;keras.layers.core.Activation object at 0x7fef...</td>\n",
              "      <td>activation_101</td>\n",
              "      <td>False</td>\n",
              "    </tr>\n",
              "    <tr>\n",
              "      <th>26</th>\n",
              "      <td>&lt;keras.layers.core.Activation object at 0x7fef...</td>\n",
              "      <td>activation_104</td>\n",
              "      <td>False</td>\n",
              "    </tr>\n",
              "    <tr>\n",
              "      <th>27</th>\n",
              "      <td>&lt;keras.layers.pooling.AveragePooling2D object ...</td>\n",
              "      <td>average_pooling2d_10</td>\n",
              "      <td>False</td>\n",
              "    </tr>\n",
              "    <tr>\n",
              "      <th>28</th>\n",
              "      <td>&lt;keras.layers.convolutional.Conv2D object at 0...</td>\n",
              "      <td>conv2d_100</td>\n",
              "      <td>False</td>\n",
              "    </tr>\n",
              "    <tr>\n",
              "      <th>29</th>\n",
              "      <td>&lt;keras.layers.convolutional.Conv2D object at 0...</td>\n",
              "      <td>conv2d_102</td>\n",
              "      <td>False</td>\n",
              "    </tr>\n",
              "    <tr>\n",
              "      <th>...</th>\n",
              "      <td>...</td>\n",
              "      <td>...</td>\n",
              "      <td>...</td>\n",
              "    </tr>\n",
              "    <tr>\n",
              "      <th>281</th>\n",
              "      <td>&lt;keras.layers.normalization.BatchNormalization...</td>\n",
              "      <td>batch_normalization_184</td>\n",
              "      <td>False</td>\n",
              "    </tr>\n",
              "    <tr>\n",
              "      <th>282</th>\n",
              "      <td>&lt;keras.layers.core.Activation object at 0x7fef...</td>\n",
              "      <td>activation_184</td>\n",
              "      <td>False</td>\n",
              "    </tr>\n",
              "    <tr>\n",
              "      <th>283</th>\n",
              "      <td>&lt;keras.layers.convolutional.Conv2D object at 0...</td>\n",
              "      <td>conv2d_181</td>\n",
              "      <td>False</td>\n",
              "    </tr>\n",
              "    <tr>\n",
              "      <th>284</th>\n",
              "      <td>&lt;keras.layers.convolutional.Conv2D object at 0...</td>\n",
              "      <td>conv2d_185</td>\n",
              "      <td>False</td>\n",
              "    </tr>\n",
              "    <tr>\n",
              "      <th>285</th>\n",
              "      <td>&lt;keras.layers.normalization.BatchNormalization...</td>\n",
              "      <td>batch_normalization_181</td>\n",
              "      <td>False</td>\n",
              "    </tr>\n",
              "    <tr>\n",
              "      <th>286</th>\n",
              "      <td>&lt;keras.layers.normalization.BatchNormalization...</td>\n",
              "      <td>batch_normalization_185</td>\n",
              "      <td>False</td>\n",
              "    </tr>\n",
              "    <tr>\n",
              "      <th>287</th>\n",
              "      <td>&lt;keras.layers.core.Activation object at 0x7fef...</td>\n",
              "      <td>activation_181</td>\n",
              "      <td>False</td>\n",
              "    </tr>\n",
              "    <tr>\n",
              "      <th>288</th>\n",
              "      <td>&lt;keras.layers.core.Activation object at 0x7fef...</td>\n",
              "      <td>activation_185</td>\n",
              "      <td>False</td>\n",
              "    </tr>\n",
              "    <tr>\n",
              "      <th>289</th>\n",
              "      <td>&lt;keras.layers.convolutional.Conv2D object at 0...</td>\n",
              "      <td>conv2d_182</td>\n",
              "      <td>False</td>\n",
              "    </tr>\n",
              "    <tr>\n",
              "      <th>290</th>\n",
              "      <td>&lt;keras.layers.convolutional.Conv2D object at 0...</td>\n",
              "      <td>conv2d_183</td>\n",
              "      <td>False</td>\n",
              "    </tr>\n",
              "    <tr>\n",
              "      <th>291</th>\n",
              "      <td>&lt;keras.layers.convolutional.Conv2D object at 0...</td>\n",
              "      <td>conv2d_186</td>\n",
              "      <td>False</td>\n",
              "    </tr>\n",
              "    <tr>\n",
              "      <th>292</th>\n",
              "      <td>&lt;keras.layers.convolutional.Conv2D object at 0...</td>\n",
              "      <td>conv2d_187</td>\n",
              "      <td>False</td>\n",
              "    </tr>\n",
              "    <tr>\n",
              "      <th>293</th>\n",
              "      <td>&lt;keras.layers.pooling.AveragePooling2D object ...</td>\n",
              "      <td>average_pooling2d_18</td>\n",
              "      <td>False</td>\n",
              "    </tr>\n",
              "    <tr>\n",
              "      <th>294</th>\n",
              "      <td>&lt;keras.layers.convolutional.Conv2D object at 0...</td>\n",
              "      <td>conv2d_180</td>\n",
              "      <td>False</td>\n",
              "    </tr>\n",
              "    <tr>\n",
              "      <th>295</th>\n",
              "      <td>&lt;keras.layers.normalization.BatchNormalization...</td>\n",
              "      <td>batch_normalization_182</td>\n",
              "      <td>False</td>\n",
              "    </tr>\n",
              "    <tr>\n",
              "      <th>296</th>\n",
              "      <td>&lt;keras.layers.normalization.BatchNormalization...</td>\n",
              "      <td>batch_normalization_183</td>\n",
              "      <td>False</td>\n",
              "    </tr>\n",
              "    <tr>\n",
              "      <th>297</th>\n",
              "      <td>&lt;keras.layers.normalization.BatchNormalization...</td>\n",
              "      <td>batch_normalization_186</td>\n",
              "      <td>False</td>\n",
              "    </tr>\n",
              "    <tr>\n",
              "      <th>298</th>\n",
              "      <td>&lt;keras.layers.normalization.BatchNormalization...</td>\n",
              "      <td>batch_normalization_187</td>\n",
              "      <td>False</td>\n",
              "    </tr>\n",
              "    <tr>\n",
              "      <th>299</th>\n",
              "      <td>&lt;keras.layers.convolutional.Conv2D object at 0...</td>\n",
              "      <td>conv2d_188</td>\n",
              "      <td>False</td>\n",
              "    </tr>\n",
              "    <tr>\n",
              "      <th>300</th>\n",
              "      <td>&lt;keras.layers.normalization.BatchNormalization...</td>\n",
              "      <td>batch_normalization_180</td>\n",
              "      <td>False</td>\n",
              "    </tr>\n",
              "    <tr>\n",
              "      <th>301</th>\n",
              "      <td>&lt;keras.layers.core.Activation object at 0x7fef...</td>\n",
              "      <td>activation_182</td>\n",
              "      <td>False</td>\n",
              "    </tr>\n",
              "    <tr>\n",
              "      <th>302</th>\n",
              "      <td>&lt;keras.layers.core.Activation object at 0x7fef...</td>\n",
              "      <td>activation_183</td>\n",
              "      <td>False</td>\n",
              "    </tr>\n",
              "    <tr>\n",
              "      <th>303</th>\n",
              "      <td>&lt;keras.layers.core.Activation object at 0x7fef...</td>\n",
              "      <td>activation_186</td>\n",
              "      <td>False</td>\n",
              "    </tr>\n",
              "    <tr>\n",
              "      <th>304</th>\n",
              "      <td>&lt;keras.layers.core.Activation object at 0x7fef...</td>\n",
              "      <td>activation_187</td>\n",
              "      <td>False</td>\n",
              "    </tr>\n",
              "    <tr>\n",
              "      <th>305</th>\n",
              "      <td>&lt;keras.layers.normalization.BatchNormalization...</td>\n",
              "      <td>batch_normalization_188</td>\n",
              "      <td>False</td>\n",
              "    </tr>\n",
              "    <tr>\n",
              "      <th>306</th>\n",
              "      <td>&lt;keras.layers.core.Activation object at 0x7fef...</td>\n",
              "      <td>activation_180</td>\n",
              "      <td>False</td>\n",
              "    </tr>\n",
              "    <tr>\n",
              "      <th>307</th>\n",
              "      <td>&lt;keras.layers.merge.Concatenate object at 0x7f...</td>\n",
              "      <td>mixed9_1</td>\n",
              "      <td>False</td>\n",
              "    </tr>\n",
              "    <tr>\n",
              "      <th>308</th>\n",
              "      <td>&lt;keras.layers.merge.Concatenate object at 0x7f...</td>\n",
              "      <td>concatenate_4</td>\n",
              "      <td>False</td>\n",
              "    </tr>\n",
              "    <tr>\n",
              "      <th>309</th>\n",
              "      <td>&lt;keras.layers.core.Activation object at 0x7fef...</td>\n",
              "      <td>activation_188</td>\n",
              "      <td>False</td>\n",
              "    </tr>\n",
              "    <tr>\n",
              "      <th>310</th>\n",
              "      <td>&lt;keras.layers.merge.Concatenate object at 0x7f...</td>\n",
              "      <td>mixed10</td>\n",
              "      <td>False</td>\n",
              "    </tr>\n",
              "  </tbody>\n",
              "</table>\n",
              "<p>311 rows × 3 columns</p>\n",
              "</div>"
            ],
            "text/plain": [
              "                                            Layer Type  \\\n",
              "0    <keras.engine.input_layer.InputLayer object at...   \n",
              "1    <keras.layers.convolutional.Conv2D object at 0...   \n",
              "2    <keras.layers.normalization.BatchNormalization...   \n",
              "3    <keras.layers.core.Activation object at 0x7fef...   \n",
              "4    <keras.layers.convolutional.Conv2D object at 0...   \n",
              "5    <keras.layers.normalization.BatchNormalization...   \n",
              "6    <keras.layers.core.Activation object at 0x7fef...   \n",
              "7    <keras.layers.convolutional.Conv2D object at 0...   \n",
              "8    <keras.layers.normalization.BatchNormalization...   \n",
              "9    <keras.layers.core.Activation object at 0x7fef...   \n",
              "10   <keras.layers.pooling.MaxPooling2D object at 0...   \n",
              "11   <keras.layers.convolutional.Conv2D object at 0...   \n",
              "12   <keras.layers.normalization.BatchNormalization...   \n",
              "13   <keras.layers.core.Activation object at 0x7fef...   \n",
              "14   <keras.layers.convolutional.Conv2D object at 0...   \n",
              "15   <keras.layers.normalization.BatchNormalization...   \n",
              "16   <keras.layers.core.Activation object at 0x7fef...   \n",
              "17   <keras.layers.pooling.MaxPooling2D object at 0...   \n",
              "18   <keras.layers.convolutional.Conv2D object at 0...   \n",
              "19   <keras.layers.normalization.BatchNormalization...   \n",
              "20   <keras.layers.core.Activation object at 0x7fef...   \n",
              "21   <keras.layers.convolutional.Conv2D object at 0...   \n",
              "22   <keras.layers.convolutional.Conv2D object at 0...   \n",
              "23   <keras.layers.normalization.BatchNormalization...   \n",
              "24   <keras.layers.normalization.BatchNormalization...   \n",
              "25   <keras.layers.core.Activation object at 0x7fef...   \n",
              "26   <keras.layers.core.Activation object at 0x7fef...   \n",
              "27   <keras.layers.pooling.AveragePooling2D object ...   \n",
              "28   <keras.layers.convolutional.Conv2D object at 0...   \n",
              "29   <keras.layers.convolutional.Conv2D object at 0...   \n",
              "..                                                 ...   \n",
              "281  <keras.layers.normalization.BatchNormalization...   \n",
              "282  <keras.layers.core.Activation object at 0x7fef...   \n",
              "283  <keras.layers.convolutional.Conv2D object at 0...   \n",
              "284  <keras.layers.convolutional.Conv2D object at 0...   \n",
              "285  <keras.layers.normalization.BatchNormalization...   \n",
              "286  <keras.layers.normalization.BatchNormalization...   \n",
              "287  <keras.layers.core.Activation object at 0x7fef...   \n",
              "288  <keras.layers.core.Activation object at 0x7fef...   \n",
              "289  <keras.layers.convolutional.Conv2D object at 0...   \n",
              "290  <keras.layers.convolutional.Conv2D object at 0...   \n",
              "291  <keras.layers.convolutional.Conv2D object at 0...   \n",
              "292  <keras.layers.convolutional.Conv2D object at 0...   \n",
              "293  <keras.layers.pooling.AveragePooling2D object ...   \n",
              "294  <keras.layers.convolutional.Conv2D object at 0...   \n",
              "295  <keras.layers.normalization.BatchNormalization...   \n",
              "296  <keras.layers.normalization.BatchNormalization...   \n",
              "297  <keras.layers.normalization.BatchNormalization...   \n",
              "298  <keras.layers.normalization.BatchNormalization...   \n",
              "299  <keras.layers.convolutional.Conv2D object at 0...   \n",
              "300  <keras.layers.normalization.BatchNormalization...   \n",
              "301  <keras.layers.core.Activation object at 0x7fef...   \n",
              "302  <keras.layers.core.Activation object at 0x7fef...   \n",
              "303  <keras.layers.core.Activation object at 0x7fef...   \n",
              "304  <keras.layers.core.Activation object at 0x7fef...   \n",
              "305  <keras.layers.normalization.BatchNormalization...   \n",
              "306  <keras.layers.core.Activation object at 0x7fef...   \n",
              "307  <keras.layers.merge.Concatenate object at 0x7f...   \n",
              "308  <keras.layers.merge.Concatenate object at 0x7f...   \n",
              "309  <keras.layers.core.Activation object at 0x7fef...   \n",
              "310  <keras.layers.merge.Concatenate object at 0x7f...   \n",
              "\n",
              "                  Layer Name  Layer Trainable  \n",
              "0                    input_4            False  \n",
              "1                  conv2d_95            False  \n",
              "2     batch_normalization_95            False  \n",
              "3              activation_95            False  \n",
              "4                  conv2d_96            False  \n",
              "5     batch_normalization_96            False  \n",
              "6              activation_96            False  \n",
              "7                  conv2d_97            False  \n",
              "8     batch_normalization_97            False  \n",
              "9              activation_97            False  \n",
              "10           max_pooling2d_5            False  \n",
              "11                 conv2d_98            False  \n",
              "12    batch_normalization_98            False  \n",
              "13             activation_98            False  \n",
              "14                 conv2d_99            False  \n",
              "15    batch_normalization_99            False  \n",
              "16             activation_99            False  \n",
              "17           max_pooling2d_6            False  \n",
              "18                conv2d_103            False  \n",
              "19   batch_normalization_103            False  \n",
              "20            activation_103            False  \n",
              "21                conv2d_101            False  \n",
              "22                conv2d_104            False  \n",
              "23   batch_normalization_101            False  \n",
              "24   batch_normalization_104            False  \n",
              "25            activation_101            False  \n",
              "26            activation_104            False  \n",
              "27      average_pooling2d_10            False  \n",
              "28                conv2d_100            False  \n",
              "29                conv2d_102            False  \n",
              "..                       ...              ...  \n",
              "281  batch_normalization_184            False  \n",
              "282           activation_184            False  \n",
              "283               conv2d_181            False  \n",
              "284               conv2d_185            False  \n",
              "285  batch_normalization_181            False  \n",
              "286  batch_normalization_185            False  \n",
              "287           activation_181            False  \n",
              "288           activation_185            False  \n",
              "289               conv2d_182            False  \n",
              "290               conv2d_183            False  \n",
              "291               conv2d_186            False  \n",
              "292               conv2d_187            False  \n",
              "293     average_pooling2d_18            False  \n",
              "294               conv2d_180            False  \n",
              "295  batch_normalization_182            False  \n",
              "296  batch_normalization_183            False  \n",
              "297  batch_normalization_186            False  \n",
              "298  batch_normalization_187            False  \n",
              "299               conv2d_188            False  \n",
              "300  batch_normalization_180            False  \n",
              "301           activation_182            False  \n",
              "302           activation_183            False  \n",
              "303           activation_186            False  \n",
              "304           activation_187            False  \n",
              "305  batch_normalization_188            False  \n",
              "306           activation_180            False  \n",
              "307                 mixed9_1            False  \n",
              "308            concatenate_4            False  \n",
              "309           activation_188            False  \n",
              "310                  mixed10            False  \n",
              "\n",
              "[311 rows x 3 columns]"
            ]
          },
          "metadata": {
            "tags": []
          },
          "execution_count": 77
        }
      ]
    },
    {
      "metadata": {
        "id": "bRhmo3s5VF3g",
        "colab_type": "text"
      },
      "cell_type": "markdown",
      "source": [
        "Now that we have all the layers frozen, let's build our fully connected layers.\n",
        "We will call Global Average pooling to maintain the same structure as the model InceptionV3, but we will add 2 fully connected layers to be able train our images to the model.\n",
        "\n",
        "  - Ps - By setting ''\"include_top\" to False, we removed the Global Average pooling and the prediction layer."
      ]
    },
    {
      "metadata": {
        "id": "Ft3-D2AQr_1c",
        "colab_type": "code",
        "outputId": "2952c97e-f86a-4c9c-af39-c64674cc18fc",
        "colab": {
          "base_uri": "https://localhost:8080/",
          "height": 11625
        }
      },
      "cell_type": "code",
      "source": [
        "# Add a global spatial average pooling layer\n",
        "out = base_inception.output # Get the output from the last layer.\n",
        "out = GlobalAveragePooling2D()(out) # Call Global Average pooling\n",
        "out = Dense(512, activation='relu')(out) # Fully connected\n",
        "out = Dense(512, activation='relu')(out) # Fully connected\n",
        "predictions = Dense(8, activation='softmax')(out)\n",
        "\n",
        "\n",
        "model = Model(inputs=base_inception.input, outputs=predictions)\n",
        "\n",
        "\n",
        "# Compile \n",
        "model.compile(optimizer = 'adam', loss = 'categorical_crossentropy', metrics = ['accuracy']) \n",
        "model.summary()"
      ],
      "execution_count": 78,
      "outputs": [
        {
          "output_type": "stream",
          "text": [
            "__________________________________________________________________________________________________\n",
            "Layer (type)                    Output Shape         Param #     Connected to                     \n",
            "==================================================================================================\n",
            "input_4 (InputLayer)            (None, 299, 299, 3)  0                                            \n",
            "__________________________________________________________________________________________________\n",
            "conv2d_95 (Conv2D)              (None, 149, 149, 32) 864         input_4[0][0]                    \n",
            "__________________________________________________________________________________________________\n",
            "batch_normalization_95 (BatchNo (None, 149, 149, 32) 96          conv2d_95[0][0]                  \n",
            "__________________________________________________________________________________________________\n",
            "activation_95 (Activation)      (None, 149, 149, 32) 0           batch_normalization_95[0][0]     \n",
            "__________________________________________________________________________________________________\n",
            "conv2d_96 (Conv2D)              (None, 147, 147, 32) 9216        activation_95[0][0]              \n",
            "__________________________________________________________________________________________________\n",
            "batch_normalization_96 (BatchNo (None, 147, 147, 32) 96          conv2d_96[0][0]                  \n",
            "__________________________________________________________________________________________________\n",
            "activation_96 (Activation)      (None, 147, 147, 32) 0           batch_normalization_96[0][0]     \n",
            "__________________________________________________________________________________________________\n",
            "conv2d_97 (Conv2D)              (None, 147, 147, 64) 18432       activation_96[0][0]              \n",
            "__________________________________________________________________________________________________\n",
            "batch_normalization_97 (BatchNo (None, 147, 147, 64) 192         conv2d_97[0][0]                  \n",
            "__________________________________________________________________________________________________\n",
            "activation_97 (Activation)      (None, 147, 147, 64) 0           batch_normalization_97[0][0]     \n",
            "__________________________________________________________________________________________________\n",
            "max_pooling2d_5 (MaxPooling2D)  (None, 73, 73, 64)   0           activation_97[0][0]              \n",
            "__________________________________________________________________________________________________\n",
            "conv2d_98 (Conv2D)              (None, 73, 73, 80)   5120        max_pooling2d_5[0][0]            \n",
            "__________________________________________________________________________________________________\n",
            "batch_normalization_98 (BatchNo (None, 73, 73, 80)   240         conv2d_98[0][0]                  \n",
            "__________________________________________________________________________________________________\n",
            "activation_98 (Activation)      (None, 73, 73, 80)   0           batch_normalization_98[0][0]     \n",
            "__________________________________________________________________________________________________\n",
            "conv2d_99 (Conv2D)              (None, 71, 71, 192)  138240      activation_98[0][0]              \n",
            "__________________________________________________________________________________________________\n",
            "batch_normalization_99 (BatchNo (None, 71, 71, 192)  576         conv2d_99[0][0]                  \n",
            "__________________________________________________________________________________________________\n",
            "activation_99 (Activation)      (None, 71, 71, 192)  0           batch_normalization_99[0][0]     \n",
            "__________________________________________________________________________________________________\n",
            "max_pooling2d_6 (MaxPooling2D)  (None, 35, 35, 192)  0           activation_99[0][0]              \n",
            "__________________________________________________________________________________________________\n",
            "conv2d_103 (Conv2D)             (None, 35, 35, 64)   12288       max_pooling2d_6[0][0]            \n",
            "__________________________________________________________________________________________________\n",
            "batch_normalization_103 (BatchN (None, 35, 35, 64)   192         conv2d_103[0][0]                 \n",
            "__________________________________________________________________________________________________\n",
            "activation_103 (Activation)     (None, 35, 35, 64)   0           batch_normalization_103[0][0]    \n",
            "__________________________________________________________________________________________________\n",
            "conv2d_101 (Conv2D)             (None, 35, 35, 48)   9216        max_pooling2d_6[0][0]            \n",
            "__________________________________________________________________________________________________\n",
            "conv2d_104 (Conv2D)             (None, 35, 35, 96)   55296       activation_103[0][0]             \n",
            "__________________________________________________________________________________________________\n",
            "batch_normalization_101 (BatchN (None, 35, 35, 48)   144         conv2d_101[0][0]                 \n",
            "__________________________________________________________________________________________________\n",
            "batch_normalization_104 (BatchN (None, 35, 35, 96)   288         conv2d_104[0][0]                 \n",
            "__________________________________________________________________________________________________\n",
            "activation_101 (Activation)     (None, 35, 35, 48)   0           batch_normalization_101[0][0]    \n",
            "__________________________________________________________________________________________________\n",
            "activation_104 (Activation)     (None, 35, 35, 96)   0           batch_normalization_104[0][0]    \n",
            "__________________________________________________________________________________________________\n",
            "average_pooling2d_10 (AveragePo (None, 35, 35, 192)  0           max_pooling2d_6[0][0]            \n",
            "__________________________________________________________________________________________________\n",
            "conv2d_100 (Conv2D)             (None, 35, 35, 64)   12288       max_pooling2d_6[0][0]            \n",
            "__________________________________________________________________________________________________\n",
            "conv2d_102 (Conv2D)             (None, 35, 35, 64)   76800       activation_101[0][0]             \n",
            "__________________________________________________________________________________________________\n",
            "conv2d_105 (Conv2D)             (None, 35, 35, 96)   82944       activation_104[0][0]             \n",
            "__________________________________________________________________________________________________\n",
            "conv2d_106 (Conv2D)             (None, 35, 35, 32)   6144        average_pooling2d_10[0][0]       \n",
            "__________________________________________________________________________________________________\n",
            "batch_normalization_100 (BatchN (None, 35, 35, 64)   192         conv2d_100[0][0]                 \n",
            "__________________________________________________________________________________________________\n",
            "batch_normalization_102 (BatchN (None, 35, 35, 64)   192         conv2d_102[0][0]                 \n",
            "__________________________________________________________________________________________________\n",
            "batch_normalization_105 (BatchN (None, 35, 35, 96)   288         conv2d_105[0][0]                 \n",
            "__________________________________________________________________________________________________\n",
            "batch_normalization_106 (BatchN (None, 35, 35, 32)   96          conv2d_106[0][0]                 \n",
            "__________________________________________________________________________________________________\n",
            "activation_100 (Activation)     (None, 35, 35, 64)   0           batch_normalization_100[0][0]    \n",
            "__________________________________________________________________________________________________\n",
            "activation_102 (Activation)     (None, 35, 35, 64)   0           batch_normalization_102[0][0]    \n",
            "__________________________________________________________________________________________________\n",
            "activation_105 (Activation)     (None, 35, 35, 96)   0           batch_normalization_105[0][0]    \n",
            "__________________________________________________________________________________________________\n",
            "activation_106 (Activation)     (None, 35, 35, 32)   0           batch_normalization_106[0][0]    \n",
            "__________________________________________________________________________________________________\n",
            "mixed0 (Concatenate)            (None, 35, 35, 256)  0           activation_100[0][0]             \n",
            "                                                                 activation_102[0][0]             \n",
            "                                                                 activation_105[0][0]             \n",
            "                                                                 activation_106[0][0]             \n",
            "__________________________________________________________________________________________________\n",
            "conv2d_110 (Conv2D)             (None, 35, 35, 64)   16384       mixed0[0][0]                     \n",
            "__________________________________________________________________________________________________\n",
            "batch_normalization_110 (BatchN (None, 35, 35, 64)   192         conv2d_110[0][0]                 \n",
            "__________________________________________________________________________________________________\n",
            "activation_110 (Activation)     (None, 35, 35, 64)   0           batch_normalization_110[0][0]    \n",
            "__________________________________________________________________________________________________\n",
            "conv2d_108 (Conv2D)             (None, 35, 35, 48)   12288       mixed0[0][0]                     \n",
            "__________________________________________________________________________________________________\n",
            "conv2d_111 (Conv2D)             (None, 35, 35, 96)   55296       activation_110[0][0]             \n",
            "__________________________________________________________________________________________________\n",
            "batch_normalization_108 (BatchN (None, 35, 35, 48)   144         conv2d_108[0][0]                 \n",
            "__________________________________________________________________________________________________\n",
            "batch_normalization_111 (BatchN (None, 35, 35, 96)   288         conv2d_111[0][0]                 \n",
            "__________________________________________________________________________________________________\n",
            "activation_108 (Activation)     (None, 35, 35, 48)   0           batch_normalization_108[0][0]    \n",
            "__________________________________________________________________________________________________\n",
            "activation_111 (Activation)     (None, 35, 35, 96)   0           batch_normalization_111[0][0]    \n",
            "__________________________________________________________________________________________________\n",
            "average_pooling2d_11 (AveragePo (None, 35, 35, 256)  0           mixed0[0][0]                     \n",
            "__________________________________________________________________________________________________\n",
            "conv2d_107 (Conv2D)             (None, 35, 35, 64)   16384       mixed0[0][0]                     \n",
            "__________________________________________________________________________________________________\n",
            "conv2d_109 (Conv2D)             (None, 35, 35, 64)   76800       activation_108[0][0]             \n",
            "__________________________________________________________________________________________________\n",
            "conv2d_112 (Conv2D)             (None, 35, 35, 96)   82944       activation_111[0][0]             \n",
            "__________________________________________________________________________________________________\n",
            "conv2d_113 (Conv2D)             (None, 35, 35, 64)   16384       average_pooling2d_11[0][0]       \n",
            "__________________________________________________________________________________________________\n",
            "batch_normalization_107 (BatchN (None, 35, 35, 64)   192         conv2d_107[0][0]                 \n",
            "__________________________________________________________________________________________________\n",
            "batch_normalization_109 (BatchN (None, 35, 35, 64)   192         conv2d_109[0][0]                 \n",
            "__________________________________________________________________________________________________\n",
            "batch_normalization_112 (BatchN (None, 35, 35, 96)   288         conv2d_112[0][0]                 \n",
            "__________________________________________________________________________________________________\n",
            "batch_normalization_113 (BatchN (None, 35, 35, 64)   192         conv2d_113[0][0]                 \n",
            "__________________________________________________________________________________________________\n",
            "activation_107 (Activation)     (None, 35, 35, 64)   0           batch_normalization_107[0][0]    \n",
            "__________________________________________________________________________________________________\n",
            "activation_109 (Activation)     (None, 35, 35, 64)   0           batch_normalization_109[0][0]    \n",
            "__________________________________________________________________________________________________\n",
            "activation_112 (Activation)     (None, 35, 35, 96)   0           batch_normalization_112[0][0]    \n",
            "__________________________________________________________________________________________________\n",
            "activation_113 (Activation)     (None, 35, 35, 64)   0           batch_normalization_113[0][0]    \n",
            "__________________________________________________________________________________________________\n",
            "mixed1 (Concatenate)            (None, 35, 35, 288)  0           activation_107[0][0]             \n",
            "                                                                 activation_109[0][0]             \n",
            "                                                                 activation_112[0][0]             \n",
            "                                                                 activation_113[0][0]             \n",
            "__________________________________________________________________________________________________\n",
            "conv2d_117 (Conv2D)             (None, 35, 35, 64)   18432       mixed1[0][0]                     \n",
            "__________________________________________________________________________________________________\n",
            "batch_normalization_117 (BatchN (None, 35, 35, 64)   192         conv2d_117[0][0]                 \n",
            "__________________________________________________________________________________________________\n",
            "activation_117 (Activation)     (None, 35, 35, 64)   0           batch_normalization_117[0][0]    \n",
            "__________________________________________________________________________________________________\n",
            "conv2d_115 (Conv2D)             (None, 35, 35, 48)   13824       mixed1[0][0]                     \n",
            "__________________________________________________________________________________________________\n",
            "conv2d_118 (Conv2D)             (None, 35, 35, 96)   55296       activation_117[0][0]             \n",
            "__________________________________________________________________________________________________\n",
            "batch_normalization_115 (BatchN (None, 35, 35, 48)   144         conv2d_115[0][0]                 \n",
            "__________________________________________________________________________________________________\n",
            "batch_normalization_118 (BatchN (None, 35, 35, 96)   288         conv2d_118[0][0]                 \n",
            "__________________________________________________________________________________________________\n",
            "activation_115 (Activation)     (None, 35, 35, 48)   0           batch_normalization_115[0][0]    \n",
            "__________________________________________________________________________________________________\n",
            "activation_118 (Activation)     (None, 35, 35, 96)   0           batch_normalization_118[0][0]    \n",
            "__________________________________________________________________________________________________\n",
            "average_pooling2d_12 (AveragePo (None, 35, 35, 288)  0           mixed1[0][0]                     \n",
            "__________________________________________________________________________________________________\n",
            "conv2d_114 (Conv2D)             (None, 35, 35, 64)   18432       mixed1[0][0]                     \n",
            "__________________________________________________________________________________________________\n",
            "conv2d_116 (Conv2D)             (None, 35, 35, 64)   76800       activation_115[0][0]             \n",
            "__________________________________________________________________________________________________\n",
            "conv2d_119 (Conv2D)             (None, 35, 35, 96)   82944       activation_118[0][0]             \n",
            "__________________________________________________________________________________________________\n",
            "conv2d_120 (Conv2D)             (None, 35, 35, 64)   18432       average_pooling2d_12[0][0]       \n",
            "__________________________________________________________________________________________________\n",
            "batch_normalization_114 (BatchN (None, 35, 35, 64)   192         conv2d_114[0][0]                 \n",
            "__________________________________________________________________________________________________\n",
            "batch_normalization_116 (BatchN (None, 35, 35, 64)   192         conv2d_116[0][0]                 \n",
            "__________________________________________________________________________________________________\n",
            "batch_normalization_119 (BatchN (None, 35, 35, 96)   288         conv2d_119[0][0]                 \n",
            "__________________________________________________________________________________________________\n",
            "batch_normalization_120 (BatchN (None, 35, 35, 64)   192         conv2d_120[0][0]                 \n",
            "__________________________________________________________________________________________________\n",
            "activation_114 (Activation)     (None, 35, 35, 64)   0           batch_normalization_114[0][0]    \n",
            "__________________________________________________________________________________________________\n",
            "activation_116 (Activation)     (None, 35, 35, 64)   0           batch_normalization_116[0][0]    \n",
            "__________________________________________________________________________________________________\n",
            "activation_119 (Activation)     (None, 35, 35, 96)   0           batch_normalization_119[0][0]    \n",
            "__________________________________________________________________________________________________\n",
            "activation_120 (Activation)     (None, 35, 35, 64)   0           batch_normalization_120[0][0]    \n",
            "__________________________________________________________________________________________________\n",
            "mixed2 (Concatenate)            (None, 35, 35, 288)  0           activation_114[0][0]             \n",
            "                                                                 activation_116[0][0]             \n",
            "                                                                 activation_119[0][0]             \n",
            "                                                                 activation_120[0][0]             \n",
            "__________________________________________________________________________________________________\n",
            "conv2d_122 (Conv2D)             (None, 35, 35, 64)   18432       mixed2[0][0]                     \n",
            "__________________________________________________________________________________________________\n",
            "batch_normalization_122 (BatchN (None, 35, 35, 64)   192         conv2d_122[0][0]                 \n",
            "__________________________________________________________________________________________________\n",
            "activation_122 (Activation)     (None, 35, 35, 64)   0           batch_normalization_122[0][0]    \n",
            "__________________________________________________________________________________________________\n",
            "conv2d_123 (Conv2D)             (None, 35, 35, 96)   55296       activation_122[0][0]             \n",
            "__________________________________________________________________________________________________\n",
            "batch_normalization_123 (BatchN (None, 35, 35, 96)   288         conv2d_123[0][0]                 \n",
            "__________________________________________________________________________________________________\n",
            "activation_123 (Activation)     (None, 35, 35, 96)   0           batch_normalization_123[0][0]    \n",
            "__________________________________________________________________________________________________\n",
            "conv2d_121 (Conv2D)             (None, 17, 17, 384)  995328      mixed2[0][0]                     \n",
            "__________________________________________________________________________________________________\n",
            "conv2d_124 (Conv2D)             (None, 17, 17, 96)   82944       activation_123[0][0]             \n",
            "__________________________________________________________________________________________________\n",
            "batch_normalization_121 (BatchN (None, 17, 17, 384)  1152        conv2d_121[0][0]                 \n",
            "__________________________________________________________________________________________________\n",
            "batch_normalization_124 (BatchN (None, 17, 17, 96)   288         conv2d_124[0][0]                 \n",
            "__________________________________________________________________________________________________\n",
            "activation_121 (Activation)     (None, 17, 17, 384)  0           batch_normalization_121[0][0]    \n",
            "__________________________________________________________________________________________________\n",
            "activation_124 (Activation)     (None, 17, 17, 96)   0           batch_normalization_124[0][0]    \n",
            "__________________________________________________________________________________________________\n",
            "max_pooling2d_7 (MaxPooling2D)  (None, 17, 17, 288)  0           mixed2[0][0]                     \n",
            "__________________________________________________________________________________________________\n",
            "mixed3 (Concatenate)            (None, 17, 17, 768)  0           activation_121[0][0]             \n",
            "                                                                 activation_124[0][0]             \n",
            "                                                                 max_pooling2d_7[0][0]            \n",
            "__________________________________________________________________________________________________\n",
            "conv2d_129 (Conv2D)             (None, 17, 17, 128)  98304       mixed3[0][0]                     \n",
            "__________________________________________________________________________________________________\n",
            "batch_normalization_129 (BatchN (None, 17, 17, 128)  384         conv2d_129[0][0]                 \n",
            "__________________________________________________________________________________________________\n",
            "activation_129 (Activation)     (None, 17, 17, 128)  0           batch_normalization_129[0][0]    \n",
            "__________________________________________________________________________________________________\n",
            "conv2d_130 (Conv2D)             (None, 17, 17, 128)  114688      activation_129[0][0]             \n",
            "__________________________________________________________________________________________________\n",
            "batch_normalization_130 (BatchN (None, 17, 17, 128)  384         conv2d_130[0][0]                 \n",
            "__________________________________________________________________________________________________\n",
            "activation_130 (Activation)     (None, 17, 17, 128)  0           batch_normalization_130[0][0]    \n",
            "__________________________________________________________________________________________________\n",
            "conv2d_126 (Conv2D)             (None, 17, 17, 128)  98304       mixed3[0][0]                     \n",
            "__________________________________________________________________________________________________\n",
            "conv2d_131 (Conv2D)             (None, 17, 17, 128)  114688      activation_130[0][0]             \n",
            "__________________________________________________________________________________________________\n",
            "batch_normalization_126 (BatchN (None, 17, 17, 128)  384         conv2d_126[0][0]                 \n",
            "__________________________________________________________________________________________________\n",
            "batch_normalization_131 (BatchN (None, 17, 17, 128)  384         conv2d_131[0][0]                 \n",
            "__________________________________________________________________________________________________\n",
            "activation_126 (Activation)     (None, 17, 17, 128)  0           batch_normalization_126[0][0]    \n",
            "__________________________________________________________________________________________________\n",
            "activation_131 (Activation)     (None, 17, 17, 128)  0           batch_normalization_131[0][0]    \n",
            "__________________________________________________________________________________________________\n",
            "conv2d_127 (Conv2D)             (None, 17, 17, 128)  114688      activation_126[0][0]             \n",
            "__________________________________________________________________________________________________\n",
            "conv2d_132 (Conv2D)             (None, 17, 17, 128)  114688      activation_131[0][0]             \n",
            "__________________________________________________________________________________________________\n",
            "batch_normalization_127 (BatchN (None, 17, 17, 128)  384         conv2d_127[0][0]                 \n",
            "__________________________________________________________________________________________________\n",
            "batch_normalization_132 (BatchN (None, 17, 17, 128)  384         conv2d_132[0][0]                 \n",
            "__________________________________________________________________________________________________\n",
            "activation_127 (Activation)     (None, 17, 17, 128)  0           batch_normalization_127[0][0]    \n",
            "__________________________________________________________________________________________________\n",
            "activation_132 (Activation)     (None, 17, 17, 128)  0           batch_normalization_132[0][0]    \n",
            "__________________________________________________________________________________________________\n",
            "average_pooling2d_13 (AveragePo (None, 17, 17, 768)  0           mixed3[0][0]                     \n",
            "__________________________________________________________________________________________________\n",
            "conv2d_125 (Conv2D)             (None, 17, 17, 192)  147456      mixed3[0][0]                     \n",
            "__________________________________________________________________________________________________\n",
            "conv2d_128 (Conv2D)             (None, 17, 17, 192)  172032      activation_127[0][0]             \n",
            "__________________________________________________________________________________________________\n",
            "conv2d_133 (Conv2D)             (None, 17, 17, 192)  172032      activation_132[0][0]             \n",
            "__________________________________________________________________________________________________\n",
            "conv2d_134 (Conv2D)             (None, 17, 17, 192)  147456      average_pooling2d_13[0][0]       \n",
            "__________________________________________________________________________________________________\n",
            "batch_normalization_125 (BatchN (None, 17, 17, 192)  576         conv2d_125[0][0]                 \n",
            "__________________________________________________________________________________________________\n",
            "batch_normalization_128 (BatchN (None, 17, 17, 192)  576         conv2d_128[0][0]                 \n",
            "__________________________________________________________________________________________________\n",
            "batch_normalization_133 (BatchN (None, 17, 17, 192)  576         conv2d_133[0][0]                 \n",
            "__________________________________________________________________________________________________\n",
            "batch_normalization_134 (BatchN (None, 17, 17, 192)  576         conv2d_134[0][0]                 \n",
            "__________________________________________________________________________________________________\n",
            "activation_125 (Activation)     (None, 17, 17, 192)  0           batch_normalization_125[0][0]    \n",
            "__________________________________________________________________________________________________\n",
            "activation_128 (Activation)     (None, 17, 17, 192)  0           batch_normalization_128[0][0]    \n",
            "__________________________________________________________________________________________________\n",
            "activation_133 (Activation)     (None, 17, 17, 192)  0           batch_normalization_133[0][0]    \n",
            "__________________________________________________________________________________________________\n",
            "activation_134 (Activation)     (None, 17, 17, 192)  0           batch_normalization_134[0][0]    \n",
            "__________________________________________________________________________________________________\n",
            "mixed4 (Concatenate)            (None, 17, 17, 768)  0           activation_125[0][0]             \n",
            "                                                                 activation_128[0][0]             \n",
            "                                                                 activation_133[0][0]             \n",
            "                                                                 activation_134[0][0]             \n",
            "__________________________________________________________________________________________________\n",
            "conv2d_139 (Conv2D)             (None, 17, 17, 160)  122880      mixed4[0][0]                     \n",
            "__________________________________________________________________________________________________\n",
            "batch_normalization_139 (BatchN (None, 17, 17, 160)  480         conv2d_139[0][0]                 \n",
            "__________________________________________________________________________________________________\n",
            "activation_139 (Activation)     (None, 17, 17, 160)  0           batch_normalization_139[0][0]    \n",
            "__________________________________________________________________________________________________\n",
            "conv2d_140 (Conv2D)             (None, 17, 17, 160)  179200      activation_139[0][0]             \n",
            "__________________________________________________________________________________________________\n",
            "batch_normalization_140 (BatchN (None, 17, 17, 160)  480         conv2d_140[0][0]                 \n",
            "__________________________________________________________________________________________________\n",
            "activation_140 (Activation)     (None, 17, 17, 160)  0           batch_normalization_140[0][0]    \n",
            "__________________________________________________________________________________________________\n",
            "conv2d_136 (Conv2D)             (None, 17, 17, 160)  122880      mixed4[0][0]                     \n",
            "__________________________________________________________________________________________________\n",
            "conv2d_141 (Conv2D)             (None, 17, 17, 160)  179200      activation_140[0][0]             \n",
            "__________________________________________________________________________________________________\n",
            "batch_normalization_136 (BatchN (None, 17, 17, 160)  480         conv2d_136[0][0]                 \n",
            "__________________________________________________________________________________________________\n",
            "batch_normalization_141 (BatchN (None, 17, 17, 160)  480         conv2d_141[0][0]                 \n",
            "__________________________________________________________________________________________________\n",
            "activation_136 (Activation)     (None, 17, 17, 160)  0           batch_normalization_136[0][0]    \n",
            "__________________________________________________________________________________________________\n",
            "activation_141 (Activation)     (None, 17, 17, 160)  0           batch_normalization_141[0][0]    \n",
            "__________________________________________________________________________________________________\n",
            "conv2d_137 (Conv2D)             (None, 17, 17, 160)  179200      activation_136[0][0]             \n",
            "__________________________________________________________________________________________________\n",
            "conv2d_142 (Conv2D)             (None, 17, 17, 160)  179200      activation_141[0][0]             \n",
            "__________________________________________________________________________________________________\n",
            "batch_normalization_137 (BatchN (None, 17, 17, 160)  480         conv2d_137[0][0]                 \n",
            "__________________________________________________________________________________________________\n",
            "batch_normalization_142 (BatchN (None, 17, 17, 160)  480         conv2d_142[0][0]                 \n",
            "__________________________________________________________________________________________________\n",
            "activation_137 (Activation)     (None, 17, 17, 160)  0           batch_normalization_137[0][0]    \n",
            "__________________________________________________________________________________________________\n",
            "activation_142 (Activation)     (None, 17, 17, 160)  0           batch_normalization_142[0][0]    \n",
            "__________________________________________________________________________________________________\n",
            "average_pooling2d_14 (AveragePo (None, 17, 17, 768)  0           mixed4[0][0]                     \n",
            "__________________________________________________________________________________________________\n",
            "conv2d_135 (Conv2D)             (None, 17, 17, 192)  147456      mixed4[0][0]                     \n",
            "__________________________________________________________________________________________________\n",
            "conv2d_138 (Conv2D)             (None, 17, 17, 192)  215040      activation_137[0][0]             \n",
            "__________________________________________________________________________________________________\n",
            "conv2d_143 (Conv2D)             (None, 17, 17, 192)  215040      activation_142[0][0]             \n",
            "__________________________________________________________________________________________________\n",
            "conv2d_144 (Conv2D)             (None, 17, 17, 192)  147456      average_pooling2d_14[0][0]       \n",
            "__________________________________________________________________________________________________\n",
            "batch_normalization_135 (BatchN (None, 17, 17, 192)  576         conv2d_135[0][0]                 \n",
            "__________________________________________________________________________________________________\n",
            "batch_normalization_138 (BatchN (None, 17, 17, 192)  576         conv2d_138[0][0]                 \n",
            "__________________________________________________________________________________________________\n",
            "batch_normalization_143 (BatchN (None, 17, 17, 192)  576         conv2d_143[0][0]                 \n",
            "__________________________________________________________________________________________________\n",
            "batch_normalization_144 (BatchN (None, 17, 17, 192)  576         conv2d_144[0][0]                 \n",
            "__________________________________________________________________________________________________\n",
            "activation_135 (Activation)     (None, 17, 17, 192)  0           batch_normalization_135[0][0]    \n",
            "__________________________________________________________________________________________________\n",
            "activation_138 (Activation)     (None, 17, 17, 192)  0           batch_normalization_138[0][0]    \n",
            "__________________________________________________________________________________________________\n",
            "activation_143 (Activation)     (None, 17, 17, 192)  0           batch_normalization_143[0][0]    \n",
            "__________________________________________________________________________________________________\n",
            "activation_144 (Activation)     (None, 17, 17, 192)  0           batch_normalization_144[0][0]    \n",
            "__________________________________________________________________________________________________\n",
            "mixed5 (Concatenate)            (None, 17, 17, 768)  0           activation_135[0][0]             \n",
            "                                                                 activation_138[0][0]             \n",
            "                                                                 activation_143[0][0]             \n",
            "                                                                 activation_144[0][0]             \n",
            "__________________________________________________________________________________________________\n",
            "conv2d_149 (Conv2D)             (None, 17, 17, 160)  122880      mixed5[0][0]                     \n",
            "__________________________________________________________________________________________________\n",
            "batch_normalization_149 (BatchN (None, 17, 17, 160)  480         conv2d_149[0][0]                 \n",
            "__________________________________________________________________________________________________\n",
            "activation_149 (Activation)     (None, 17, 17, 160)  0           batch_normalization_149[0][0]    \n",
            "__________________________________________________________________________________________________\n",
            "conv2d_150 (Conv2D)             (None, 17, 17, 160)  179200      activation_149[0][0]             \n",
            "__________________________________________________________________________________________________\n",
            "batch_normalization_150 (BatchN (None, 17, 17, 160)  480         conv2d_150[0][0]                 \n",
            "__________________________________________________________________________________________________\n",
            "activation_150 (Activation)     (None, 17, 17, 160)  0           batch_normalization_150[0][0]    \n",
            "__________________________________________________________________________________________________\n",
            "conv2d_146 (Conv2D)             (None, 17, 17, 160)  122880      mixed5[0][0]                     \n",
            "__________________________________________________________________________________________________\n",
            "conv2d_151 (Conv2D)             (None, 17, 17, 160)  179200      activation_150[0][0]             \n",
            "__________________________________________________________________________________________________\n",
            "batch_normalization_146 (BatchN (None, 17, 17, 160)  480         conv2d_146[0][0]                 \n",
            "__________________________________________________________________________________________________\n",
            "batch_normalization_151 (BatchN (None, 17, 17, 160)  480         conv2d_151[0][0]                 \n",
            "__________________________________________________________________________________________________\n",
            "activation_146 (Activation)     (None, 17, 17, 160)  0           batch_normalization_146[0][0]    \n",
            "__________________________________________________________________________________________________\n",
            "activation_151 (Activation)     (None, 17, 17, 160)  0           batch_normalization_151[0][0]    \n",
            "__________________________________________________________________________________________________\n",
            "conv2d_147 (Conv2D)             (None, 17, 17, 160)  179200      activation_146[0][0]             \n",
            "__________________________________________________________________________________________________\n",
            "conv2d_152 (Conv2D)             (None, 17, 17, 160)  179200      activation_151[0][0]             \n",
            "__________________________________________________________________________________________________\n",
            "batch_normalization_147 (BatchN (None, 17, 17, 160)  480         conv2d_147[0][0]                 \n",
            "__________________________________________________________________________________________________\n",
            "batch_normalization_152 (BatchN (None, 17, 17, 160)  480         conv2d_152[0][0]                 \n",
            "__________________________________________________________________________________________________\n",
            "activation_147 (Activation)     (None, 17, 17, 160)  0           batch_normalization_147[0][0]    \n",
            "__________________________________________________________________________________________________\n",
            "activation_152 (Activation)     (None, 17, 17, 160)  0           batch_normalization_152[0][0]    \n",
            "__________________________________________________________________________________________________\n",
            "average_pooling2d_15 (AveragePo (None, 17, 17, 768)  0           mixed5[0][0]                     \n",
            "__________________________________________________________________________________________________\n",
            "conv2d_145 (Conv2D)             (None, 17, 17, 192)  147456      mixed5[0][0]                     \n",
            "__________________________________________________________________________________________________\n",
            "conv2d_148 (Conv2D)             (None, 17, 17, 192)  215040      activation_147[0][0]             \n",
            "__________________________________________________________________________________________________\n",
            "conv2d_153 (Conv2D)             (None, 17, 17, 192)  215040      activation_152[0][0]             \n",
            "__________________________________________________________________________________________________\n",
            "conv2d_154 (Conv2D)             (None, 17, 17, 192)  147456      average_pooling2d_15[0][0]       \n",
            "__________________________________________________________________________________________________\n",
            "batch_normalization_145 (BatchN (None, 17, 17, 192)  576         conv2d_145[0][0]                 \n",
            "__________________________________________________________________________________________________\n",
            "batch_normalization_148 (BatchN (None, 17, 17, 192)  576         conv2d_148[0][0]                 \n",
            "__________________________________________________________________________________________________\n",
            "batch_normalization_153 (BatchN (None, 17, 17, 192)  576         conv2d_153[0][0]                 \n",
            "__________________________________________________________________________________________________\n",
            "batch_normalization_154 (BatchN (None, 17, 17, 192)  576         conv2d_154[0][0]                 \n",
            "__________________________________________________________________________________________________\n",
            "activation_145 (Activation)     (None, 17, 17, 192)  0           batch_normalization_145[0][0]    \n",
            "__________________________________________________________________________________________________\n",
            "activation_148 (Activation)     (None, 17, 17, 192)  0           batch_normalization_148[0][0]    \n",
            "__________________________________________________________________________________________________\n",
            "activation_153 (Activation)     (None, 17, 17, 192)  0           batch_normalization_153[0][0]    \n",
            "__________________________________________________________________________________________________\n",
            "activation_154 (Activation)     (None, 17, 17, 192)  0           batch_normalization_154[0][0]    \n",
            "__________________________________________________________________________________________________\n",
            "mixed6 (Concatenate)            (None, 17, 17, 768)  0           activation_145[0][0]             \n",
            "                                                                 activation_148[0][0]             \n",
            "                                                                 activation_153[0][0]             \n",
            "                                                                 activation_154[0][0]             \n",
            "__________________________________________________________________________________________________\n",
            "conv2d_159 (Conv2D)             (None, 17, 17, 192)  147456      mixed6[0][0]                     \n",
            "__________________________________________________________________________________________________\n",
            "batch_normalization_159 (BatchN (None, 17, 17, 192)  576         conv2d_159[0][0]                 \n",
            "__________________________________________________________________________________________________\n",
            "activation_159 (Activation)     (None, 17, 17, 192)  0           batch_normalization_159[0][0]    \n",
            "__________________________________________________________________________________________________\n",
            "conv2d_160 (Conv2D)             (None, 17, 17, 192)  258048      activation_159[0][0]             \n",
            "__________________________________________________________________________________________________\n",
            "batch_normalization_160 (BatchN (None, 17, 17, 192)  576         conv2d_160[0][0]                 \n",
            "__________________________________________________________________________________________________\n",
            "activation_160 (Activation)     (None, 17, 17, 192)  0           batch_normalization_160[0][0]    \n",
            "__________________________________________________________________________________________________\n",
            "conv2d_156 (Conv2D)             (None, 17, 17, 192)  147456      mixed6[0][0]                     \n",
            "__________________________________________________________________________________________________\n",
            "conv2d_161 (Conv2D)             (None, 17, 17, 192)  258048      activation_160[0][0]             \n",
            "__________________________________________________________________________________________________\n",
            "batch_normalization_156 (BatchN (None, 17, 17, 192)  576         conv2d_156[0][0]                 \n",
            "__________________________________________________________________________________________________\n",
            "batch_normalization_161 (BatchN (None, 17, 17, 192)  576         conv2d_161[0][0]                 \n",
            "__________________________________________________________________________________________________\n",
            "activation_156 (Activation)     (None, 17, 17, 192)  0           batch_normalization_156[0][0]    \n",
            "__________________________________________________________________________________________________\n",
            "activation_161 (Activation)     (None, 17, 17, 192)  0           batch_normalization_161[0][0]    \n",
            "__________________________________________________________________________________________________\n",
            "conv2d_157 (Conv2D)             (None, 17, 17, 192)  258048      activation_156[0][0]             \n",
            "__________________________________________________________________________________________________\n",
            "conv2d_162 (Conv2D)             (None, 17, 17, 192)  258048      activation_161[0][0]             \n",
            "__________________________________________________________________________________________________\n",
            "batch_normalization_157 (BatchN (None, 17, 17, 192)  576         conv2d_157[0][0]                 \n",
            "__________________________________________________________________________________________________\n",
            "batch_normalization_162 (BatchN (None, 17, 17, 192)  576         conv2d_162[0][0]                 \n",
            "__________________________________________________________________________________________________\n",
            "activation_157 (Activation)     (None, 17, 17, 192)  0           batch_normalization_157[0][0]    \n",
            "__________________________________________________________________________________________________\n",
            "activation_162 (Activation)     (None, 17, 17, 192)  0           batch_normalization_162[0][0]    \n",
            "__________________________________________________________________________________________________\n",
            "average_pooling2d_16 (AveragePo (None, 17, 17, 768)  0           mixed6[0][0]                     \n",
            "__________________________________________________________________________________________________\n",
            "conv2d_155 (Conv2D)             (None, 17, 17, 192)  147456      mixed6[0][0]                     \n",
            "__________________________________________________________________________________________________\n",
            "conv2d_158 (Conv2D)             (None, 17, 17, 192)  258048      activation_157[0][0]             \n",
            "__________________________________________________________________________________________________\n",
            "conv2d_163 (Conv2D)             (None, 17, 17, 192)  258048      activation_162[0][0]             \n",
            "__________________________________________________________________________________________________\n",
            "conv2d_164 (Conv2D)             (None, 17, 17, 192)  147456      average_pooling2d_16[0][0]       \n",
            "__________________________________________________________________________________________________\n",
            "batch_normalization_155 (BatchN (None, 17, 17, 192)  576         conv2d_155[0][0]                 \n",
            "__________________________________________________________________________________________________\n",
            "batch_normalization_158 (BatchN (None, 17, 17, 192)  576         conv2d_158[0][0]                 \n",
            "__________________________________________________________________________________________________\n",
            "batch_normalization_163 (BatchN (None, 17, 17, 192)  576         conv2d_163[0][0]                 \n",
            "__________________________________________________________________________________________________\n",
            "batch_normalization_164 (BatchN (None, 17, 17, 192)  576         conv2d_164[0][0]                 \n",
            "__________________________________________________________________________________________________\n",
            "activation_155 (Activation)     (None, 17, 17, 192)  0           batch_normalization_155[0][0]    \n",
            "__________________________________________________________________________________________________\n",
            "activation_158 (Activation)     (None, 17, 17, 192)  0           batch_normalization_158[0][0]    \n",
            "__________________________________________________________________________________________________\n",
            "activation_163 (Activation)     (None, 17, 17, 192)  0           batch_normalization_163[0][0]    \n",
            "__________________________________________________________________________________________________\n",
            "activation_164 (Activation)     (None, 17, 17, 192)  0           batch_normalization_164[0][0]    \n",
            "__________________________________________________________________________________________________\n",
            "mixed7 (Concatenate)            (None, 17, 17, 768)  0           activation_155[0][0]             \n",
            "                                                                 activation_158[0][0]             \n",
            "                                                                 activation_163[0][0]             \n",
            "                                                                 activation_164[0][0]             \n",
            "__________________________________________________________________________________________________\n",
            "conv2d_167 (Conv2D)             (None, 17, 17, 192)  147456      mixed7[0][0]                     \n",
            "__________________________________________________________________________________________________\n",
            "batch_normalization_167 (BatchN (None, 17, 17, 192)  576         conv2d_167[0][0]                 \n",
            "__________________________________________________________________________________________________\n",
            "activation_167 (Activation)     (None, 17, 17, 192)  0           batch_normalization_167[0][0]    \n",
            "__________________________________________________________________________________________________\n",
            "conv2d_168 (Conv2D)             (None, 17, 17, 192)  258048      activation_167[0][0]             \n",
            "__________________________________________________________________________________________________\n",
            "batch_normalization_168 (BatchN (None, 17, 17, 192)  576         conv2d_168[0][0]                 \n",
            "__________________________________________________________________________________________________\n",
            "activation_168 (Activation)     (None, 17, 17, 192)  0           batch_normalization_168[0][0]    \n",
            "__________________________________________________________________________________________________\n",
            "conv2d_165 (Conv2D)             (None, 17, 17, 192)  147456      mixed7[0][0]                     \n",
            "__________________________________________________________________________________________________\n",
            "conv2d_169 (Conv2D)             (None, 17, 17, 192)  258048      activation_168[0][0]             \n",
            "__________________________________________________________________________________________________\n",
            "batch_normalization_165 (BatchN (None, 17, 17, 192)  576         conv2d_165[0][0]                 \n",
            "__________________________________________________________________________________________________\n",
            "batch_normalization_169 (BatchN (None, 17, 17, 192)  576         conv2d_169[0][0]                 \n",
            "__________________________________________________________________________________________________\n",
            "activation_165 (Activation)     (None, 17, 17, 192)  0           batch_normalization_165[0][0]    \n",
            "__________________________________________________________________________________________________\n",
            "activation_169 (Activation)     (None, 17, 17, 192)  0           batch_normalization_169[0][0]    \n",
            "__________________________________________________________________________________________________\n",
            "conv2d_166 (Conv2D)             (None, 8, 8, 320)    552960      activation_165[0][0]             \n",
            "__________________________________________________________________________________________________\n",
            "conv2d_170 (Conv2D)             (None, 8, 8, 192)    331776      activation_169[0][0]             \n",
            "__________________________________________________________________________________________________\n",
            "batch_normalization_166 (BatchN (None, 8, 8, 320)    960         conv2d_166[0][0]                 \n",
            "__________________________________________________________________________________________________\n",
            "batch_normalization_170 (BatchN (None, 8, 8, 192)    576         conv2d_170[0][0]                 \n",
            "__________________________________________________________________________________________________\n",
            "activation_166 (Activation)     (None, 8, 8, 320)    0           batch_normalization_166[0][0]    \n",
            "__________________________________________________________________________________________________\n",
            "activation_170 (Activation)     (None, 8, 8, 192)    0           batch_normalization_170[0][0]    \n",
            "__________________________________________________________________________________________________\n",
            "max_pooling2d_8 (MaxPooling2D)  (None, 8, 8, 768)    0           mixed7[0][0]                     \n",
            "__________________________________________________________________________________________________\n",
            "mixed8 (Concatenate)            (None, 8, 8, 1280)   0           activation_166[0][0]             \n",
            "                                                                 activation_170[0][0]             \n",
            "                                                                 max_pooling2d_8[0][0]            \n",
            "__________________________________________________________________________________________________\n",
            "conv2d_175 (Conv2D)             (None, 8, 8, 448)    573440      mixed8[0][0]                     \n",
            "__________________________________________________________________________________________________\n",
            "batch_normalization_175 (BatchN (None, 8, 8, 448)    1344        conv2d_175[0][0]                 \n",
            "__________________________________________________________________________________________________\n",
            "activation_175 (Activation)     (None, 8, 8, 448)    0           batch_normalization_175[0][0]    \n",
            "__________________________________________________________________________________________________\n",
            "conv2d_172 (Conv2D)             (None, 8, 8, 384)    491520      mixed8[0][0]                     \n",
            "__________________________________________________________________________________________________\n",
            "conv2d_176 (Conv2D)             (None, 8, 8, 384)    1548288     activation_175[0][0]             \n",
            "__________________________________________________________________________________________________\n",
            "batch_normalization_172 (BatchN (None, 8, 8, 384)    1152        conv2d_172[0][0]                 \n",
            "__________________________________________________________________________________________________\n",
            "batch_normalization_176 (BatchN (None, 8, 8, 384)    1152        conv2d_176[0][0]                 \n",
            "__________________________________________________________________________________________________\n",
            "activation_172 (Activation)     (None, 8, 8, 384)    0           batch_normalization_172[0][0]    \n",
            "__________________________________________________________________________________________________\n",
            "activation_176 (Activation)     (None, 8, 8, 384)    0           batch_normalization_176[0][0]    \n",
            "__________________________________________________________________________________________________\n",
            "conv2d_173 (Conv2D)             (None, 8, 8, 384)    442368      activation_172[0][0]             \n",
            "__________________________________________________________________________________________________\n",
            "conv2d_174 (Conv2D)             (None, 8, 8, 384)    442368      activation_172[0][0]             \n",
            "__________________________________________________________________________________________________\n",
            "conv2d_177 (Conv2D)             (None, 8, 8, 384)    442368      activation_176[0][0]             \n",
            "__________________________________________________________________________________________________\n",
            "conv2d_178 (Conv2D)             (None, 8, 8, 384)    442368      activation_176[0][0]             \n",
            "__________________________________________________________________________________________________\n",
            "average_pooling2d_17 (AveragePo (None, 8, 8, 1280)   0           mixed8[0][0]                     \n",
            "__________________________________________________________________________________________________\n",
            "conv2d_171 (Conv2D)             (None, 8, 8, 320)    409600      mixed8[0][0]                     \n",
            "__________________________________________________________________________________________________\n",
            "batch_normalization_173 (BatchN (None, 8, 8, 384)    1152        conv2d_173[0][0]                 \n",
            "__________________________________________________________________________________________________\n",
            "batch_normalization_174 (BatchN (None, 8, 8, 384)    1152        conv2d_174[0][0]                 \n",
            "__________________________________________________________________________________________________\n",
            "batch_normalization_177 (BatchN (None, 8, 8, 384)    1152        conv2d_177[0][0]                 \n",
            "__________________________________________________________________________________________________\n",
            "batch_normalization_178 (BatchN (None, 8, 8, 384)    1152        conv2d_178[0][0]                 \n",
            "__________________________________________________________________________________________________\n",
            "conv2d_179 (Conv2D)             (None, 8, 8, 192)    245760      average_pooling2d_17[0][0]       \n",
            "__________________________________________________________________________________________________\n",
            "batch_normalization_171 (BatchN (None, 8, 8, 320)    960         conv2d_171[0][0]                 \n",
            "__________________________________________________________________________________________________\n",
            "activation_173 (Activation)     (None, 8, 8, 384)    0           batch_normalization_173[0][0]    \n",
            "__________________________________________________________________________________________________\n",
            "activation_174 (Activation)     (None, 8, 8, 384)    0           batch_normalization_174[0][0]    \n",
            "__________________________________________________________________________________________________\n",
            "activation_177 (Activation)     (None, 8, 8, 384)    0           batch_normalization_177[0][0]    \n",
            "__________________________________________________________________________________________________\n",
            "activation_178 (Activation)     (None, 8, 8, 384)    0           batch_normalization_178[0][0]    \n",
            "__________________________________________________________________________________________________\n",
            "batch_normalization_179 (BatchN (None, 8, 8, 192)    576         conv2d_179[0][0]                 \n",
            "__________________________________________________________________________________________________\n",
            "activation_171 (Activation)     (None, 8, 8, 320)    0           batch_normalization_171[0][0]    \n",
            "__________________________________________________________________________________________________\n",
            "mixed9_0 (Concatenate)          (None, 8, 8, 768)    0           activation_173[0][0]             \n",
            "                                                                 activation_174[0][0]             \n",
            "__________________________________________________________________________________________________\n",
            "concatenate_3 (Concatenate)     (None, 8, 8, 768)    0           activation_177[0][0]             \n",
            "                                                                 activation_178[0][0]             \n",
            "__________________________________________________________________________________________________\n",
            "activation_179 (Activation)     (None, 8, 8, 192)    0           batch_normalization_179[0][0]    \n",
            "__________________________________________________________________________________________________\n",
            "mixed9 (Concatenate)            (None, 8, 8, 2048)   0           activation_171[0][0]             \n",
            "                                                                 mixed9_0[0][0]                   \n",
            "                                                                 concatenate_3[0][0]              \n",
            "                                                                 activation_179[0][0]             \n",
            "__________________________________________________________________________________________________\n",
            "conv2d_184 (Conv2D)             (None, 8, 8, 448)    917504      mixed9[0][0]                     \n",
            "__________________________________________________________________________________________________\n",
            "batch_normalization_184 (BatchN (None, 8, 8, 448)    1344        conv2d_184[0][0]                 \n",
            "__________________________________________________________________________________________________\n",
            "activation_184 (Activation)     (None, 8, 8, 448)    0           batch_normalization_184[0][0]    \n",
            "__________________________________________________________________________________________________\n",
            "conv2d_181 (Conv2D)             (None, 8, 8, 384)    786432      mixed9[0][0]                     \n",
            "__________________________________________________________________________________________________\n",
            "conv2d_185 (Conv2D)             (None, 8, 8, 384)    1548288     activation_184[0][0]             \n",
            "__________________________________________________________________________________________________\n",
            "batch_normalization_181 (BatchN (None, 8, 8, 384)    1152        conv2d_181[0][0]                 \n",
            "__________________________________________________________________________________________________\n",
            "batch_normalization_185 (BatchN (None, 8, 8, 384)    1152        conv2d_185[0][0]                 \n",
            "__________________________________________________________________________________________________\n",
            "activation_181 (Activation)     (None, 8, 8, 384)    0           batch_normalization_181[0][0]    \n",
            "__________________________________________________________________________________________________\n",
            "activation_185 (Activation)     (None, 8, 8, 384)    0           batch_normalization_185[0][0]    \n",
            "__________________________________________________________________________________________________\n",
            "conv2d_182 (Conv2D)             (None, 8, 8, 384)    442368      activation_181[0][0]             \n",
            "__________________________________________________________________________________________________\n",
            "conv2d_183 (Conv2D)             (None, 8, 8, 384)    442368      activation_181[0][0]             \n",
            "__________________________________________________________________________________________________\n",
            "conv2d_186 (Conv2D)             (None, 8, 8, 384)    442368      activation_185[0][0]             \n",
            "__________________________________________________________________________________________________\n",
            "conv2d_187 (Conv2D)             (None, 8, 8, 384)    442368      activation_185[0][0]             \n",
            "__________________________________________________________________________________________________\n",
            "average_pooling2d_18 (AveragePo (None, 8, 8, 2048)   0           mixed9[0][0]                     \n",
            "__________________________________________________________________________________________________\n",
            "conv2d_180 (Conv2D)             (None, 8, 8, 320)    655360      mixed9[0][0]                     \n",
            "__________________________________________________________________________________________________\n",
            "batch_normalization_182 (BatchN (None, 8, 8, 384)    1152        conv2d_182[0][0]                 \n",
            "__________________________________________________________________________________________________\n",
            "batch_normalization_183 (BatchN (None, 8, 8, 384)    1152        conv2d_183[0][0]                 \n",
            "__________________________________________________________________________________________________\n",
            "batch_normalization_186 (BatchN (None, 8, 8, 384)    1152        conv2d_186[0][0]                 \n",
            "__________________________________________________________________________________________________\n",
            "batch_normalization_187 (BatchN (None, 8, 8, 384)    1152        conv2d_187[0][0]                 \n",
            "__________________________________________________________________________________________________\n",
            "conv2d_188 (Conv2D)             (None, 8, 8, 192)    393216      average_pooling2d_18[0][0]       \n",
            "__________________________________________________________________________________________________\n",
            "batch_normalization_180 (BatchN (None, 8, 8, 320)    960         conv2d_180[0][0]                 \n",
            "__________________________________________________________________________________________________\n",
            "activation_182 (Activation)     (None, 8, 8, 384)    0           batch_normalization_182[0][0]    \n",
            "__________________________________________________________________________________________________\n",
            "activation_183 (Activation)     (None, 8, 8, 384)    0           batch_normalization_183[0][0]    \n",
            "__________________________________________________________________________________________________\n",
            "activation_186 (Activation)     (None, 8, 8, 384)    0           batch_normalization_186[0][0]    \n",
            "__________________________________________________________________________________________________\n",
            "activation_187 (Activation)     (None, 8, 8, 384)    0           batch_normalization_187[0][0]    \n",
            "__________________________________________________________________________________________________\n",
            "batch_normalization_188 (BatchN (None, 8, 8, 192)    576         conv2d_188[0][0]                 \n",
            "__________________________________________________________________________________________________\n",
            "activation_180 (Activation)     (None, 8, 8, 320)    0           batch_normalization_180[0][0]    \n",
            "__________________________________________________________________________________________________\n",
            "mixed9_1 (Concatenate)          (None, 8, 8, 768)    0           activation_182[0][0]             \n",
            "                                                                 activation_183[0][0]             \n",
            "__________________________________________________________________________________________________\n",
            "concatenate_4 (Concatenate)     (None, 8, 8, 768)    0           activation_186[0][0]             \n",
            "                                                                 activation_187[0][0]             \n",
            "__________________________________________________________________________________________________\n",
            "activation_188 (Activation)     (None, 8, 8, 192)    0           batch_normalization_188[0][0]    \n",
            "__________________________________________________________________________________________________\n",
            "mixed10 (Concatenate)           (None, 8, 8, 2048)   0           activation_180[0][0]             \n",
            "                                                                 mixed9_1[0][0]                   \n",
            "                                                                 concatenate_4[0][0]              \n",
            "                                                                 activation_188[0][0]             \n",
            "__________________________________________________________________________________________________\n",
            "global_average_pooling2d_1 (Glo (None, 2048)         0           mixed10[0][0]                    \n",
            "__________________________________________________________________________________________________\n",
            "dense_19 (Dense)                (None, 512)          1049088     global_average_pooling2d_1[0][0] \n",
            "__________________________________________________________________________________________________\n",
            "dense_20 (Dense)                (None, 512)          262656      dense_19[0][0]                   \n",
            "__________________________________________________________________________________________________\n",
            "dense_21 (Dense)                (None, 8)            4104        dense_20[0][0]                   \n",
            "==================================================================================================\n",
            "Total params: 23,118,632\n",
            "Trainable params: 1,315,848\n",
            "Non-trainable params: 21,802,784\n",
            "__________________________________________________________________________________________________\n"
          ],
          "name": "stdout"
        }
      ]
    },
    {
      "metadata": {
        "id": "CXhFUr20tgJ6",
        "colab_type": "code",
        "outputId": "1191b5a9-3990-4b9d-ba31-1c7b21e34419",
        "colab": {
          "base_uri": "https://localhost:8080/",
          "height": 1745
        }
      },
      "cell_type": "code",
      "source": [
        "batch_size = BATCH_SIZE\n",
        "train_steps_per_epoch = x_train.shape[0] // batch_size\n",
        "val_steps_per_epoch = x_val.shape[0] // batch_size\n",
        "\n",
        "history = model.fit_generator(train_generator,\n",
        "                              steps_per_epoch = train_steps_per_epoch,\n",
        "                              validation_data = val_generator,\n",
        "                              validation_steps = val_steps_per_epoch,\n",
        "                              epochs=50,\n",
        "                              verbose = 1)"
      ],
      "execution_count": 79,
      "outputs": [
        {
          "output_type": "stream",
          "text": [
            "Epoch 1/50\n",
            "64/64 [==============================] - 48s 758ms/step - loss: 1.1641 - acc: 0.6083 - val_loss: 0.8457 - val_acc: 0.7199\n",
            "Epoch 2/50\n",
            "64/64 [==============================] - 38s 600ms/step - loss: 0.6769 - acc: 0.7712 - val_loss: 0.8047 - val_acc: 0.7590\n",
            "Epoch 3/50\n",
            "64/64 [==============================] - 41s 641ms/step - loss: 0.5973 - acc: 0.8004 - val_loss: 0.5481 - val_acc: 0.8042\n",
            "Epoch 4/50\n",
            "64/64 [==============================] - 40s 627ms/step - loss: 0.4815 - acc: 0.8350 - val_loss: 0.6772 - val_acc: 0.7983\n",
            "Epoch 5/50\n",
            "64/64 [==============================] - 40s 621ms/step - loss: 0.4691 - acc: 0.8449 - val_loss: 0.5756 - val_acc: 0.8283\n",
            "Epoch 6/50\n",
            "64/64 [==============================] - 42s 659ms/step - loss: 0.3851 - acc: 0.8729 - val_loss: 0.6121 - val_acc: 0.8373\n",
            "Epoch 7/50\n",
            "64/64 [==============================] - 40s 621ms/step - loss: 0.3768 - acc: 0.8696 - val_loss: 0.8155 - val_acc: 0.7801\n",
            "Epoch 8/50\n",
            "64/64 [==============================] - 39s 616ms/step - loss: 0.3803 - acc: 0.8734 - val_loss: 0.7252 - val_acc: 0.7651\n",
            "Epoch 9/50\n",
            "64/64 [==============================] - 40s 621ms/step - loss: 0.3695 - acc: 0.8717 - val_loss: 0.8417 - val_acc: 0.7831\n",
            "Epoch 10/50\n",
            "64/64 [==============================] - 40s 625ms/step - loss: 0.3610 - acc: 0.8740 - val_loss: 0.9102 - val_acc: 0.7861\n",
            "Epoch 11/50\n",
            "64/64 [==============================] - 40s 625ms/step - loss: 0.3508 - acc: 0.8777 - val_loss: 0.8126 - val_acc: 0.7982\n",
            "Epoch 12/50\n",
            "64/64 [==============================] - 39s 616ms/step - loss: 0.3333 - acc: 0.8836 - val_loss: 0.9938 - val_acc: 0.7440\n",
            "Epoch 13/50\n",
            "64/64 [==============================] - 40s 632ms/step - loss: 0.3270 - acc: 0.8855 - val_loss: 0.8482 - val_acc: 0.8012\n",
            "Epoch 14/50\n",
            "64/64 [==============================] - 41s 639ms/step - loss: 0.3433 - acc: 0.8744 - val_loss: 0.7697 - val_acc: 0.7922\n",
            "Epoch 15/50\n",
            "64/64 [==============================] - 39s 617ms/step - loss: 0.3322 - acc: 0.8846 - val_loss: 0.7249 - val_acc: 0.7741\n",
            "Epoch 16/50\n",
            "64/64 [==============================] - 40s 623ms/step - loss: 0.2960 - acc: 0.8999 - val_loss: 0.7579 - val_acc: 0.7898\n",
            "Epoch 17/50\n",
            "64/64 [==============================] - 40s 619ms/step - loss: 0.3278 - acc: 0.8825 - val_loss: 0.7865 - val_acc: 0.7922\n",
            "Epoch 18/50\n",
            "64/64 [==============================] - 41s 642ms/step - loss: 0.3122 - acc: 0.8876 - val_loss: 0.7430 - val_acc: 0.8012\n",
            "Epoch 19/50\n",
            "64/64 [==============================] - 40s 618ms/step - loss: 0.3131 - acc: 0.8911 - val_loss: 0.6528 - val_acc: 0.8072\n",
            "Epoch 20/50\n",
            "64/64 [==============================] - 39s 615ms/step - loss: 0.3032 - acc: 0.8855 - val_loss: 0.6098 - val_acc: 0.8283\n",
            "Epoch 21/50\n",
            "64/64 [==============================] - 42s 656ms/step - loss: 0.2942 - acc: 0.8963 - val_loss: 0.6046 - val_acc: 0.8223\n",
            "Epoch 22/50\n",
            "64/64 [==============================] - 40s 621ms/step - loss: 0.2906 - acc: 0.8970 - val_loss: 0.6587 - val_acc: 0.8072\n",
            "Epoch 23/50\n",
            "64/64 [==============================] - 40s 619ms/step - loss: 0.2666 - acc: 0.9048 - val_loss: 0.8498 - val_acc: 0.7922\n",
            "Epoch 24/50\n",
            "64/64 [==============================] - 40s 619ms/step - loss: 0.3183 - acc: 0.8911 - val_loss: 0.6691 - val_acc: 0.8193\n",
            "Epoch 25/50\n",
            "64/64 [==============================] - 40s 623ms/step - loss: 0.3145 - acc: 0.8900 - val_loss: 0.6018 - val_acc: 0.8012\n",
            "Epoch 26/50\n",
            "64/64 [==============================] - 41s 639ms/step - loss: 0.2874 - acc: 0.8993 - val_loss: 0.8078 - val_acc: 0.7861\n",
            "Epoch 27/50\n",
            "64/64 [==============================] - 40s 620ms/step - loss: 0.3098 - acc: 0.8885 - val_loss: 0.6682 - val_acc: 0.8133\n",
            "Epoch 28/50\n",
            "64/64 [==============================] - 40s 627ms/step - loss: 0.2849 - acc: 0.8940 - val_loss: 0.7586 - val_acc: 0.7898\n",
            "Epoch 29/50\n",
            "64/64 [==============================] - 42s 655ms/step - loss: 0.2524 - acc: 0.9150 - val_loss: 0.7493 - val_acc: 0.8012\n",
            "Epoch 30/50\n",
            "64/64 [==============================] - 40s 621ms/step - loss: 0.2628 - acc: 0.9060 - val_loss: 0.7120 - val_acc: 0.8193\n",
            "Epoch 31/50\n",
            "64/64 [==============================] - 40s 621ms/step - loss: 0.2372 - acc: 0.9184 - val_loss: 0.6378 - val_acc: 0.8313\n",
            "Epoch 32/50\n",
            "64/64 [==============================] - 39s 616ms/step - loss: 0.2332 - acc: 0.9165 - val_loss: 0.6688 - val_acc: 0.8102\n",
            "Epoch 33/50\n",
            "64/64 [==============================] - 41s 636ms/step - loss: 0.2192 - acc: 0.9188 - val_loss: 0.7107 - val_acc: 0.8193\n",
            "Epoch 34/50\n",
            "64/64 [==============================] - 40s 622ms/step - loss: 0.2207 - acc: 0.9219 - val_loss: 0.7516 - val_acc: 0.8404\n",
            "Epoch 35/50\n",
            "64/64 [==============================] - 40s 619ms/step - loss: 0.2306 - acc: 0.9150 - val_loss: 0.7522 - val_acc: 0.8313\n",
            "Epoch 36/50\n",
            "64/64 [==============================] - 40s 622ms/step - loss: 0.2344 - acc: 0.9173 - val_loss: 0.7140 - val_acc: 0.8283\n",
            "Epoch 37/50\n",
            "64/64 [==============================] - 42s 661ms/step - loss: 0.2302 - acc: 0.9150 - val_loss: 0.6367 - val_acc: 0.8494\n",
            "Epoch 38/50\n",
            "64/64 [==============================] - 40s 621ms/step - loss: 0.2128 - acc: 0.9258 - val_loss: 0.5960 - val_acc: 0.8313\n",
            "Epoch 39/50\n",
            "64/64 [==============================] - 40s 620ms/step - loss: 0.2046 - acc: 0.9256 - val_loss: 0.8805 - val_acc: 0.8163\n",
            "Epoch 40/50\n",
            "64/64 [==============================] - 40s 626ms/step - loss: 0.2097 - acc: 0.9243 - val_loss: 0.6267 - val_acc: 0.8409\n",
            "Epoch 41/50\n",
            "64/64 [==============================] - 41s 638ms/step - loss: 0.2257 - acc: 0.9188 - val_loss: 0.8093 - val_acc: 0.8283\n",
            "Epoch 42/50\n",
            "64/64 [==============================] - 40s 623ms/step - loss: 0.1946 - acc: 0.9341 - val_loss: 1.0299 - val_acc: 0.8193\n",
            "Epoch 43/50\n",
            "64/64 [==============================] - 40s 623ms/step - loss: 0.1856 - acc: 0.9394 - val_loss: 0.8465 - val_acc: 0.8193\n",
            "Epoch 44/50\n",
            "64/64 [==============================] - 42s 650ms/step - loss: 0.2106 - acc: 0.9211 - val_loss: 0.8893 - val_acc: 0.8012\n",
            "Epoch 45/50\n",
            "64/64 [==============================] - 40s 625ms/step - loss: 0.2131 - acc: 0.9281 - val_loss: 0.7485 - val_acc: 0.7982\n",
            "Epoch 46/50\n",
            "64/64 [==============================] - 40s 619ms/step - loss: 0.1957 - acc: 0.9330 - val_loss: 1.1041 - val_acc: 0.8072\n",
            "Epoch 47/50\n",
            "64/64 [==============================] - 40s 621ms/step - loss: 0.1712 - acc: 0.9399 - val_loss: 0.8232 - val_acc: 0.8193\n",
            "Epoch 48/50\n",
            "64/64 [==============================] - 40s 621ms/step - loss: 0.1921 - acc: 0.9297 - val_loss: 1.0807 - val_acc: 0.8042\n",
            "Epoch 49/50\n",
            "64/64 [==============================] - 41s 637ms/step - loss: 0.1832 - acc: 0.9355 - val_loss: 1.0474 - val_acc: 0.8042\n",
            "Epoch 50/50\n",
            "64/64 [==============================] - 40s 617ms/step - loss: 0.1927 - acc: 0.9360 - val_loss: 1.0578 - val_acc: 0.7892\n"
          ],
          "name": "stdout"
        }
      ]
    },
    {
      "metadata": {
        "id": "SgU5DBzt6Kp6",
        "colab_type": "code",
        "colab": {}
      },
      "cell_type": "code",
      "source": [
        "model.save('drive/My Drive/furniture_categories/furniture_cnn_inception_feature_extraction.h5')"
      ],
      "execution_count": 0,
      "outputs": []
    },
    {
      "metadata": {
        "id": "XoGuwe5LtzyD",
        "colab_type": "code",
        "outputId": "2c7c34e6-c155-4c01-86eb-4932987cd2d2",
        "colab": {
          "base_uri": "https://localhost:8080/",
          "height": 494
        }
      },
      "cell_type": "code",
      "source": [
        "f, (ax1, ax2) = plt.subplots(1, 2, figsize=(15, 7))\n",
        "t = f.suptitle('CNN Model Performance', fontsize=12)\n",
        "\n",
        "epoch_list = list(range(1,51)) # Number of epochs used and it will be used as our X axis\n",
        "ax1.plot(epoch_list, history.history['acc'], label='Train Accuracy')\n",
        "ax1.plot(epoch_list, history.history['val_acc'], label='Validation Accuracy')\n",
        "ax1.set_xticks(np.arange(0,51, 3))\n",
        "ax1.set_ylabel('Accuracy Value')\n",
        "ax1.set_xlabel('Epoch')\n",
        "ax1.set_title('Accuracy')\n",
        "ax1.legend(loc='best')\n",
        "\n",
        "\n",
        "ax2.plot(epoch_list, history.history['loss'], label='Train Loss')\n",
        "ax2.plot(epoch_list, history.history['val_loss'], label='Validation Loss')\n",
        "ax2.set_xticks(np.arange(0,51, 3))\n",
        "ax2.set_ylabel('Loss Value')\n",
        "ax2.set_xlabel('Epoch')\n",
        "ax2.set_title('Loss')\n",
        "ax2.legend(loc='best')\n",
        "\n",
        "plt.show()"
      ],
      "execution_count": 81,
      "outputs": [
        {
          "output_type": "display_data",
          "data": {
            "image/png": "[encoded data removed]",
            "text/plain": [
              "<Figure size 1080x504 with 2 Axes>"
            ]
          },
          "metadata": {
            "tags": []
          }
        }
      ]
    },
    {
      "metadata": {
        "id": "uyV2f4KVevBg",
        "colab_type": "text"
      },
      "cell_type": "markdown",
      "source": [
        "The model was able to achieve a slightly higher accuracy than VGG-16, 93.6% accuracy. However, the validation accuracy was significantly lower, 78.2%."
      ]
    },
    {
      "metadata": {
        "id": "uss0nissewy9",
        "colab_type": "text"
      },
      "cell_type": "markdown",
      "source": [
        "### Result\n",
        "\n",
        "By leveraging transfer learning from VGG-16 model as feature extractor to our model, we achieved an impressive result of 93.6% accuracy and 85% validation accuracy, even though we only had a total of 3’699  images available in our dataset. Thus, being able to prove that you don’t need to have large dataset with hundreds of thousands of images to get good results."
      ]
    },
    {
      "metadata": {
        "id": "m8TjRSSOe2tv",
        "colab_type": "code",
        "colab": {}
      },
      "cell_type": "code",
      "source": [
        ""
      ],
      "execution_count": 0,
      "outputs": []
    }
  ]
}